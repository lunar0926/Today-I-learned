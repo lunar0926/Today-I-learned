{
 "cells": [
  {
   "cell_type": "code",
   "execution_count": 1,
   "metadata": {},
   "outputs": [],
   "source": [
    "import pandas as pd"
   ]
  },
  {
   "cell_type": "code",
   "execution_count": 2,
   "metadata": {},
   "outputs": [],
   "source": [
    "df1 = pd.read_csv('ex1.csv')"
   ]
  },
  {
   "cell_type": "code",
   "execution_count": 3,
   "metadata": {},
   "outputs": [
    {
     "data": {
      "text/html": [
       "<div>\n",
       "<style scoped>\n",
       "    .dataframe tbody tr th:only-of-type {\n",
       "        vertical-align: middle;\n",
       "    }\n",
       "\n",
       "    .dataframe tbody tr th {\n",
       "        vertical-align: top;\n",
       "    }\n",
       "\n",
       "    .dataframe thead th {\n",
       "        text-align: right;\n",
       "    }\n",
       "</style>\n",
       "<table border=\"1\" class=\"dataframe\">\n",
       "  <thead>\n",
       "    <tr style=\"text-align: right;\">\n",
       "      <th></th>\n",
       "      <th>Image ID</th>\n",
       "      <th>Diagnosis</th>\n",
       "      <th>Mean Radius</th>\n",
       "      <th>Mean Perimeter</th>\n",
       "      <th>Mean Area</th>\n",
       "      <th>Mean Texture</th>\n",
       "      <th>Mean Smoothness</th>\n",
       "      <th>Mean Compactness</th>\n",
       "      <th>Mean Concavity</th>\n",
       "      <th>Mean Concave Points</th>\n",
       "      <th>...</th>\n",
       "      <th>SE Radius</th>\n",
       "      <th>SE Perimeter</th>\n",
       "      <th>SE Area</th>\n",
       "      <th>SE Texture</th>\n",
       "      <th>SE Smoothness</th>\n",
       "      <th>SE Compactness</th>\n",
       "      <th>SE Concavity</th>\n",
       "      <th>SE Concave Points</th>\n",
       "      <th>SE Symmetry</th>\n",
       "      <th>SE Fractal Dim</th>\n",
       "    </tr>\n",
       "  </thead>\n",
       "  <tbody>\n",
       "    <tr>\n",
       "      <th>0</th>\n",
       "      <td>842302</td>\n",
       "      <td>M</td>\n",
       "      <td>17.99</td>\n",
       "      <td>122.80</td>\n",
       "      <td>1001.0</td>\n",
       "      <td>10.38</td>\n",
       "      <td>0.12</td>\n",
       "      <td>0.27760</td>\n",
       "      <td>0.30010</td>\n",
       "      <td>0.1471</td>\n",
       "      <td>...</td>\n",
       "      <td>1.0950</td>\n",
       "      <td>8.589</td>\n",
       "      <td>153.40</td>\n",
       "      <td>0.9053</td>\n",
       "      <td>0.0064</td>\n",
       "      <td>0.0490</td>\n",
       "      <td>0.0537</td>\n",
       "      <td>0.0159</td>\n",
       "      <td>0.0300</td>\n",
       "      <td>0.0062</td>\n",
       "    </tr>\n",
       "    <tr>\n",
       "      <th>1</th>\n",
       "      <td>842517</td>\n",
       "      <td>M</td>\n",
       "      <td>20.57</td>\n",
       "      <td>132.90</td>\n",
       "      <td>1326.0</td>\n",
       "      <td>17.77</td>\n",
       "      <td>0.08</td>\n",
       "      <td>0.07864</td>\n",
       "      <td>0.08690</td>\n",
       "      <td>0.0702</td>\n",
       "      <td>...</td>\n",
       "      <td>0.5435</td>\n",
       "      <td>3.398</td>\n",
       "      <td>74.08</td>\n",
       "      <td>0.7339</td>\n",
       "      <td>0.0052</td>\n",
       "      <td>0.0131</td>\n",
       "      <td>0.0186</td>\n",
       "      <td>0.0134</td>\n",
       "      <td>0.0139</td>\n",
       "      <td>0.0035</td>\n",
       "    </tr>\n",
       "    <tr>\n",
       "      <th>2</th>\n",
       "      <td>84300903</td>\n",
       "      <td>M</td>\n",
       "      <td>19.69</td>\n",
       "      <td>130.00</td>\n",
       "      <td>1203.0</td>\n",
       "      <td>21.25</td>\n",
       "      <td>0.11</td>\n",
       "      <td>0.15990</td>\n",
       "      <td>0.19740</td>\n",
       "      <td>0.1279</td>\n",
       "      <td>...</td>\n",
       "      <td>0.7456</td>\n",
       "      <td>4.585</td>\n",
       "      <td>94.03</td>\n",
       "      <td>0.7869</td>\n",
       "      <td>0.0062</td>\n",
       "      <td>0.0401</td>\n",
       "      <td>0.0383</td>\n",
       "      <td>0.0206</td>\n",
       "      <td>0.0225</td>\n",
       "      <td>0.0046</td>\n",
       "    </tr>\n",
       "    <tr>\n",
       "      <th>3</th>\n",
       "      <td>84348301</td>\n",
       "      <td>M</td>\n",
       "      <td>11.42</td>\n",
       "      <td>77.58</td>\n",
       "      <td>386.1</td>\n",
       "      <td>20.38</td>\n",
       "      <td>0.14</td>\n",
       "      <td>0.28390</td>\n",
       "      <td>0.24140</td>\n",
       "      <td>0.1052</td>\n",
       "      <td>...</td>\n",
       "      <td>0.4956</td>\n",
       "      <td>3.445</td>\n",
       "      <td>27.23</td>\n",
       "      <td>1.1560</td>\n",
       "      <td>0.0091</td>\n",
       "      <td>0.0746</td>\n",
       "      <td>0.0566</td>\n",
       "      <td>0.0187</td>\n",
       "      <td>0.0596</td>\n",
       "      <td>0.0092</td>\n",
       "    </tr>\n",
       "    <tr>\n",
       "      <th>4</th>\n",
       "      <td>84358402</td>\n",
       "      <td>M</td>\n",
       "      <td>20.29</td>\n",
       "      <td>135.10</td>\n",
       "      <td>1297.0</td>\n",
       "      <td>14.34</td>\n",
       "      <td>0.10</td>\n",
       "      <td>0.13280</td>\n",
       "      <td>0.19800</td>\n",
       "      <td>0.1043</td>\n",
       "      <td>...</td>\n",
       "      <td>0.7572</td>\n",
       "      <td>5.438</td>\n",
       "      <td>94.44</td>\n",
       "      <td>0.7813</td>\n",
       "      <td>0.0115</td>\n",
       "      <td>0.0246</td>\n",
       "      <td>0.0569</td>\n",
       "      <td>0.0189</td>\n",
       "      <td>0.0176</td>\n",
       "      <td>0.0051</td>\n",
       "    </tr>\n",
       "    <tr>\n",
       "      <th>...</th>\n",
       "      <td>...</td>\n",
       "      <td>...</td>\n",
       "      <td>...</td>\n",
       "      <td>...</td>\n",
       "      <td>...</td>\n",
       "      <td>...</td>\n",
       "      <td>...</td>\n",
       "      <td>...</td>\n",
       "      <td>...</td>\n",
       "      <td>...</td>\n",
       "      <td>...</td>\n",
       "      <td>...</td>\n",
       "      <td>...</td>\n",
       "      <td>...</td>\n",
       "      <td>...</td>\n",
       "      <td>...</td>\n",
       "      <td>...</td>\n",
       "      <td>...</td>\n",
       "      <td>...</td>\n",
       "      <td>...</td>\n",
       "      <td>...</td>\n",
       "    </tr>\n",
       "    <tr>\n",
       "      <th>564</th>\n",
       "      <td>926424</td>\n",
       "      <td>M</td>\n",
       "      <td>21.56</td>\n",
       "      <td>142.00</td>\n",
       "      <td>1479.0</td>\n",
       "      <td>22.39</td>\n",
       "      <td>0.11</td>\n",
       "      <td>0.11590</td>\n",
       "      <td>0.24390</td>\n",
       "      <td>0.1389</td>\n",
       "      <td>...</td>\n",
       "      <td>1.1760</td>\n",
       "      <td>7.673</td>\n",
       "      <td>158.70</td>\n",
       "      <td>1.2560</td>\n",
       "      <td>0.0103</td>\n",
       "      <td>0.0289</td>\n",
       "      <td>0.0520</td>\n",
       "      <td>0.0245</td>\n",
       "      <td>0.0111</td>\n",
       "      <td>0.0042</td>\n",
       "    </tr>\n",
       "    <tr>\n",
       "      <th>565</th>\n",
       "      <td>926682</td>\n",
       "      <td>M</td>\n",
       "      <td>20.13</td>\n",
       "      <td>131.20</td>\n",
       "      <td>1261.0</td>\n",
       "      <td>28.25</td>\n",
       "      <td>0.10</td>\n",
       "      <td>0.10340</td>\n",
       "      <td>0.14400</td>\n",
       "      <td>0.0979</td>\n",
       "      <td>...</td>\n",
       "      <td>0.7655</td>\n",
       "      <td>5.203</td>\n",
       "      <td>99.04</td>\n",
       "      <td>2.4630</td>\n",
       "      <td>0.0058</td>\n",
       "      <td>0.0242</td>\n",
       "      <td>0.0395</td>\n",
       "      <td>0.0168</td>\n",
       "      <td>0.0190</td>\n",
       "      <td>0.0025</td>\n",
       "    </tr>\n",
       "    <tr>\n",
       "      <th>566</th>\n",
       "      <td>926954</td>\n",
       "      <td>M</td>\n",
       "      <td>16.60</td>\n",
       "      <td>108.30</td>\n",
       "      <td>858.1</td>\n",
       "      <td>28.08</td>\n",
       "      <td>0.08</td>\n",
       "      <td>0.10230</td>\n",
       "      <td>0.09251</td>\n",
       "      <td>0.0530</td>\n",
       "      <td>...</td>\n",
       "      <td>0.4564</td>\n",
       "      <td>3.425</td>\n",
       "      <td>48.55</td>\n",
       "      <td>1.0750</td>\n",
       "      <td>0.0059</td>\n",
       "      <td>0.0373</td>\n",
       "      <td>0.0473</td>\n",
       "      <td>0.0156</td>\n",
       "      <td>0.0132</td>\n",
       "      <td>0.0039</td>\n",
       "    </tr>\n",
       "    <tr>\n",
       "      <th>567</th>\n",
       "      <td>927241</td>\n",
       "      <td>M</td>\n",
       "      <td>20.60</td>\n",
       "      <td>140.10</td>\n",
       "      <td>1265.0</td>\n",
       "      <td>29.33</td>\n",
       "      <td>0.12</td>\n",
       "      <td>0.27700</td>\n",
       "      <td>0.35140</td>\n",
       "      <td>0.1520</td>\n",
       "      <td>...</td>\n",
       "      <td>0.7260</td>\n",
       "      <td>5.772</td>\n",
       "      <td>86.22</td>\n",
       "      <td>1.5950</td>\n",
       "      <td>0.0065</td>\n",
       "      <td>0.0616</td>\n",
       "      <td>0.0712</td>\n",
       "      <td>0.0166</td>\n",
       "      <td>0.0232</td>\n",
       "      <td>0.0062</td>\n",
       "    </tr>\n",
       "    <tr>\n",
       "      <th>568</th>\n",
       "      <td>92751</td>\n",
       "      <td>B</td>\n",
       "      <td>7.76</td>\n",
       "      <td>47.92</td>\n",
       "      <td>181.0</td>\n",
       "      <td>24.54</td>\n",
       "      <td>0.05</td>\n",
       "      <td>0.04362</td>\n",
       "      <td>0.00000</td>\n",
       "      <td>0.0000</td>\n",
       "      <td>...</td>\n",
       "      <td>0.3857</td>\n",
       "      <td>2.548</td>\n",
       "      <td>19.15</td>\n",
       "      <td>1.4280</td>\n",
       "      <td>0.0072</td>\n",
       "      <td>0.0047</td>\n",
       "      <td>0.0000</td>\n",
       "      <td>0.0000</td>\n",
       "      <td>0.0268</td>\n",
       "      <td>0.0028</td>\n",
       "    </tr>\n",
       "  </tbody>\n",
       "</table>\n",
       "<p>569 rows × 32 columns</p>\n",
       "</div>"
      ],
      "text/plain": [
       "     Image ID Diagnosis  Mean Radius  Mean Perimeter  Mean Area  Mean Texture  \\\n",
       "0      842302         M        17.99          122.80     1001.0         10.38   \n",
       "1      842517         M        20.57          132.90     1326.0         17.77   \n",
       "2    84300903         M        19.69          130.00     1203.0         21.25   \n",
       "3    84348301         M        11.42           77.58      386.1         20.38   \n",
       "4    84358402         M        20.29          135.10     1297.0         14.34   \n",
       "..        ...       ...          ...             ...        ...           ...   \n",
       "564    926424         M        21.56          142.00     1479.0         22.39   \n",
       "565    926682         M        20.13          131.20     1261.0         28.25   \n",
       "566    926954         M        16.60          108.30      858.1         28.08   \n",
       "567    927241         M        20.60          140.10     1265.0         29.33   \n",
       "568     92751         B         7.76           47.92      181.0         24.54   \n",
       "\n",
       "     Mean Smoothness  Mean Compactness  Mean Concavity  Mean Concave Points  \\\n",
       "0               0.12           0.27760         0.30010               0.1471   \n",
       "1               0.08           0.07864         0.08690               0.0702   \n",
       "2               0.11           0.15990         0.19740               0.1279   \n",
       "3               0.14           0.28390         0.24140               0.1052   \n",
       "4               0.10           0.13280         0.19800               0.1043   \n",
       "..               ...               ...             ...                  ...   \n",
       "564             0.11           0.11590         0.24390               0.1389   \n",
       "565             0.10           0.10340         0.14400               0.0979   \n",
       "566             0.08           0.10230         0.09251               0.0530   \n",
       "567             0.12           0.27700         0.35140               0.1520   \n",
       "568             0.05           0.04362         0.00000               0.0000   \n",
       "\n",
       "     ...  SE Radius  SE Perimeter  SE Area  SE Texture  SE Smoothness  \\\n",
       "0    ...     1.0950         8.589   153.40      0.9053         0.0064   \n",
       "1    ...     0.5435         3.398    74.08      0.7339         0.0052   \n",
       "2    ...     0.7456         4.585    94.03      0.7869         0.0062   \n",
       "3    ...     0.4956         3.445    27.23      1.1560         0.0091   \n",
       "4    ...     0.7572         5.438    94.44      0.7813         0.0115   \n",
       "..   ...        ...           ...      ...         ...            ...   \n",
       "564  ...     1.1760         7.673   158.70      1.2560         0.0103   \n",
       "565  ...     0.7655         5.203    99.04      2.4630         0.0058   \n",
       "566  ...     0.4564         3.425    48.55      1.0750         0.0059   \n",
       "567  ...     0.7260         5.772    86.22      1.5950         0.0065   \n",
       "568  ...     0.3857         2.548    19.15      1.4280         0.0072   \n",
       "\n",
       "     SE Compactness  SE Concavity  SE Concave Points  SE Symmetry  \\\n",
       "0            0.0490        0.0537             0.0159       0.0300   \n",
       "1            0.0131        0.0186             0.0134       0.0139   \n",
       "2            0.0401        0.0383             0.0206       0.0225   \n",
       "3            0.0746        0.0566             0.0187       0.0596   \n",
       "4            0.0246        0.0569             0.0189       0.0176   \n",
       "..              ...           ...                ...          ...   \n",
       "564          0.0289        0.0520             0.0245       0.0111   \n",
       "565          0.0242        0.0395             0.0168       0.0190   \n",
       "566          0.0373        0.0473             0.0156       0.0132   \n",
       "567          0.0616        0.0712             0.0166       0.0232   \n",
       "568          0.0047        0.0000             0.0000       0.0268   \n",
       "\n",
       "     SE Fractal Dim  \n",
       "0            0.0062  \n",
       "1            0.0035  \n",
       "2            0.0046  \n",
       "3            0.0092  \n",
       "4            0.0051  \n",
       "..              ...  \n",
       "564          0.0042  \n",
       "565          0.0025  \n",
       "566          0.0039  \n",
       "567          0.0062  \n",
       "568          0.0028  \n",
       "\n",
       "[569 rows x 32 columns]"
      ]
     },
     "execution_count": 3,
     "metadata": {},
     "output_type": "execute_result"
    }
   ],
   "source": [
    "df1"
   ]
  },
  {
   "cell_type": "code",
   "execution_count": 10,
   "metadata": {},
   "outputs": [
    {
     "data": {
      "text/plain": [
       "0      M\n",
       "1      M\n",
       "2      M\n",
       "3      M\n",
       "4      M\n",
       "      ..\n",
       "564    M\n",
       "565    M\n",
       "566    M\n",
       "567    M\n",
       "568    B\n",
       "Name: Diagnosis, Length: 569, dtype: object"
      ]
     },
     "execution_count": 10,
     "metadata": {},
     "output_type": "execute_result"
    }
   ],
   "source": [
    "df1['Diagnosis']"
   ]
  },
  {
   "cell_type": "code",
   "execution_count": 18,
   "metadata": {},
   "outputs": [
    {
     "data": {
      "text/plain": [
       "1    357\n",
       "0    212\n",
       "Name: Target, dtype: int64"
      ]
     },
     "execution_count": 18,
     "metadata": {},
     "output_type": "execute_result"
    }
   ],
   "source": [
    "df1['Target'] = df1['Diagnosis'].replace({'M':0, 'B':1})\n",
    "df1['Target'].value_counts()\n"
   ]
  },
  {
   "cell_type": "code",
   "execution_count": 19,
   "metadata": {},
   "outputs": [],
   "source": [
    "from sklearn.model_selection import train_test_split\n",
    "from sklearn.model_selection import cross_val_score\n",
    "from sklearn.tree import DecisionTreeClassifier\n",
    "from sklearn.metrics import accuracy_score\n",
    "\n"
   ]
  },
  {
   "cell_type": "code",
   "execution_count": 20,
   "metadata": {},
   "outputs": [
    {
     "data": {
      "text/html": [
       "<div>\n",
       "<style scoped>\n",
       "    .dataframe tbody tr th:only-of-type {\n",
       "        vertical-align: middle;\n",
       "    }\n",
       "\n",
       "    .dataframe tbody tr th {\n",
       "        vertical-align: top;\n",
       "    }\n",
       "\n",
       "    .dataframe thead th {\n",
       "        text-align: right;\n",
       "    }\n",
       "</style>\n",
       "<table border=\"1\" class=\"dataframe\">\n",
       "  <thead>\n",
       "    <tr style=\"text-align: right;\">\n",
       "      <th></th>\n",
       "      <th>Image ID</th>\n",
       "      <th>Diagnosis</th>\n",
       "      <th>Mean Radius</th>\n",
       "      <th>Mean Perimeter</th>\n",
       "      <th>Mean Area</th>\n",
       "      <th>Mean Texture</th>\n",
       "      <th>Mean Smoothness</th>\n",
       "      <th>Mean Compactness</th>\n",
       "      <th>Mean Concavity</th>\n",
       "      <th>Mean Concave Points</th>\n",
       "      <th>...</th>\n",
       "      <th>SE Perimeter</th>\n",
       "      <th>SE Area</th>\n",
       "      <th>SE Texture</th>\n",
       "      <th>SE Smoothness</th>\n",
       "      <th>SE Compactness</th>\n",
       "      <th>SE Concavity</th>\n",
       "      <th>SE Concave Points</th>\n",
       "      <th>SE Symmetry</th>\n",
       "      <th>SE Fractal Dim</th>\n",
       "      <th>Target</th>\n",
       "    </tr>\n",
       "  </thead>\n",
       "  <tbody>\n",
       "    <tr>\n",
       "      <th>0</th>\n",
       "      <td>842302</td>\n",
       "      <td>M</td>\n",
       "      <td>17.99</td>\n",
       "      <td>122.80</td>\n",
       "      <td>1001.0</td>\n",
       "      <td>10.38</td>\n",
       "      <td>0.12</td>\n",
       "      <td>0.27760</td>\n",
       "      <td>0.3001</td>\n",
       "      <td>0.1471</td>\n",
       "      <td>...</td>\n",
       "      <td>8.589</td>\n",
       "      <td>153.40</td>\n",
       "      <td>0.9053</td>\n",
       "      <td>0.0064</td>\n",
       "      <td>0.0490</td>\n",
       "      <td>0.0537</td>\n",
       "      <td>0.0159</td>\n",
       "      <td>0.0300</td>\n",
       "      <td>0.0062</td>\n",
       "      <td>0</td>\n",
       "    </tr>\n",
       "    <tr>\n",
       "      <th>1</th>\n",
       "      <td>842517</td>\n",
       "      <td>M</td>\n",
       "      <td>20.57</td>\n",
       "      <td>132.90</td>\n",
       "      <td>1326.0</td>\n",
       "      <td>17.77</td>\n",
       "      <td>0.08</td>\n",
       "      <td>0.07864</td>\n",
       "      <td>0.0869</td>\n",
       "      <td>0.0702</td>\n",
       "      <td>...</td>\n",
       "      <td>3.398</td>\n",
       "      <td>74.08</td>\n",
       "      <td>0.7339</td>\n",
       "      <td>0.0052</td>\n",
       "      <td>0.0131</td>\n",
       "      <td>0.0186</td>\n",
       "      <td>0.0134</td>\n",
       "      <td>0.0139</td>\n",
       "      <td>0.0035</td>\n",
       "      <td>0</td>\n",
       "    </tr>\n",
       "    <tr>\n",
       "      <th>2</th>\n",
       "      <td>84300903</td>\n",
       "      <td>M</td>\n",
       "      <td>19.69</td>\n",
       "      <td>130.00</td>\n",
       "      <td>1203.0</td>\n",
       "      <td>21.25</td>\n",
       "      <td>0.11</td>\n",
       "      <td>0.15990</td>\n",
       "      <td>0.1974</td>\n",
       "      <td>0.1279</td>\n",
       "      <td>...</td>\n",
       "      <td>4.585</td>\n",
       "      <td>94.03</td>\n",
       "      <td>0.7869</td>\n",
       "      <td>0.0062</td>\n",
       "      <td>0.0401</td>\n",
       "      <td>0.0383</td>\n",
       "      <td>0.0206</td>\n",
       "      <td>0.0225</td>\n",
       "      <td>0.0046</td>\n",
       "      <td>0</td>\n",
       "    </tr>\n",
       "    <tr>\n",
       "      <th>3</th>\n",
       "      <td>84348301</td>\n",
       "      <td>M</td>\n",
       "      <td>11.42</td>\n",
       "      <td>77.58</td>\n",
       "      <td>386.1</td>\n",
       "      <td>20.38</td>\n",
       "      <td>0.14</td>\n",
       "      <td>0.28390</td>\n",
       "      <td>0.2414</td>\n",
       "      <td>0.1052</td>\n",
       "      <td>...</td>\n",
       "      <td>3.445</td>\n",
       "      <td>27.23</td>\n",
       "      <td>1.1560</td>\n",
       "      <td>0.0091</td>\n",
       "      <td>0.0746</td>\n",
       "      <td>0.0566</td>\n",
       "      <td>0.0187</td>\n",
       "      <td>0.0596</td>\n",
       "      <td>0.0092</td>\n",
       "      <td>0</td>\n",
       "    </tr>\n",
       "    <tr>\n",
       "      <th>4</th>\n",
       "      <td>84358402</td>\n",
       "      <td>M</td>\n",
       "      <td>20.29</td>\n",
       "      <td>135.10</td>\n",
       "      <td>1297.0</td>\n",
       "      <td>14.34</td>\n",
       "      <td>0.10</td>\n",
       "      <td>0.13280</td>\n",
       "      <td>0.1980</td>\n",
       "      <td>0.1043</td>\n",
       "      <td>...</td>\n",
       "      <td>5.438</td>\n",
       "      <td>94.44</td>\n",
       "      <td>0.7813</td>\n",
       "      <td>0.0115</td>\n",
       "      <td>0.0246</td>\n",
       "      <td>0.0569</td>\n",
       "      <td>0.0189</td>\n",
       "      <td>0.0176</td>\n",
       "      <td>0.0051</td>\n",
       "      <td>0</td>\n",
       "    </tr>\n",
       "  </tbody>\n",
       "</table>\n",
       "<p>5 rows × 33 columns</p>\n",
       "</div>"
      ],
      "text/plain": [
       "   Image ID Diagnosis  Mean Radius  Mean Perimeter  Mean Area  Mean Texture  \\\n",
       "0    842302         M        17.99          122.80     1001.0         10.38   \n",
       "1    842517         M        20.57          132.90     1326.0         17.77   \n",
       "2  84300903         M        19.69          130.00     1203.0         21.25   \n",
       "3  84348301         M        11.42           77.58      386.1         20.38   \n",
       "4  84358402         M        20.29          135.10     1297.0         14.34   \n",
       "\n",
       "   Mean Smoothness  Mean Compactness  Mean Concavity  Mean Concave Points  \\\n",
       "0             0.12           0.27760          0.3001               0.1471   \n",
       "1             0.08           0.07864          0.0869               0.0702   \n",
       "2             0.11           0.15990          0.1974               0.1279   \n",
       "3             0.14           0.28390          0.2414               0.1052   \n",
       "4             0.10           0.13280          0.1980               0.1043   \n",
       "\n",
       "   ...  SE Perimeter  SE Area  SE Texture  SE Smoothness  SE Compactness  \\\n",
       "0  ...         8.589   153.40      0.9053         0.0064          0.0490   \n",
       "1  ...         3.398    74.08      0.7339         0.0052          0.0131   \n",
       "2  ...         4.585    94.03      0.7869         0.0062          0.0401   \n",
       "3  ...         3.445    27.23      1.1560         0.0091          0.0746   \n",
       "4  ...         5.438    94.44      0.7813         0.0115          0.0246   \n",
       "\n",
       "   SE Concavity  SE Concave Points  SE Symmetry  SE Fractal Dim  Target  \n",
       "0        0.0537             0.0159       0.0300          0.0062       0  \n",
       "1        0.0186             0.0134       0.0139          0.0035       0  \n",
       "2        0.0383             0.0206       0.0225          0.0046       0  \n",
       "3        0.0566             0.0187       0.0596          0.0092       0  \n",
       "4        0.0569             0.0189       0.0176          0.0051       0  \n",
       "\n",
       "[5 rows x 33 columns]"
      ]
     },
     "execution_count": 20,
     "metadata": {},
     "output_type": "execute_result"
    }
   ],
   "source": [
    "df1.head()"
   ]
  },
  {
   "cell_type": "code",
   "execution_count": 21,
   "metadata": {},
   "outputs": [],
   "source": [
    "X = df1.drop(columns=['Image ID','Diagnosis','Target'])\n",
    "Y = df1['Target']"
   ]
  },
  {
   "cell_type": "code",
   "execution_count": 26,
   "metadata": {},
   "outputs": [
    {
     "name": "stdout",
     "output_type": "stream",
     "text": [
      "(398, 30)\n",
      "(171, 30)\n",
      "(398,)\n",
      "(171,)\n"
     ]
    }
   ],
   "source": [
    "X_train, X_test, Y_train, Y_test = train_test_split(X,Y,test_size=0.3)\n",
    "\n",
    "print(X_train.shape)\n",
    "print(X_test.shape)\n",
    "print(Y_train.shape)\n",
    "print(Y_test.shape)"
   ]
  },
  {
   "cell_type": "code",
   "execution_count": 27,
   "metadata": {},
   "outputs": [
    {
     "data": {
      "text/plain": [
       "DecisionTreeClassifier()"
      ]
     },
     "execution_count": 27,
     "metadata": {},
     "output_type": "execute_result"
    }
   ],
   "source": [
    "model = DecisionTreeClassifier()\n",
    "model.fit(X_train, Y_train)"
   ]
  },
  {
   "cell_type": "code",
   "execution_count": 29,
   "metadata": {},
   "outputs": [],
   "source": [
    "Y_pred_train = model.predict(X_train)\n",
    "Y_pred_test= model.predict(X_test)"
   ]
  },
  {
   "cell_type": "code",
   "execution_count": 30,
   "metadata": {},
   "outputs": [
    {
     "data": {
      "text/plain": [
       "1.0"
      ]
     },
     "execution_count": 30,
     "metadata": {},
     "output_type": "execute_result"
    }
   ],
   "source": [
    "accuracy_score(Y_train, Y_pred_train)"
   ]
  },
  {
   "cell_type": "code",
   "execution_count": 31,
   "metadata": {},
   "outputs": [
    {
     "data": {
      "text/plain": [
       "0.9181286549707602"
      ]
     },
     "execution_count": 31,
     "metadata": {},
     "output_type": "execute_result"
    }
   ],
   "source": [
    "accuracy_score(Y_test, Y_pred_test) # 여기까지가 일반적인 학습. (train, test set 고정)"
   ]
  },
  {
   "cell_type": "code",
   "execution_count": 32,
   "metadata": {},
   "outputs": [],
   "source": [
    "x = X.values\n",
    "y = Y.values"
   ]
  },
  {
   "cell_type": "code",
   "execution_count": 35,
   "metadata": {},
   "outputs": [],
   "source": [
    "score = cross_val_score(model,x,y,scoring='accuracy', cv=5) # 교차 검증"
   ]
  },
  {
   "cell_type": "code",
   "execution_count": 36,
   "metadata": {},
   "outputs": [
    {
     "data": {
      "text/plain": [
       "array([0.9122807 , 0.90350877, 0.9122807 , 0.95614035, 0.90265487])"
      ]
     },
     "execution_count": 36,
     "metadata": {},
     "output_type": "execute_result"
    }
   ],
   "source": [
    "score"
   ]
  },
  {
   "cell_type": "code",
   "execution_count": 37,
   "metadata": {},
   "outputs": [
    {
     "data": {
      "text/plain": [
       "0.9173730787144854"
      ]
     },
     "execution_count": 37,
     "metadata": {},
     "output_type": "execute_result"
    }
   ],
   "source": [
    "score.mean() # 교차 검증 "
   ]
  },
  {
   "cell_type": "code",
   "execution_count": 38,
   "metadata": {},
   "outputs": [],
   "source": [
    "# Grid search\n",
    "from sklearn.model_selection import GridSearchCV # 여기서 cv는 교차검증을 말함. Grid search와 교차검증도 같이 진행"
   ]
  },
  {
   "cell_type": "code",
   "execution_count": 39,
   "metadata": {},
   "outputs": [],
   "source": [
    "model = DecisionTreeClassifier()"
   ]
  },
  {
   "cell_type": "code",
   "execution_count": 42,
   "metadata": {},
   "outputs": [],
   "source": [
    "hyperparameter_list = {'criterion':['gini','entropy'],\n",
    "                      'max_depth':[3,4,5,6,7],\n",
    "                      'min_samples_split':[2,3,4,5,6]}\n",
    "\n",
    "model_grid = GridSearchCV(model, param_grid = hyperparameter_list, cv=5)"
   ]
  },
  {
   "cell_type": "code",
   "execution_count": 43,
   "metadata": {},
   "outputs": [
    {
     "data": {
      "text/plain": [
       "GridSearchCV(cv=5, estimator=DecisionTreeClassifier(),\n",
       "             param_grid={'criterion': ['gini', 'entropy'],\n",
       "                         'max_depth': [3, 4, 5, 6, 7],\n",
       "                         'min_samples_split': [2, 3, 4, 5, 6]})"
      ]
     },
     "execution_count": 43,
     "metadata": {},
     "output_type": "execute_result"
    }
   ],
   "source": [
    "model_grid.fit(X_train, Y_train)"
   ]
  },
  {
   "cell_type": "code",
   "execution_count": 45,
   "metadata": {},
   "outputs": [],
   "source": [
    "best_model = model_grid.best_estimator_\n",
    "Y_pred_train = best_model.predict(X_train)\n",
    "Y_pred_test = best_model.predict(X_test)"
   ]
  },
  {
   "cell_type": "code",
   "execution_count": 47,
   "metadata": {},
   "outputs": [
    {
     "data": {
      "text/plain": [
       "0.9798994974874372"
      ]
     },
     "execution_count": 47,
     "metadata": {},
     "output_type": "execute_result"
    }
   ],
   "source": [
    "accuracy_score(Y_train, Y_pred_train)"
   ]
  },
  {
   "cell_type": "code",
   "execution_count": 48,
   "metadata": {},
   "outputs": [
    {
     "data": {
      "text/plain": [
       "0.9298245614035088"
      ]
     },
     "execution_count": 48,
     "metadata": {},
     "output_type": "execute_result"
    }
   ],
   "source": [
    "accuracy_score(Y_test, Y_pred_test)"
   ]
  },
  {
   "cell_type": "code",
   "execution_count": 50,
   "metadata": {},
   "outputs": [],
   "source": [
    "# pipleline 사용해보기\n",
    "from sklearn.pipeline import Pipeline\n",
    "from sklearn.preprocessing import RobustScaler"
   ]
  },
  {
   "cell_type": "code",
   "execution_count": 52,
   "metadata": {},
   "outputs": [],
   "source": [
    "pipe_model = Pipeline([('scaler', RobustScaler()),\n",
    "          ('model', DecisionTreeClassifier())])"
   ]
  },
  {
   "cell_type": "code",
   "execution_count": 59,
   "metadata": {},
   "outputs": [
    {
     "data": {
      "text/plain": [
       "Pipeline(steps=[('scaler', RobustScaler()),\n",
       "                ('model', DecisionTreeClassifier())])"
      ]
     },
     "execution_count": 59,
     "metadata": {},
     "output_type": "execute_result"
    }
   ],
   "source": [
    "pipe_model"
   ]
  },
  {
   "cell_type": "code",
   "execution_count": 60,
   "metadata": {},
   "outputs": [
    {
     "data": {
      "text/plain": [
       "Pipeline(steps=[('scaler', RobustScaler()),\n",
       "                ('model', DecisionTreeClassifier())])"
      ]
     },
     "execution_count": 60,
     "metadata": {},
     "output_type": "execute_result"
    }
   ],
   "source": [
    "pipe_model.fit(X_train, Y_train)"
   ]
  },
  {
   "cell_type": "code",
   "execution_count": 61,
   "metadata": {},
   "outputs": [],
   "source": [
    "hyper_list = {'model__criterion': ['gini','entropy'],\n",
    "             'model__max_depth':[3,4,5,6,7],\n",
    "             'model__min_samples_split':[2,3,4,5,6,7]}\n",
    "model_grid = GridSearchCV(pipe_model, param_grid=hyper_list, cv=5)"
   ]
  },
  {
   "cell_type": "code",
   "execution_count": 63,
   "metadata": {},
   "outputs": [
    {
     "data": {
      "text/plain": [
       "GridSearchCV(cv=5,\n",
       "             estimator=Pipeline(steps=[('scaler', RobustScaler()),\n",
       "                                       ('model', DecisionTreeClassifier())]),\n",
       "             param_grid={'model__criterion': ['gini', 'entropy'],\n",
       "                         'model__max_depth': [3, 4, 5, 6, 7],\n",
       "                         'model__min_samples_split': [2, 3, 4, 5, 6, 7]})"
      ]
     },
     "execution_count": 63,
     "metadata": {},
     "output_type": "execute_result"
    }
   ],
   "source": [
    "model_grid.fit(X_train, Y_train)"
   ]
  },
  {
   "cell_type": "code",
   "execution_count": 64,
   "metadata": {},
   "outputs": [
    {
     "data": {
      "text/plain": [
       "Pipeline(steps=[('scaler', RobustScaler()),\n",
       "                ('model',\n",
       "                 DecisionTreeClassifier(criterion='entropy', max_depth=3))])"
      ]
     },
     "execution_count": 64,
     "metadata": {},
     "output_type": "execute_result"
    }
   ],
   "source": [
    "best_model = model_grid.best_estima"
   ]
  },
  {
   "cell_type": "code",
   "execution_count": 65,
   "metadata": {},
   "outputs": [],
   "source": [
    "Y_pred_train = best_model.predict(X_train)\n",
    "Y_pred_test = best_model.predict(X_test)"
   ]
  },
  {
   "cell_type": "code",
   "execution_count": 66,
   "metadata": {},
   "outputs": [
    {
     "data": {
      "text/plain": [
       "0.9798994974874372"
      ]
     },
     "execution_count": 66,
     "metadata": {},
     "output_type": "execute_result"
    }
   ],
   "source": [
    "accuracy_score(Y_train, Y_pred_train)"
   ]
  },
  {
   "cell_type": "code",
   "execution_count": 67,
   "metadata": {},
   "outputs": [
    {
     "data": {
      "text/plain": [
       "0.9298245614035088"
      ]
     },
     "execution_count": 67,
     "metadata": {},
     "output_type": "execute_result"
    }
   ],
   "source": [
    "accuracy_score(Y_test, Y_pred_test)"
   ]
  },
  {
   "cell_type": "code",
   "execution_count": null,
   "metadata": {},
   "outputs": [],
   "source": []
  }
 ],
 "metadata": {
  "kernelspec": {
   "display_name": "Python 3",
   "language": "python",
   "name": "python3"
  },
  "language_info": {
   "codemirror_mode": {
    "name": "ipython",
    "version": 3
   },
   "file_extension": ".py",
   "mimetype": "text/x-python",
   "name": "python",
   "nbconvert_exporter": "python",
   "pygments_lexer": "ipython3",
   "version": "3.8.3"
  }
 },
 "nbformat": 4,
 "nbformat_minor": 4
}
