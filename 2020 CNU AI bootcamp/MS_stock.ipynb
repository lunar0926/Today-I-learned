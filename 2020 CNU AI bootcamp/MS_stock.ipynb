{
 "cells": [
  {
   "cell_type": "code",
   "execution_count": 1,
   "metadata": {},
   "outputs": [
    {
     "name": "stdout",
     "output_type": "stream",
     "text": [
      "Collecting pandas_datareader\n",
      "  Downloading pandas_datareader-0.9.0-py3-none-any.whl (107 kB)\n",
      "Requirement already satisfied: lxml in c:\\programdata\\anaconda3\\lib\\site-packages (from pandas_datareader) (4.5.2)\n",
      "Requirement already satisfied: pandas>=0.23 in c:\\programdata\\anaconda3\\lib\\site-packages (from pandas_datareader) (1.0.5)\n",
      "Requirement already satisfied: requests>=2.19.0 in c:\\programdata\\anaconda3\\lib\\site-packages (from pandas_datareader) (2.24.0)\n",
      "Requirement already satisfied: numpy>=1.13.3 in c:\\programdata\\anaconda3\\lib\\site-packages (from pandas>=0.23->pandas_datareader) (1.18.5)\n",
      "Requirement already satisfied: python-dateutil>=2.6.1 in c:\\programdata\\anaconda3\\lib\\site-packages (from pandas>=0.23->pandas_datareader) (2.8.1)\n",
      "Requirement already satisfied: pytz>=2017.2 in c:\\programdata\\anaconda3\\lib\\site-packages (from pandas>=0.23->pandas_datareader) (2020.1)\n",
      "Requirement already satisfied: idna<3,>=2.5 in c:\\programdata\\anaconda3\\lib\\site-packages (from requests>=2.19.0->pandas_datareader) (2.10)\n",
      "Requirement already satisfied: urllib3!=1.25.0,!=1.25.1,<1.26,>=1.21.1 in c:\\programdata\\anaconda3\\lib\\site-packages (from requests>=2.19.0->pandas_datareader) (1.25.9)\n",
      "Requirement already satisfied: chardet<4,>=3.0.2 in c:\\programdata\\anaconda3\\lib\\site-packages (from requests>=2.19.0->pandas_datareader) (3.0.4)\n",
      "Requirement already satisfied: certifi>=2017.4.17 in c:\\programdata\\anaconda3\\lib\\site-packages (from requests>=2.19.0->pandas_datareader) (2020.6.20)\n",
      "Requirement already satisfied: six>=1.5 in c:\\users\\parkjaehyeong\\appdata\\roaming\\python\\python38\\site-packages (from python-dateutil>=2.6.1->pandas>=0.23->pandas_datareader) (1.15.0)\n",
      "Installing collected packages: pandas-datareader\n",
      "Successfully installed pandas-datareader-0.9.0\n"
     ]
    }
   ],
   "source": [
    "!pip install pandas_datareader"
   ]
  },
  {
   "cell_type": "code",
   "execution_count": 2,
   "metadata": {},
   "outputs": [],
   "source": [
    "import pandas_datareader as pdr\n",
    "import pandas as pd\n",
    "import numpy as np\n",
    "\n",
    "import seaborn as sns"
   ]
  },
  {
   "cell_type": "code",
   "execution_count": 3,
   "metadata": {},
   "outputs": [
    {
     "data": {
      "text/plain": [
       "(1258, 6)"
      ]
     },
     "execution_count": 3,
     "metadata": {},
     "output_type": "execute_result"
    }
   ],
   "source": [
    "df1 = pdr.get_data_yahoo('msft')\n",
    "df1.shape"
   ]
  },
  {
   "cell_type": "code",
   "execution_count": 4,
   "metadata": {
    "scrolled": true
   },
   "outputs": [
    {
     "data": {
      "text/html": [
       "<div>\n",
       "<style scoped>\n",
       "    .dataframe tbody tr th:only-of-type {\n",
       "        vertical-align: middle;\n",
       "    }\n",
       "\n",
       "    .dataframe tbody tr th {\n",
       "        vertical-align: top;\n",
       "    }\n",
       "\n",
       "    .dataframe thead th {\n",
       "        text-align: right;\n",
       "    }\n",
       "</style>\n",
       "<table border=\"1\" class=\"dataframe\">\n",
       "  <thead>\n",
       "    <tr style=\"text-align: right;\">\n",
       "      <th></th>\n",
       "      <th>High</th>\n",
       "      <th>Low</th>\n",
       "      <th>Open</th>\n",
       "      <th>Close</th>\n",
       "      <th>Volume</th>\n",
       "      <th>Adj Close</th>\n",
       "    </tr>\n",
       "    <tr>\n",
       "      <th>Date</th>\n",
       "      <th></th>\n",
       "      <th></th>\n",
       "      <th></th>\n",
       "      <th></th>\n",
       "      <th></th>\n",
       "      <th></th>\n",
       "    </tr>\n",
       "  </thead>\n",
       "  <tbody>\n",
       "    <tr>\n",
       "      <th>2015-09-01</th>\n",
       "      <td>42.590000</td>\n",
       "      <td>41.660000</td>\n",
       "      <td>42.169998</td>\n",
       "      <td>41.820000</td>\n",
       "      <td>49688900.0</td>\n",
       "      <td>38.005821</td>\n",
       "    </tr>\n",
       "    <tr>\n",
       "      <th>2015-09-02</th>\n",
       "      <td>43.380001</td>\n",
       "      <td>41.880001</td>\n",
       "      <td>42.360001</td>\n",
       "      <td>43.360001</td>\n",
       "      <td>37671500.0</td>\n",
       "      <td>39.405365</td>\n",
       "    </tr>\n",
       "    <tr>\n",
       "      <th>2015-09-03</th>\n",
       "      <td>43.980000</td>\n",
       "      <td>43.279999</td>\n",
       "      <td>43.410000</td>\n",
       "      <td>43.500000</td>\n",
       "      <td>28285200.0</td>\n",
       "      <td>39.532589</td>\n",
       "    </tr>\n",
       "    <tr>\n",
       "      <th>2015-09-04</th>\n",
       "      <td>43.040001</td>\n",
       "      <td>42.200001</td>\n",
       "      <td>42.810001</td>\n",
       "      <td>42.610001</td>\n",
       "      <td>37138800.0</td>\n",
       "      <td>38.723778</td>\n",
       "    </tr>\n",
       "    <tr>\n",
       "      <th>2015-09-08</th>\n",
       "      <td>44.000000</td>\n",
       "      <td>43.200001</td>\n",
       "      <td>43.299999</td>\n",
       "      <td>43.889999</td>\n",
       "      <td>32469800.0</td>\n",
       "      <td>39.887024</td>\n",
       "    </tr>\n",
       "  </tbody>\n",
       "</table>\n",
       "</div>"
      ],
      "text/plain": [
       "                 High        Low       Open      Close      Volume  Adj Close\n",
       "Date                                                                         \n",
       "2015-09-01  42.590000  41.660000  42.169998  41.820000  49688900.0  38.005821\n",
       "2015-09-02  43.380001  41.880001  42.360001  43.360001  37671500.0  39.405365\n",
       "2015-09-03  43.980000  43.279999  43.410000  43.500000  28285200.0  39.532589\n",
       "2015-09-04  43.040001  42.200001  42.810001  42.610001  37138800.0  38.723778\n",
       "2015-09-08  44.000000  43.200001  43.299999  43.889999  32469800.0  39.887024"
      ]
     },
     "execution_count": 4,
     "metadata": {},
     "output_type": "execute_result"
    }
   ],
   "source": [
    "df1.head()"
   ]
  },
  {
   "cell_type": "code",
   "execution_count": 5,
   "metadata": {
    "scrolled": false
   },
   "outputs": [
    {
     "data": {
      "text/html": [
       "<div>\n",
       "<style scoped>\n",
       "    .dataframe tbody tr th:only-of-type {\n",
       "        vertical-align: middle;\n",
       "    }\n",
       "\n",
       "    .dataframe tbody tr th {\n",
       "        vertical-align: top;\n",
       "    }\n",
       "\n",
       "    .dataframe thead th {\n",
       "        text-align: right;\n",
       "    }\n",
       "</style>\n",
       "<table border=\"1\" class=\"dataframe\">\n",
       "  <thead>\n",
       "    <tr style=\"text-align: right;\">\n",
       "      <th></th>\n",
       "      <th>High</th>\n",
       "      <th>Low</th>\n",
       "      <th>Open</th>\n",
       "      <th>Close</th>\n",
       "      <th>Volume</th>\n",
       "      <th>Adj Close</th>\n",
       "    </tr>\n",
       "  </thead>\n",
       "  <tbody>\n",
       "    <tr>\n",
       "      <th>count</th>\n",
       "      <td>1258.000000</td>\n",
       "      <td>1258.000000</td>\n",
       "      <td>1258.000000</td>\n",
       "      <td>1258.000000</td>\n",
       "      <td>1.258000e+03</td>\n",
       "      <td>1258.000000</td>\n",
       "    </tr>\n",
       "    <tr>\n",
       "      <th>mean</th>\n",
       "      <td>100.223474</td>\n",
       "      <td>98.291089</td>\n",
       "      <td>99.284364</td>\n",
       "      <td>99.328561</td>\n",
       "      <td>2.980268e+07</td>\n",
       "      <td>96.453262</td>\n",
       "    </tr>\n",
       "    <tr>\n",
       "      <th>std</th>\n",
       "      <td>44.595082</td>\n",
       "      <td>43.419136</td>\n",
       "      <td>44.017462</td>\n",
       "      <td>44.064458</td>\n",
       "      <td>1.448494e+07</td>\n",
       "      <td>45.189228</td>\n",
       "    </tr>\n",
       "    <tr>\n",
       "      <th>min</th>\n",
       "      <td>42.590000</td>\n",
       "      <td>41.660000</td>\n",
       "      <td>42.169998</td>\n",
       "      <td>41.820000</td>\n",
       "      <td>7.425600e+06</td>\n",
       "      <td>38.005821</td>\n",
       "    </tr>\n",
       "    <tr>\n",
       "      <th>25%</th>\n",
       "      <td>61.150000</td>\n",
       "      <td>60.262500</td>\n",
       "      <td>60.682501</td>\n",
       "      <td>60.695000</td>\n",
       "      <td>2.068352e+07</td>\n",
       "      <td>56.961381</td>\n",
       "    </tr>\n",
       "    <tr>\n",
       "      <th>50%</th>\n",
       "      <td>93.330002</td>\n",
       "      <td>91.494999</td>\n",
       "      <td>92.435001</td>\n",
       "      <td>92.355000</td>\n",
       "      <td>2.608655e+07</td>\n",
       "      <td>89.137764</td>\n",
       "    </tr>\n",
       "    <tr>\n",
       "      <th>75%</th>\n",
       "      <td>130.505005</td>\n",
       "      <td>128.174995</td>\n",
       "      <td>129.572498</td>\n",
       "      <td>129.094994</td>\n",
       "      <td>3.393008e+07</td>\n",
       "      <td>126.992477</td>\n",
       "    </tr>\n",
       "    <tr>\n",
       "      <th>max</th>\n",
       "      <td>231.149994</td>\n",
       "      <td>226.580002</td>\n",
       "      <td>228.179993</td>\n",
       "      <td>228.910004</td>\n",
       "      <td>1.352271e+08</td>\n",
       "      <td>228.910004</td>\n",
       "    </tr>\n",
       "  </tbody>\n",
       "</table>\n",
       "</div>"
      ],
      "text/plain": [
       "              High          Low         Open        Close        Volume  \\\n",
       "count  1258.000000  1258.000000  1258.000000  1258.000000  1.258000e+03   \n",
       "mean    100.223474    98.291089    99.284364    99.328561  2.980268e+07   \n",
       "std      44.595082    43.419136    44.017462    44.064458  1.448494e+07   \n",
       "min      42.590000    41.660000    42.169998    41.820000  7.425600e+06   \n",
       "25%      61.150000    60.262500    60.682501    60.695000  2.068352e+07   \n",
       "50%      93.330002    91.494999    92.435001    92.355000  2.608655e+07   \n",
       "75%     130.505005   128.174995   129.572498   129.094994  3.393008e+07   \n",
       "max     231.149994   226.580002   228.179993   228.910004  1.352271e+08   \n",
       "\n",
       "         Adj Close  \n",
       "count  1258.000000  \n",
       "mean     96.453262  \n",
       "std      45.189228  \n",
       "min      38.005821  \n",
       "25%      56.961381  \n",
       "50%      89.137764  \n",
       "75%     126.992477  \n",
       "max     228.910004  "
      ]
     },
     "execution_count": 5,
     "metadata": {},
     "output_type": "execute_result"
    }
   ],
   "source": [
    "df1.describe()"
   ]
  },
  {
   "cell_type": "code",
   "execution_count": 6,
   "metadata": {},
   "outputs": [
    {
     "name": "stdout",
     "output_type": "stream",
     "text": [
      "<class 'pandas.core.frame.DataFrame'>\n",
      "DatetimeIndex: 1258 entries, 2015-09-01 to 2020-08-28\n",
      "Data columns (total 6 columns):\n",
      " #   Column     Non-Null Count  Dtype  \n",
      "---  ------     --------------  -----  \n",
      " 0   High       1258 non-null   float64\n",
      " 1   Low        1258 non-null   float64\n",
      " 2   Open       1258 non-null   float64\n",
      " 3   Close      1258 non-null   float64\n",
      " 4   Volume     1258 non-null   float64\n",
      " 5   Adj Close  1258 non-null   float64\n",
      "dtypes: float64(6)\n",
      "memory usage: 68.8 KB\n"
     ]
    }
   ],
   "source": [
    "df1.info()"
   ]
  },
  {
   "cell_type": "code",
   "execution_count": 7,
   "metadata": {},
   "outputs": [],
   "source": [
    "df2 = df1.reset_index()"
   ]
  },
  {
   "cell_type": "code",
   "execution_count": 8,
   "metadata": {},
   "outputs": [
    {
     "name": "stdout",
     "output_type": "stream",
     "text": [
      "<class 'pandas.core.frame.DataFrame'>\n",
      "RangeIndex: 1258 entries, 0 to 1257\n",
      "Data columns (total 7 columns):\n",
      " #   Column     Non-Null Count  Dtype         \n",
      "---  ------     --------------  -----         \n",
      " 0   Date       1258 non-null   datetime64[ns]\n",
      " 1   High       1258 non-null   float64       \n",
      " 2   Low        1258 non-null   float64       \n",
      " 3   Open       1258 non-null   float64       \n",
      " 4   Close      1258 non-null   float64       \n",
      " 5   Volume     1258 non-null   float64       \n",
      " 6   Adj Close  1258 non-null   float64       \n",
      "dtypes: datetime64[ns](1), float64(6)\n",
      "memory usage: 68.9 KB\n"
     ]
    }
   ],
   "source": [
    "df2.info()"
   ]
  },
  {
   "cell_type": "code",
   "execution_count": 12,
   "metadata": {},
   "outputs": [],
   "source": [
    "df2['Year'] = df2['Date'].dt.year"
   ]
  },
  {
   "cell_type": "code",
   "execution_count": 14,
   "metadata": {},
   "outputs": [
    {
     "data": {
      "text/html": [
       "<div>\n",
       "<style scoped>\n",
       "    .dataframe tbody tr th:only-of-type {\n",
       "        vertical-align: middle;\n",
       "    }\n",
       "\n",
       "    .dataframe tbody tr th {\n",
       "        vertical-align: top;\n",
       "    }\n",
       "\n",
       "    .dataframe thead th {\n",
       "        text-align: right;\n",
       "    }\n",
       "</style>\n",
       "<table border=\"1\" class=\"dataframe\">\n",
       "  <thead>\n",
       "    <tr style=\"text-align: right;\">\n",
       "      <th></th>\n",
       "      <th>Date</th>\n",
       "      <th>High</th>\n",
       "      <th>Low</th>\n",
       "      <th>Open</th>\n",
       "      <th>Close</th>\n",
       "      <th>Volume</th>\n",
       "      <th>Adj Close</th>\n",
       "      <th>Year</th>\n",
       "    </tr>\n",
       "  </thead>\n",
       "  <tbody>\n",
       "    <tr>\n",
       "      <th>0</th>\n",
       "      <td>2015-09-01</td>\n",
       "      <td>42.590000</td>\n",
       "      <td>41.660000</td>\n",
       "      <td>42.169998</td>\n",
       "      <td>41.820000</td>\n",
       "      <td>49688900.0</td>\n",
       "      <td>38.005821</td>\n",
       "      <td>2015</td>\n",
       "    </tr>\n",
       "    <tr>\n",
       "      <th>1</th>\n",
       "      <td>2015-09-02</td>\n",
       "      <td>43.380001</td>\n",
       "      <td>41.880001</td>\n",
       "      <td>42.360001</td>\n",
       "      <td>43.360001</td>\n",
       "      <td>37671500.0</td>\n",
       "      <td>39.405365</td>\n",
       "      <td>2015</td>\n",
       "    </tr>\n",
       "    <tr>\n",
       "      <th>2</th>\n",
       "      <td>2015-09-03</td>\n",
       "      <td>43.980000</td>\n",
       "      <td>43.279999</td>\n",
       "      <td>43.410000</td>\n",
       "      <td>43.500000</td>\n",
       "      <td>28285200.0</td>\n",
       "      <td>39.532589</td>\n",
       "      <td>2015</td>\n",
       "    </tr>\n",
       "    <tr>\n",
       "      <th>3</th>\n",
       "      <td>2015-09-04</td>\n",
       "      <td>43.040001</td>\n",
       "      <td>42.200001</td>\n",
       "      <td>42.810001</td>\n",
       "      <td>42.610001</td>\n",
       "      <td>37138800.0</td>\n",
       "      <td>38.723778</td>\n",
       "      <td>2015</td>\n",
       "    </tr>\n",
       "    <tr>\n",
       "      <th>4</th>\n",
       "      <td>2015-09-08</td>\n",
       "      <td>44.000000</td>\n",
       "      <td>43.200001</td>\n",
       "      <td>43.299999</td>\n",
       "      <td>43.889999</td>\n",
       "      <td>32469800.0</td>\n",
       "      <td>39.887024</td>\n",
       "      <td>2015</td>\n",
       "    </tr>\n",
       "  </tbody>\n",
       "</table>\n",
       "</div>"
      ],
      "text/plain": [
       "        Date       High        Low       Open      Close      Volume  \\\n",
       "0 2015-09-01  42.590000  41.660000  42.169998  41.820000  49688900.0   \n",
       "1 2015-09-02  43.380001  41.880001  42.360001  43.360001  37671500.0   \n",
       "2 2015-09-03  43.980000  43.279999  43.410000  43.500000  28285200.0   \n",
       "3 2015-09-04  43.040001  42.200001  42.810001  42.610001  37138800.0   \n",
       "4 2015-09-08  44.000000  43.200001  43.299999  43.889999  32469800.0   \n",
       "\n",
       "   Adj Close  Year  \n",
       "0  38.005821  2015  \n",
       "1  39.405365  2015  \n",
       "2  39.532589  2015  \n",
       "3  38.723778  2015  \n",
       "4  39.887024  2015  "
      ]
     },
     "execution_count": 14,
     "metadata": {},
     "output_type": "execute_result"
    }
   ],
   "source": [
    "df2.head()"
   ]
  },
  {
   "cell_type": "code",
   "execution_count": 15,
   "metadata": {},
   "outputs": [],
   "source": [
    "df2['work_week'] = df2['Date'].dt.week\n",
    "df2['month'] = df2['Date'].dt.month\n",
    "df2['day_of_week'] = df2['Date'].dt.day_name()"
   ]
  },
  {
   "cell_type": "code",
   "execution_count": 16,
   "metadata": {},
   "outputs": [
    {
     "data": {
      "text/html": [
       "<div>\n",
       "<style scoped>\n",
       "    .dataframe tbody tr th:only-of-type {\n",
       "        vertical-align: middle;\n",
       "    }\n",
       "\n",
       "    .dataframe tbody tr th {\n",
       "        vertical-align: top;\n",
       "    }\n",
       "\n",
       "    .dataframe thead th {\n",
       "        text-align: right;\n",
       "    }\n",
       "</style>\n",
       "<table border=\"1\" class=\"dataframe\">\n",
       "  <thead>\n",
       "    <tr style=\"text-align: right;\">\n",
       "      <th></th>\n",
       "      <th>Date</th>\n",
       "      <th>High</th>\n",
       "      <th>Low</th>\n",
       "      <th>Open</th>\n",
       "      <th>Close</th>\n",
       "      <th>Volume</th>\n",
       "      <th>Adj Close</th>\n",
       "      <th>Year</th>\n",
       "      <th>work_week</th>\n",
       "      <th>month</th>\n",
       "      <th>day_of_week</th>\n",
       "    </tr>\n",
       "  </thead>\n",
       "  <tbody>\n",
       "    <tr>\n",
       "      <th>0</th>\n",
       "      <td>2015-09-01</td>\n",
       "      <td>42.590000</td>\n",
       "      <td>41.660000</td>\n",
       "      <td>42.169998</td>\n",
       "      <td>41.820000</td>\n",
       "      <td>49688900.0</td>\n",
       "      <td>38.005821</td>\n",
       "      <td>2015</td>\n",
       "      <td>36</td>\n",
       "      <td>9</td>\n",
       "      <td>Tuesday</td>\n",
       "    </tr>\n",
       "    <tr>\n",
       "      <th>1</th>\n",
       "      <td>2015-09-02</td>\n",
       "      <td>43.380001</td>\n",
       "      <td>41.880001</td>\n",
       "      <td>42.360001</td>\n",
       "      <td>43.360001</td>\n",
       "      <td>37671500.0</td>\n",
       "      <td>39.405365</td>\n",
       "      <td>2015</td>\n",
       "      <td>36</td>\n",
       "      <td>9</td>\n",
       "      <td>Wednesday</td>\n",
       "    </tr>\n",
       "    <tr>\n",
       "      <th>2</th>\n",
       "      <td>2015-09-03</td>\n",
       "      <td>43.980000</td>\n",
       "      <td>43.279999</td>\n",
       "      <td>43.410000</td>\n",
       "      <td>43.500000</td>\n",
       "      <td>28285200.0</td>\n",
       "      <td>39.532589</td>\n",
       "      <td>2015</td>\n",
       "      <td>36</td>\n",
       "      <td>9</td>\n",
       "      <td>Thursday</td>\n",
       "    </tr>\n",
       "    <tr>\n",
       "      <th>3</th>\n",
       "      <td>2015-09-04</td>\n",
       "      <td>43.040001</td>\n",
       "      <td>42.200001</td>\n",
       "      <td>42.810001</td>\n",
       "      <td>42.610001</td>\n",
       "      <td>37138800.0</td>\n",
       "      <td>38.723778</td>\n",
       "      <td>2015</td>\n",
       "      <td>36</td>\n",
       "      <td>9</td>\n",
       "      <td>Friday</td>\n",
       "    </tr>\n",
       "    <tr>\n",
       "      <th>4</th>\n",
       "      <td>2015-09-08</td>\n",
       "      <td>44.000000</td>\n",
       "      <td>43.200001</td>\n",
       "      <td>43.299999</td>\n",
       "      <td>43.889999</td>\n",
       "      <td>32469800.0</td>\n",
       "      <td>39.887024</td>\n",
       "      <td>2015</td>\n",
       "      <td>37</td>\n",
       "      <td>9</td>\n",
       "      <td>Tuesday</td>\n",
       "    </tr>\n",
       "    <tr>\n",
       "      <th>...</th>\n",
       "      <td>...</td>\n",
       "      <td>...</td>\n",
       "      <td>...</td>\n",
       "      <td>...</td>\n",
       "      <td>...</td>\n",
       "      <td>...</td>\n",
       "      <td>...</td>\n",
       "      <td>...</td>\n",
       "      <td>...</td>\n",
       "      <td>...</td>\n",
       "      <td>...</td>\n",
       "    </tr>\n",
       "    <tr>\n",
       "      <th>1253</th>\n",
       "      <td>2020-08-24</td>\n",
       "      <td>215.520004</td>\n",
       "      <td>212.429993</td>\n",
       "      <td>214.789993</td>\n",
       "      <td>213.690002</td>\n",
       "      <td>25460100.0</td>\n",
       "      <td>213.690002</td>\n",
       "      <td>2020</td>\n",
       "      <td>35</td>\n",
       "      <td>8</td>\n",
       "      <td>Monday</td>\n",
       "    </tr>\n",
       "    <tr>\n",
       "      <th>1254</th>\n",
       "      <td>2020-08-25</td>\n",
       "      <td>216.610001</td>\n",
       "      <td>213.100006</td>\n",
       "      <td>213.100006</td>\n",
       "      <td>216.470001</td>\n",
       "      <td>23043700.0</td>\n",
       "      <td>216.470001</td>\n",
       "      <td>2020</td>\n",
       "      <td>35</td>\n",
       "      <td>8</td>\n",
       "      <td>Tuesday</td>\n",
       "    </tr>\n",
       "    <tr>\n",
       "      <th>1255</th>\n",
       "      <td>2020-08-26</td>\n",
       "      <td>222.089996</td>\n",
       "      <td>217.360001</td>\n",
       "      <td>217.880005</td>\n",
       "      <td>221.149994</td>\n",
       "      <td>39600800.0</td>\n",
       "      <td>221.149994</td>\n",
       "      <td>2020</td>\n",
       "      <td>35</td>\n",
       "      <td>8</td>\n",
       "      <td>Wednesday</td>\n",
       "    </tr>\n",
       "    <tr>\n",
       "      <th>1256</th>\n",
       "      <td>2020-08-27</td>\n",
       "      <td>231.149994</td>\n",
       "      <td>219.399994</td>\n",
       "      <td>222.889999</td>\n",
       "      <td>226.580002</td>\n",
       "      <td>57602200.0</td>\n",
       "      <td>226.580002</td>\n",
       "      <td>2020</td>\n",
       "      <td>35</td>\n",
       "      <td>8</td>\n",
       "      <td>Thursday</td>\n",
       "    </tr>\n",
       "    <tr>\n",
       "      <th>1257</th>\n",
       "      <td>2020-08-28</td>\n",
       "      <td>230.639999</td>\n",
       "      <td>226.580002</td>\n",
       "      <td>228.179993</td>\n",
       "      <td>228.910004</td>\n",
       "      <td>26264700.0</td>\n",
       "      <td>228.910004</td>\n",
       "      <td>2020</td>\n",
       "      <td>35</td>\n",
       "      <td>8</td>\n",
       "      <td>Friday</td>\n",
       "    </tr>\n",
       "  </tbody>\n",
       "</table>\n",
       "<p>1258 rows × 11 columns</p>\n",
       "</div>"
      ],
      "text/plain": [
       "           Date        High         Low        Open       Close      Volume  \\\n",
       "0    2015-09-01   42.590000   41.660000   42.169998   41.820000  49688900.0   \n",
       "1    2015-09-02   43.380001   41.880001   42.360001   43.360001  37671500.0   \n",
       "2    2015-09-03   43.980000   43.279999   43.410000   43.500000  28285200.0   \n",
       "3    2015-09-04   43.040001   42.200001   42.810001   42.610001  37138800.0   \n",
       "4    2015-09-08   44.000000   43.200001   43.299999   43.889999  32469800.0   \n",
       "...         ...         ...         ...         ...         ...         ...   \n",
       "1253 2020-08-24  215.520004  212.429993  214.789993  213.690002  25460100.0   \n",
       "1254 2020-08-25  216.610001  213.100006  213.100006  216.470001  23043700.0   \n",
       "1255 2020-08-26  222.089996  217.360001  217.880005  221.149994  39600800.0   \n",
       "1256 2020-08-27  231.149994  219.399994  222.889999  226.580002  57602200.0   \n",
       "1257 2020-08-28  230.639999  226.580002  228.179993  228.910004  26264700.0   \n",
       "\n",
       "       Adj Close  Year  work_week  month day_of_week  \n",
       "0      38.005821  2015         36      9     Tuesday  \n",
       "1      39.405365  2015         36      9   Wednesday  \n",
       "2      39.532589  2015         36      9    Thursday  \n",
       "3      38.723778  2015         36      9      Friday  \n",
       "4      39.887024  2015         37      9     Tuesday  \n",
       "...          ...   ...        ...    ...         ...  \n",
       "1253  213.690002  2020         35      8      Monday  \n",
       "1254  216.470001  2020         35      8     Tuesday  \n",
       "1255  221.149994  2020         35      8   Wednesday  \n",
       "1256  226.580002  2020         35      8    Thursday  \n",
       "1257  228.910004  2020         35      8      Friday  \n",
       "\n",
       "[1258 rows x 11 columns]"
      ]
     },
     "execution_count": 16,
     "metadata": {},
     "output_type": "execute_result"
    }
   ],
   "source": [
    "df2"
   ]
  },
  {
   "cell_type": "code",
   "execution_count": 18,
   "metadata": {},
   "outputs": [
    {
     "data": {
      "text/plain": [
       "<matplotlib.axes._subplots.AxesSubplot at 0x229848f82e0>"
      ]
     },
     "execution_count": 18,
     "metadata": {},
     "output_type": "execute_result"
    },
    {
     "data": {
      "image/png": "[encoded data removed]",
      "text/plain": [
       "<Figure size 432x288 with 1 Axes>"
      ]
     },
     "metadata": {
      "needs_background": "light"
     },
     "output_type": "display_data"
    }
   ],
   "source": [
    "sns.lineplot(data=df2, x='Date', y='High')"
   ]
  },
  {
   "cell_type": "code",
   "execution_count": 20,
   "metadata": {},
   "outputs": [
    {
     "data": {
      "text/plain": [
       "<matplotlib.axes._subplots.AxesSubplot at 0x2298527e2e0>"
      ]
     },
     "execution_count": 20,
     "metadata": {},
     "output_type": "execute_result"
    },
    {
     "data": {
      "image/png": "[encoded data removed]",
      "text/plain": [
       "<Figure size 432x288 with 1 Axes>"
      ]
     },
     "metadata": {
      "needs_background": "light"
     },
     "output_type": "display_data"
    }
   ],
   "source": [
    "sns.pointplot(data=df2, x='Year',y='Low')"
   ]
  },
  {
   "cell_type": "code",
   "execution_count": 21,
   "metadata": {},
   "outputs": [
    {
     "data": {
      "text/plain": [
       "<matplotlib.axes._subplots.AxesSubplot at 0x229878b23d0>"
      ]
     },
     "execution_count": 21,
     "metadata": {},
     "output_type": "execute_result"
    },
    {
     "data": {
      "image/png": "[encoded data removed]",
      "text/plain": [
       "<Figure size 432x288 with 1 Axes>"
      ]
     },
     "metadata": {
      "needs_background": "light"
     },
     "output_type": "display_data"
    }
   ],
   "source": [
    "sns.lineplot(data=df2, x='Date', y='High')\n",
    "sns.lineplot(data=df2, x='Date', y='Low')"
   ]
  },
  {
   "cell_type": "code",
   "execution_count": 28,
   "metadata": {},
   "outputs": [],
   "source": [
    "cond1 = ((df2['Year']==2019) | (df2['Year']==2020))\n",
    "df2_1920 = df2.loc[cond1]"
   ]
  },
  {
   "cell_type": "code",
   "execution_count": 30,
   "metadata": {},
   "outputs": [
    {
     "data": {
      "text/plain": [
       "<matplotlib.axes._subplots.AxesSubplot at 0x22987921ee0>"
      ]
     },
     "execution_count": 30,
     "metadata": {},
     "output_type": "execute_result"
    },
    {
     "data": {
      "image/png": "[encoded data removed]",
      "text/plain": [
       "<Figure size 432x288 with 1 Axes>"
      ]
     },
     "metadata": {
      "needs_background": "light"
     },
     "output_type": "display_data"
    }
   ],
   "source": [
    "sns.lineplot(data=df2_1920, x='Date', y='High')\n",
    "sns.lineplot(data=df2_1920, x='Date', y='Low')\n",
    "sns.lineplot(data=df2_1920, x='Date', y='Open')\n",
    "sns.lineplot(data=df2_1920, x='Date', y='Close')"
   ]
  },
  {
   "cell_type": "code",
   "execution_count": 31,
   "metadata": {},
   "outputs": [],
   "source": [
    "import matplotlib.pyplot as plit"
   ]
  },
  {
   "cell_type": "code",
   "execution_count": 33,
   "metadata": {},
   "outputs": [
    {
     "data": {
      "text/plain": [
       "<matplotlib.axes._subplots.AxesSubplot at 0x22987bfdc40>"
      ]
     },
     "execution_count": 33,
     "metadata": {},
     "output_type": "execute_result"
    },
    {
     "data": {
      "image/png": "[encoded data removed]",
      "text/plain": [
       "<Figure size 720x360 with 1 Axes>"
      ]
     },
     "metadata": {
      "needs_background": "light"
     },
     "output_type": "display_data"
    }
   ],
   "source": [
    "plit.figure(figsize= [10,5])\n",
    "plit.ylim([120,180])\n",
    "sns.lineplot(data=df2_1920, x='Date', y='High')\n",
    "sns.lineplot(data=df2_1920, x='Date', y='Low')\n",
    "sns.lineplot(data=df2_1920, x='Date', y='Open')\n",
    "sns.lineplot(data=df2_1920, x='Date', y='Close')"
   ]
  },
  {
   "cell_type": "code",
   "execution_count": 39,
   "metadata": {},
   "outputs": [
    {
     "data": {
      "image/png": "[encoded data removed]",
      "text/plain": [
       "<Figure size 720x360 with 1 Axes>"
      ]
     },
     "metadata": {
      "needs_background": "light"
     },
     "output_type": "display_data"
    }
   ],
   "source": [
    "import matplotlib as mpl\n",
    "mpl.rc('font', family='Malgun Gothic')\n",
    "\n",
    "plit.figure(figsize=[10,5])\n",
    "plit.title('M사 주식 Chart')\n",
    "img = sns.lineplot(data=df2, x='Date', y='Volume')\n",
    "img.get_figure().savefig('Chart.png')"
   ]
  },
  {
   "cell_type": "code",
   "execution_count": null,
   "metadata": {},
   "outputs": [],
   "source": []
  },
  {
   "cell_type": "code",
   "execution_count": null,
   "metadata": {},
   "outputs": [],
   "source": []
  }
 ],
 "metadata": {
  "kernelspec": {
   "display_name": "Python 3",
   "language": "python",
   "name": "python3"
  },
  "language_info": {
   "codemirror_mode": {
    "name": "ipython",
    "version": 3
   },
   "file_extension": ".py",
   "mimetype": "text/x-python",
   "name": "python",
   "nbconvert_exporter": "python",
   "pygments_lexer": "ipython3",
   "version": "3.8.3"
  }
 },
 "nbformat": 4,
 "nbformat_minor": 4
}
