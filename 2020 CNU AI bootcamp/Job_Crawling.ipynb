{
 "cells": [
  {
   "cell_type": "markdown",
   "metadata": {},
   "source": [
    "# 기업 평가 데이터 "
   ]
  },
  {
   "cell_type": "code",
   "execution_count": 1,
   "metadata": {},
   "outputs": [],
   "source": [
    "from selenium import webdriver"
   ]
  },
  {
   "cell_type": "code",
   "execution_count": 3,
   "metadata": {},
   "outputs": [],
   "source": [
    "driver = webdriver.Chrome('chromedriver')\n",
    "driver.get('https://www.jobplanet.co.kr/')"
   ]
  },
  {
   "cell_type": "code",
   "execution_count": 4,
   "metadata": {},
   "outputs": [],
   "source": [
    "driver.implicitly_wait(10)"
   ]
  },
  {
   "cell_type": "code",
   "execution_count": 5,
   "metadata": {},
   "outputs": [],
   "source": [
    "driver.find_element_by_xpath('/html/body/div[1]/div[1]/header/div/div[2]/a[1]/span').click()"
   ]
  },
  {
   "cell_type": "code",
   "execution_count": 6,
   "metadata": {},
   "outputs": [],
   "source": [
    "driver.find_element_by_xpath('//*[@id=\"user_email\"]').send_keys('52100108@dankook.ac.kr')"
   ]
  },
  {
   "cell_type": "code",
   "execution_count": 7,
   "metadata": {},
   "outputs": [],
   "source": [
    "driver.find_element_by_xpath('//*[@id=\"user_password\"]').send_keys('kgkg3920691')"
   ]
  },
  {
   "cell_type": "code",
   "execution_count": 8,
   "metadata": {},
   "outputs": [],
   "source": [
    "driver.find_element_by_xpath('//*[@id=\"signInSignInCon\"]/div[2]/div/section[2]/fieldset/button').click()"
   ]
  },
  {
   "cell_type": "code",
   "execution_count": 9,
   "metadata": {},
   "outputs": [],
   "source": [
    "driver.get('https://www.jobplanet.co.kr/companies/30139/reviews?by_occupation=10100&filter_by_occu_folw=true&slug=%EC%82%BC%EC%84%B1%EC%A0%84%EC%9E%90')"
   ]
  },
  {
   "cell_type": "code",
   "execution_count": 10,
   "metadata": {},
   "outputs": [
    {
     "data": {
      "text/plain": [
       "'\"정말 좋아요 꼭 다니시요 대출도 잘나와요 행복^^\"'"
      ]
     },
     "execution_count": 10,
     "metadata": {},
     "output_type": "execute_result"
    }
   ],
   "source": [
    "driver.find_element_by_xpath('//*[@id=\"viewReviewsList\"]/div/div/div/section[1]/div/div[2]/div/div[1]/h2').text"
   ]
  },
  {
   "cell_type": "code",
   "execution_count": 13,
   "metadata": {
    "collapsed": true
   },
   "outputs": [
    {
     "name": "stdout",
     "output_type": "stream",
     "text": [
      "\"다양한 경험을 할 수 있었고, 좋은 사내복지환경과 연봉을 받을 수 있는곳\"\n",
      "\"연봉은 많지만 그만큼 일이 많아서 힘든것도 있습니다.\"\n",
      "\"빡시지만 한만큼 주는 회사. 입사하기 힘드나 입사 후엔 최고\"\n",
      "\"큰 회사의 장점과 단점을 극명하게 느낄 수 있는 대한민국 대표기업\"\n",
      "\"역시 삼성전자 파견직으로 근무하기 좋았습니다.\"\n"
     ]
    }
   ],
   "source": [
    "for i in range(1,6):\n",
    "    comm = driver.find_element_by_xpath('//*[@id=\"viewReviewsList\"]/div/div/div/section['+str(i)+']/div/div[2]/div/div[1]/h2')\n",
    "    print(comm.text)\n",
    "\n",
    "driver.find_element_by_xpath('//*[@id=\"viewReviewsList\"]/div/div/div/div[2]/article/a[7]').click()"
   ]
  },
  {
   "cell_type": "code",
   "execution_count": 17,
   "metadata": {},
   "outputs": [
    {
     "name": "stdout",
     "output_type": "stream",
     "text": [
      "A\n",
      "Error\n",
      "unsupported operand type(s) for +: 'int' and 'str'\n",
      "End\n",
      "A\n",
      "Error\n",
      "unsupported operand type(s) for +: 'int' and 'str'\n",
      "End\n",
      "A\n",
      "Error\n",
      "unsupported operand type(s) for +: 'int' and 'str'\n",
      "End\n",
      "A\n",
      "Error\n",
      "unsupported operand type(s) for +: 'int' and 'str'\n",
      "End\n",
      "A\n",
      "Error\n",
      "unsupported operand type(s) for +: 'int' and 'str'\n",
      "End\n",
      "A\n",
      "Error\n",
      "unsupported operand type(s) for +: 'int' and 'str'\n",
      "End\n",
      "A\n",
      "Error\n",
      "unsupported operand type(s) for +: 'int' and 'str'\n",
      "End\n",
      "A\n",
      "Error\n",
      "unsupported operand type(s) for +: 'int' and 'str'\n",
      "End\n",
      "A\n",
      "Error\n",
      "unsupported operand type(s) for +: 'int' and 'str'\n",
      "End\n",
      "A\n",
      "Error\n",
      "unsupported operand type(s) for +: 'int' and 'str'\n",
      "End\n"
     ]
    }
   ],
   "source": [
    "for i in range(0,10):\n",
    "    try: \n",
    "        print('A')\n",
    "        a = 100 + 'a' # 오류발생 \n",
    "        print('B')\n",
    "\n",
    "    except Exception as e :\n",
    "        print('Error')\n",
    "        print(e)\n",
    "        \n",
    "    finally:\n",
    "        print('End')"
   ]
  }
 ],
 "metadata": {
  "kernelspec": {
   "display_name": "Python 3",
   "language": "python",
   "name": "python3"
  },
  "language_info": {
   "codemirror_mode": {
    "name": "ipython",
    "version": 3
   },
   "file_extension": ".py",
   "mimetype": "text/x-python",
   "name": "python",
   "nbconvert_exporter": "python",
   "pygments_lexer": "ipython3",
   "version": "3.8.3"
  }
 },
 "nbformat": 4,
 "nbformat_minor": 4
}
