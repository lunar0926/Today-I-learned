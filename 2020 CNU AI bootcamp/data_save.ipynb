{
 "cells": [
  {
   "cell_type": "code",
   "execution_count": 19,
   "metadata": {},
   "outputs": [],
   "source": [
    "from selenium import webdriver"
   ]
  },
  {
   "cell_type": "code",
   "execution_count": 20,
   "metadata": {},
   "outputs": [],
   "source": [
    "driver = webdriver.Chrome('chromedriver')\n",
    "driver.get('http://emart.ssg.com/')"
   ]
  },
  {
   "cell_type": "code",
   "execution_count": 21,
   "metadata": {},
   "outputs": [],
   "source": [
    "driver.find_element_by_xpath('//*[@id=\"e_gnb\"]/div/div[1]/div[2]/ul[1]/li[6]/a').click()"
   ]
  },
  {
   "cell_type": "code",
   "execution_count": 38,
   "metadata": {},
   "outputs": [],
   "source": [
    "img = driver.find_element_by_xpath('//*[@id=\"ty_thmb_view\"]/ul/li[1]/div[1]/div[2]/a/img[1]')"
   ]
  },
  {
   "cell_type": "code",
   "execution_count": 41,
   "metadata": {},
   "outputs": [],
   "source": [
    "image_url = img.get_attribute('src')"
   ]
  },
  {
   "cell_type": "code",
   "execution_count": 42,
   "metadata": {},
   "outputs": [],
   "source": [
    "import urllib.request"
   ]
  },
  {
   "cell_type": "code",
   "execution_count": 43,
   "metadata": {},
   "outputs": [
    {
     "data": {
      "text/plain": [
       "('image1.png', <http.client.HTTPMessage at 0x1c1adfdc100>)"
      ]
     },
     "execution_count": 43,
     "metadata": {},
     "output_type": "execute_result"
    }
   ],
   "source": [
    "urllib.request.urlretrieve(image_url, 'image1.png')"
   ]
  },
  {
   "cell_type": "code",
   "execution_count": 58,
   "metadata": {},
   "outputs": [],
   "source": [
    "product_list = []\n",
    "price_list = []\n",
    "image_url_list = []\n",
    "for i in range(1, 80+1):\n",
    "    product_name = driver.find_element_by_xpath('//*[@id=\"ty_thmb_view\"]/ul/li['+str(i)+']/div[2]/div[2]/div/a/em[1]').text\n",
    "    price = driver.find_element_by_xpath('//*[@id=\"ty_thmb_view\"]/ul/li['+str(i)+']/div[2]/div[3]/div/em').text\n",
    "    image = driver.find_element_by_xpath('//*[@id=\"ty_thmb_view\"]/ul/li['+str(i)+']/div[1]/div[2]/a/img[1]')\n",
    "    \n",
    "    image_url_list.append(image.get_attribute('src'))\n",
    "    product_list.append(product_name)\n",
    "    price_list.append(price)\n",
    "   "
   ]
  },
  {
   "cell_type": "code",
   "execution_count": 48,
   "metadata": {},
   "outputs": [
    {
     "data": {
      "text/plain": [
       "['[서울우유] 서울우유 1000ml 나100%',\n",
       " '[서울우유] 서울우유 2.3L',\n",
       " '[노브랜드] 마시는 요구르트 65ml * 15개입',\n",
       " '[매일] 우유 오리지널 후레쉬팩 900ML*2',\n",
       " '[피코크] 우유(1등급) 1000ml',\n",
       " '[서울우유] 체다 슬라이스 치즈(300g2개입) 600g',\n",
       " '서울우유 1.8L',\n",
       " '[서울우유] 목장의 신선함이 살아있는 우유 1L',\n",
       " '[서울우유] 후레쉬 밀크 기획(900ml*2) 1800ml',\n",
       " '[노브랜드] 굿밀크 저지방 우유 1L',\n",
       " '[매일] 소화가 잘되는 우유 930ml',\n",
       " '[서울우유] 비요뜨 초코링 (143g*2개)',\n",
       " '매일유업 바이오 플레인 450g*2입 기획',\n",
       " '※점포별 구성상이 [덴마크] 대니쉬 the건강한우유(900ml*2) 1800ml',\n",
       " '[서울우유] 짜요짜요 포도맛 240g',\n",
       " '[서울우유] 커피 삼각 포리 (200ml*3개)',\n",
       " '[서울우유] 짜요짜요 딸기맛 240g',\n",
       " '[한국야쿠르트] 야쿠르트 라이트 65mlX15개',\n",
       " '[남양] 고소한 저지방우유 900ml*2',\n",
       " '노브랜드 굿모닝 굿밀크1,000ml',\n",
       " '[남양] 맛있는 우유 GT 900ml×2',\n",
       " '[서울우유] 저지방 우유 1000ml',\n",
       " '소와나무 체다치즈클래식204g',\n",
       " '[피코크] 그릭 요거트 450g',\n",
       " '[빙그레] 요플레 10개입 기획 85g*10 (맛은 랜덤배송)',\n",
       " '[서울우유] 프레시 버터 80g*3입',\n",
       " '[파스퇴르] 저온살균우유 기획세트(930mlx2입)',\n",
       " '리얼밀 플레인요거트 83g*10입',\n",
       " '[서울우유] 생크림 500ml',\n",
       " '[이마트] 진심을 담은 슈레드 모짜렐라 치즈 500g',\n",
       " '[동원 소와나무] 비피더스 명장 기획(140ml*12/점포별 구성 상이함) 1680ml',\n",
       " '[서울우유] 저지방 우유 1800ml',\n",
       " '[매일] 매일 바이오 플레인 450g',\n",
       " '매일 오리지널 900ml',\n",
       " '[한국야쿠르트] 윌 오리지날 150mlX5개',\n",
       " '[서울우유] 짜요짜요 복숭아 240g',\n",
       " '[피코크] 우유 (1A등급) 1000ml',\n",
       " '[매일] 소화가 잘되는 저지방 우유 930ml',\n",
       " '[남양] 요구르트(65ml*20개) 1300ml',\n",
       " '[일동] 후디스 그릭요거트 플레인 80g4',\n",
       " '[한국야쿠르트] 얼려먹는 야쿠르트 110mlX4개',\n",
       " '[피코크] 플레인 요거트 900g',\n",
       " '풀무원다논 그릭 달지 않은 플레인 760g(95g*8컵)',\n",
       " '[남양] 이오(80ml*15개/점포별 상품구성 다름) 1200ml',\n",
       " '[풀무원다논] 액티비아 0% 플레인 화이트 90g8',\n",
       " '[피코크] 저지방 플레인 요거트 900g',\n",
       " '[서울우유] 서울우유 (200ml*3개)',\n",
       " '[남양] 자연의 시작 불가리스 사과(150ml8개입) 1200ml',\n",
       " '이롬 황성주 국산콩 검은콩 두유 190ml*20',\n",
       " '[이마트] 진심을 담은 우유 2.3L',\n",
       " '[노브랜드] 딸기 담은 요구르트 750ml',\n",
       " '[빙그레] 바나나맛 우유 Value 6팩(240ml*6개) 1440ml',\n",
       " '[서울우유] 저지방 우유 2.3L',\n",
       " '[서울우유] 무가염 버터 450g',\n",
       " '노브랜드 체다슬라이스치즈 900g',\n",
       " '[매일] 아몬드브리즈 오리지널 950ml',\n",
       " '서울 뼈에쏙쏙 고칼슘우유 2입',\n",
       " '[한국야쿠르트] 야쿠르트 프리미엄 라이트 100mlX5개',\n",
       " '[서울우유] 연유 500g',\n",
       " '[매일] 소화가 잘되는 멸균우유 (190ml16)',\n",
       " '[한국야쿠르트] 장케어프로젝트MPRO3 130ml*4입 / 건강기능식품',\n",
       " '[남양] 드빈치 자연방목치즈 255g*2입기획',\n",
       " '상하치즈 더블업 모짜렐라 슬라이스 240g',\n",
       " '[한국야쿠르트] 윌 저지방 150mlX5개',\n",
       " '비요뜨 쿠키앤크림 136g*2',\n",
       " '[피코크] 유기농 요구르트 플레인 900g',\n",
       " '서울 커피우유 200ml*3입',\n",
       " '[파스퇴르] 후레쉬우유(200ml*3입) 600ml',\n",
       " '[매일] 엔요 플레인 100ml*5',\n",
       " '[서울우유] 뽀로로 칼슘왕 치즈 180g',\n",
       " '[서울우유] 비요뜨 크런치볼 (143g*2개)',\n",
       " '맛있는우유GT 멸균 200ml*24',\n",
       " '진심을 담은 슈레드 모짜렐라치즈 280g',\n",
       " '[서울우유] 목장의 신선함이 살아 있는 저지방 1L',\n",
       " '[동원 소와나무] 요러브 생크림 요거트 (85g*4개)',\n",
       " '[파스퇴르] 통쾌하게 쾌변 요구르트 사과(150ml3개) 450ml',\n",
       " '[빙그레] 요플레 오리지널 딸기 340g (85g4입)',\n",
       " '[매일] 휘핑크림 250ml',\n",
       " '[빙그레] 바나나맛 우유(240ml4개) 960ml',\n",
       " '[PHILADELPHIA] 소프트 필라델피아 크림치즈 플레인 200g']"
      ]
     },
     "execution_count": 48,
     "metadata": {},
     "output_type": "execute_result"
    }
   ],
   "source": [
    "product_list"
   ]
  },
  {
   "cell_type": "code",
   "execution_count": 51,
   "metadata": {},
   "outputs": [
    {
     "data": {
      "text/plain": [
       "['2,560',\n",
       " '4,980',\n",
       " '980',\n",
       " '4,680',\n",
       " '1,880',\n",
       " '6,280',\n",
       " '4,700',\n",
       " '2,980',\n",
       " '3,780',\n",
       " '1,880',\n",
       " '3,150',\n",
       " '2,530',\n",
       " '4,380',\n",
       " '3,980',\n",
       " '1,980',\n",
       " '2,390',\n",
       " '1,980',\n",
       " '3,000',\n",
       " '3,980',\n",
       " '1,480',\n",
       " '4,750',\n",
       " '2,680',\n",
       " '2,380',\n",
       " '3,880',\n",
       " '4,980',\n",
       " '6,080',\n",
       " '5,980',\n",
       " '3,180',\n",
       " '5,650',\n",
       " '6,980',\n",
       " '3,980',\n",
       " '4,850',\n",
       " '2,980',\n",
       " '2,480',\n",
       " '7,000',\n",
       " '1,980',\n",
       " '2,080',\n",
       " '3,150',\n",
       " '2,360',\n",
       " '4,950',\n",
       " '2,000',\n",
       " '4,880',\n",
       " '5,780',\n",
       " '4,450',\n",
       " '3,680',\n",
       " '4,880',\n",
       " '2,390',\n",
       " '8,680',\n",
       " '9,880',\n",
       " '4,580',\n",
       " '1,980',\n",
       " '6,480',\n",
       " '6,150',\n",
       " '10,280',\n",
       " '8,580',\n",
       " '2,790',\n",
       " '3,980',\n",
       " '2,500',\n",
       " '4,500',\n",
       " '11,180',\n",
       " '8,000',\n",
       " '5,980',\n",
       " '5,980',\n",
       " '7,000',\n",
       " '2,550',\n",
       " '5,880',\n",
       " '2,390',\n",
       " '2,380',\n",
       " '2,150',\n",
       " '2,960',\n",
       " '2,530',\n",
       " '10,980',\n",
       " '4,980',\n",
       " '3,050',\n",
       " '2,570',\n",
       " '2,880',\n",
       " '2,800',\n",
       " '3,350',\n",
       " '4,580',\n",
       " '5,590']"
      ]
     },
     "execution_count": 51,
     "metadata": {},
     "output_type": "execute_result"
    }
   ],
   "source": [
    "price_list"
   ]
  },
  {
   "cell_type": "code",
   "execution_count": 59,
   "metadata": {},
   "outputs": [],
   "source": [
    "import pandas as pd"
   ]
  },
  {
   "cell_type": "code",
   "execution_count": 63,
   "metadata": {},
   "outputs": [],
   "source": [
    "df1 = pd.DataFrame({'상품명':product_list, '상품가격': price_list, '이미지URL' : image_url_list})"
   ]
  },
  {
   "cell_type": "code",
   "execution_count": 64,
   "metadata": {},
   "outputs": [],
   "source": [
    "for i in range(1, 80+1):\n",
    "    image = driver.find_element_by_xpath('//*[@id=\"ty_thmb_view\"]/ul/li['+str(i)+']/div[1]/div[2]/a/img[1]')\n",
    "    save_file = image.get_attribute('src')\n",
    "    \n",
    "    urllib.request.urlretrieve(save_file, 'img'+str(i)+'.png')\n",
    "# for문을 통해서 이미지를 저장하기\n",
    "    "
   ]
  },
  {
   "cell_type": "code",
   "execution_count": 67,
   "metadata": {},
   "outputs": [],
   "source": [
    "df1.to_excel('result.xlsx')"
   ]
  },
  {
   "cell_type": "code",
   "execution_count": null,
   "metadata": {},
   "outputs": [],
   "source": []
  }
 ],
 "metadata": {
  "kernelspec": {
   "display_name": "Python 3",
   "language": "python",
   "name": "python3"
  },
  "language_info": {
   "codemirror_mode": {
    "name": "ipython",
    "version": 3
   },
   "file_extension": ".py",
   "mimetype": "text/x-python",
   "name": "python",
   "nbconvert_exporter": "python",
   "pygments_lexer": "ipython3",
   "version": "3.8.3"
  }
 },
 "nbformat": 4,
 "nbformat_minor": 4
}
