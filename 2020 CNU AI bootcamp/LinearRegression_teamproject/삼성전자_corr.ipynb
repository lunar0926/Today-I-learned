{
  "nbformat": 4,
  "nbformat_minor": 0,
  "metadata": {
    "colab": {
      "name": "삼성전자_corr.ipynb",
      "provenance": []
    },
    "kernelspec": {
      "name": "python3",
      "display_name": "Python 3"
    }
  },
  "cells": [
    {
      "cell_type": "code",
      "metadata": {
        "id": "1kZpPxV7qkly",
        "colab_type": "code",
        "colab": {}
      },
      "source": [
        "import pandas as pd"
      ],
      "execution_count": 1,
      "outputs": []
    },
    {
      "cell_type": "code",
      "metadata": {
        "id": "HC-eQ0DkqoYb",
        "colab_type": "code",
        "colab": {
          "base_uri": "https://localhost:8080/",
          "height": 73
        },
        "outputId": "7cee08a7-85b5-4cb1-f09c-d27ed1eb742a"
      },
      "source": [
        "import pandas_datareader.data as dr"
      ],
      "execution_count": 2,
      "outputs": [
        {
          "output_type": "stream",
          "text": [
            "/usr/local/lib/python3.6/dist-packages/pandas_datareader/compat/__init__.py:7: FutureWarning: pandas.util.testing is deprecated. Use the functions in the public API at pandas.testing instead.\n",
            "  from pandas.util.testing import assert_frame_equal\n"
          ],
          "name": "stderr"
        }
      ]
    },
    {
      "cell_type": "code",
      "metadata": {
        "id": "Nt6Lvqm5q9vm",
        "colab_type": "code",
        "colab": {}
      },
      "source": [
        "import datetime"
      ],
      "execution_count": 3,
      "outputs": []
    },
    {
      "cell_type": "code",
      "metadata": {
        "id": "G5WWEwniq-t1",
        "colab_type": "code",
        "colab": {}
      },
      "source": [
        "start = datetime.datetime(2019,10,1)"
      ],
      "execution_count": 4,
      "outputs": []
    },
    {
      "cell_type": "code",
      "metadata": {
        "id": "12C2BZM2q_nu",
        "colab_type": "code",
        "colab": {}
      },
      "source": [
        "end = datetime.datetime(2020,9,5)"
      ],
      "execution_count": 5,
      "outputs": []
    },
    {
      "cell_type": "code",
      "metadata": {
        "id": "HI4ilgkgrAsV",
        "colab_type": "code",
        "colab": {}
      },
      "source": [
        "sam = dr.DataReader('005930.KS', 'yahoo',start, end)"
      ],
      "execution_count": 6,
      "outputs": []
    },
    {
      "cell_type": "code",
      "metadata": {
        "id": "HEH-siLKrBt2",
        "colab_type": "code",
        "colab": {
          "base_uri": "https://localhost:8080/",
          "height": 450
        },
        "outputId": "c61469d7-0a58-45bb-d1c5-2610c95af4ee"
      },
      "source": [
        "sam"
      ],
      "execution_count": 7,
      "outputs": [
        {
          "output_type": "execute_result",
          "data": {
            "text/html": [
              "<div>\n",
              "<style scoped>\n",
              "    .dataframe tbody tr th:only-of-type {\n",
              "        vertical-align: middle;\n",
              "    }\n",
              "\n",
              "    .dataframe tbody tr th {\n",
              "        vertical-align: top;\n",
              "    }\n",
              "\n",
              "    .dataframe thead th {\n",
              "        text-align: right;\n",
              "    }\n",
              "</style>\n",
              "<table border=\"1\" class=\"dataframe\">\n",
              "  <thead>\n",
              "    <tr style=\"text-align: right;\">\n",
              "      <th></th>\n",
              "      <th>High</th>\n",
              "      <th>Low</th>\n",
              "      <th>Open</th>\n",
              "      <th>Close</th>\n",
              "      <th>Volume</th>\n",
              "      <th>Adj Close</th>\n",
              "    </tr>\n",
              "    <tr>\n",
              "      <th>Date</th>\n",
              "      <th></th>\n",
              "      <th></th>\n",
              "      <th></th>\n",
              "      <th></th>\n",
              "      <th></th>\n",
              "      <th></th>\n",
              "    </tr>\n",
              "  </thead>\n",
              "  <tbody>\n",
              "    <tr>\n",
              "      <th>2019-10-01</th>\n",
              "      <td>49100.0</td>\n",
              "      <td>48650.0</td>\n",
              "      <td>48900.0</td>\n",
              "      <td>48850.0</td>\n",
              "      <td>6206035.0</td>\n",
              "      <td>48850.0</td>\n",
              "    </tr>\n",
              "    <tr>\n",
              "      <th>2019-10-02</th>\n",
              "      <td>48400.0</td>\n",
              "      <td>47600.0</td>\n",
              "      <td>48350.0</td>\n",
              "      <td>47600.0</td>\n",
              "      <td>8382463.0</td>\n",
              "      <td>47600.0</td>\n",
              "    </tr>\n",
              "    <tr>\n",
              "      <th>2019-10-04</th>\n",
              "      <td>48650.0</td>\n",
              "      <td>47350.0</td>\n",
              "      <td>47400.0</td>\n",
              "      <td>48000.0</td>\n",
              "      <td>9331695.0</td>\n",
              "      <td>48000.0</td>\n",
              "    </tr>\n",
              "    <tr>\n",
              "      <th>2019-10-07</th>\n",
              "      <td>48700.0</td>\n",
              "      <td>47650.0</td>\n",
              "      <td>48350.0</td>\n",
              "      <td>47750.0</td>\n",
              "      <td>7047273.0</td>\n",
              "      <td>47750.0</td>\n",
              "    </tr>\n",
              "    <tr>\n",
              "      <th>2019-10-08</th>\n",
              "      <td>49000.0</td>\n",
              "      <td>47600.0</td>\n",
              "      <td>47900.0</td>\n",
              "      <td>48900.0</td>\n",
              "      <td>14239367.0</td>\n",
              "      <td>48900.0</td>\n",
              "    </tr>\n",
              "    <tr>\n",
              "      <th>...</th>\n",
              "      <td>...</td>\n",
              "      <td>...</td>\n",
              "      <td>...</td>\n",
              "      <td>...</td>\n",
              "      <td>...</td>\n",
              "      <td>...</td>\n",
              "    </tr>\n",
              "    <tr>\n",
              "      <th>2020-08-31</th>\n",
              "      <td>56100.0</td>\n",
              "      <td>54000.0</td>\n",
              "      <td>56000.0</td>\n",
              "      <td>54000.0</td>\n",
              "      <td>32671367.0</td>\n",
              "      <td>54000.0</td>\n",
              "    </tr>\n",
              "    <tr>\n",
              "      <th>2020-09-01</th>\n",
              "      <td>54800.0</td>\n",
              "      <td>54100.0</td>\n",
              "      <td>54100.0</td>\n",
              "      <td>54200.0</td>\n",
              "      <td>19363117.0</td>\n",
              "      <td>54200.0</td>\n",
              "    </tr>\n",
              "    <tr>\n",
              "      <th>2020-09-02</th>\n",
              "      <td>55100.0</td>\n",
              "      <td>54100.0</td>\n",
              "      <td>54600.0</td>\n",
              "      <td>54400.0</td>\n",
              "      <td>16905723.0</td>\n",
              "      <td>54400.0</td>\n",
              "    </tr>\n",
              "    <tr>\n",
              "      <th>2020-09-03</th>\n",
              "      <td>56700.0</td>\n",
              "      <td>55500.0</td>\n",
              "      <td>55600.0</td>\n",
              "      <td>56400.0</td>\n",
              "      <td>28384920.0</td>\n",
              "      <td>56400.0</td>\n",
              "    </tr>\n",
              "    <tr>\n",
              "      <th>2020-09-04</th>\n",
              "      <td>55800.0</td>\n",
              "      <td>55100.0</td>\n",
              "      <td>55200.0</td>\n",
              "      <td>55600.0</td>\n",
              "      <td>22139109.0</td>\n",
              "      <td>55600.0</td>\n",
              "    </tr>\n",
              "  </tbody>\n",
              "</table>\n",
              "<p>231 rows × 6 columns</p>\n",
              "</div>"
            ],
            "text/plain": [
              "               High      Low     Open    Close      Volume  Adj Close\n",
              "Date                                                                 \n",
              "2019-10-01  49100.0  48650.0  48900.0  48850.0   6206035.0    48850.0\n",
              "2019-10-02  48400.0  47600.0  48350.0  47600.0   8382463.0    47600.0\n",
              "2019-10-04  48650.0  47350.0  47400.0  48000.0   9331695.0    48000.0\n",
              "2019-10-07  48700.0  47650.0  48350.0  47750.0   7047273.0    47750.0\n",
              "2019-10-08  49000.0  47600.0  47900.0  48900.0  14239367.0    48900.0\n",
              "...             ...      ...      ...      ...         ...        ...\n",
              "2020-08-31  56100.0  54000.0  56000.0  54000.0  32671367.0    54000.0\n",
              "2020-09-01  54800.0  54100.0  54100.0  54200.0  19363117.0    54200.0\n",
              "2020-09-02  55100.0  54100.0  54600.0  54400.0  16905723.0    54400.0\n",
              "2020-09-03  56700.0  55500.0  55600.0  56400.0  28384920.0    56400.0\n",
              "2020-09-04  55800.0  55100.0  55200.0  55600.0  22139109.0    55600.0\n",
              "\n",
              "[231 rows x 6 columns]"
            ]
          },
          "metadata": {
            "tags": []
          },
          "execution_count": 7
        }
      ]
    },
    {
      "cell_type": "code",
      "metadata": {
        "id": "B-AlBoLnrC0O",
        "colab_type": "code",
        "colab": {
          "base_uri": "https://localhost:8080/",
          "height": 35
        },
        "outputId": "ac9650d1-cdc3-4c2b-faf4-617247b685b5"
      },
      "source": [
        "sam.shape"
      ],
      "execution_count": 8,
      "outputs": [
        {
          "output_type": "execute_result",
          "data": {
            "text/plain": [
              "(231, 6)"
            ]
          },
          "metadata": {
            "tags": []
          },
          "execution_count": 8
        }
      ]
    },
    {
      "cell_type": "code",
      "metadata": {
        "id": "bi4icpUtrExW",
        "colab_type": "code",
        "colab": {
          "base_uri": "https://localhost:8080/",
          "height": 251
        },
        "outputId": "5af1ee71-5d26-4b4b-d48c-8f2dc852caa6"
      },
      "source": [
        "sam.info()"
      ],
      "execution_count": 9,
      "outputs": [
        {
          "output_type": "stream",
          "text": [
            "<class 'pandas.core.frame.DataFrame'>\n",
            "DatetimeIndex: 231 entries, 2019-10-01 to 2020-09-04\n",
            "Data columns (total 6 columns):\n",
            " #   Column     Non-Null Count  Dtype  \n",
            "---  ------     --------------  -----  \n",
            " 0   High       231 non-null    float64\n",
            " 1   Low        231 non-null    float64\n",
            " 2   Open       231 non-null    float64\n",
            " 3   Close      231 non-null    float64\n",
            " 4   Volume     231 non-null    float64\n",
            " 5   Adj Close  231 non-null    float64\n",
            "dtypes: float64(6)\n",
            "memory usage: 12.6 KB\n"
          ],
          "name": "stdout"
        }
      ]
    },
    {
      "cell_type": "code",
      "metadata": {
        "id": "4_ADTfUXrFp2",
        "colab_type": "code",
        "colab": {
          "base_uri": "https://localhost:8080/",
          "height": 419
        },
        "outputId": "70adab68-e18b-4f27-ac41-18c237da37b8"
      },
      "source": [
        "sam.reset_index()"
      ],
      "execution_count": 10,
      "outputs": [
        {
          "output_type": "execute_result",
          "data": {
            "text/html": [
              "<div>\n",
              "<style scoped>\n",
              "    .dataframe tbody tr th:only-of-type {\n",
              "        vertical-align: middle;\n",
              "    }\n",
              "\n",
              "    .dataframe tbody tr th {\n",
              "        vertical-align: top;\n",
              "    }\n",
              "\n",
              "    .dataframe thead th {\n",
              "        text-align: right;\n",
              "    }\n",
              "</style>\n",
              "<table border=\"1\" class=\"dataframe\">\n",
              "  <thead>\n",
              "    <tr style=\"text-align: right;\">\n",
              "      <th></th>\n",
              "      <th>Date</th>\n",
              "      <th>High</th>\n",
              "      <th>Low</th>\n",
              "      <th>Open</th>\n",
              "      <th>Close</th>\n",
              "      <th>Volume</th>\n",
              "      <th>Adj Close</th>\n",
              "    </tr>\n",
              "  </thead>\n",
              "  <tbody>\n",
              "    <tr>\n",
              "      <th>0</th>\n",
              "      <td>2019-10-01</td>\n",
              "      <td>49100.0</td>\n",
              "      <td>48650.0</td>\n",
              "      <td>48900.0</td>\n",
              "      <td>48850.0</td>\n",
              "      <td>6206035.0</td>\n",
              "      <td>48850.0</td>\n",
              "    </tr>\n",
              "    <tr>\n",
              "      <th>1</th>\n",
              "      <td>2019-10-02</td>\n",
              "      <td>48400.0</td>\n",
              "      <td>47600.0</td>\n",
              "      <td>48350.0</td>\n",
              "      <td>47600.0</td>\n",
              "      <td>8382463.0</td>\n",
              "      <td>47600.0</td>\n",
              "    </tr>\n",
              "    <tr>\n",
              "      <th>2</th>\n",
              "      <td>2019-10-04</td>\n",
              "      <td>48650.0</td>\n",
              "      <td>47350.0</td>\n",
              "      <td>47400.0</td>\n",
              "      <td>48000.0</td>\n",
              "      <td>9331695.0</td>\n",
              "      <td>48000.0</td>\n",
              "    </tr>\n",
              "    <tr>\n",
              "      <th>3</th>\n",
              "      <td>2019-10-07</td>\n",
              "      <td>48700.0</td>\n",
              "      <td>47650.0</td>\n",
              "      <td>48350.0</td>\n",
              "      <td>47750.0</td>\n",
              "      <td>7047273.0</td>\n",
              "      <td>47750.0</td>\n",
              "    </tr>\n",
              "    <tr>\n",
              "      <th>4</th>\n",
              "      <td>2019-10-08</td>\n",
              "      <td>49000.0</td>\n",
              "      <td>47600.0</td>\n",
              "      <td>47900.0</td>\n",
              "      <td>48900.0</td>\n",
              "      <td>14239367.0</td>\n",
              "      <td>48900.0</td>\n",
              "    </tr>\n",
              "    <tr>\n",
              "      <th>...</th>\n",
              "      <td>...</td>\n",
              "      <td>...</td>\n",
              "      <td>...</td>\n",
              "      <td>...</td>\n",
              "      <td>...</td>\n",
              "      <td>...</td>\n",
              "      <td>...</td>\n",
              "    </tr>\n",
              "    <tr>\n",
              "      <th>226</th>\n",
              "      <td>2020-08-31</td>\n",
              "      <td>56100.0</td>\n",
              "      <td>54000.0</td>\n",
              "      <td>56000.0</td>\n",
              "      <td>54000.0</td>\n",
              "      <td>32671367.0</td>\n",
              "      <td>54000.0</td>\n",
              "    </tr>\n",
              "    <tr>\n",
              "      <th>227</th>\n",
              "      <td>2020-09-01</td>\n",
              "      <td>54800.0</td>\n",
              "      <td>54100.0</td>\n",
              "      <td>54100.0</td>\n",
              "      <td>54200.0</td>\n",
              "      <td>19363117.0</td>\n",
              "      <td>54200.0</td>\n",
              "    </tr>\n",
              "    <tr>\n",
              "      <th>228</th>\n",
              "      <td>2020-09-02</td>\n",
              "      <td>55100.0</td>\n",
              "      <td>54100.0</td>\n",
              "      <td>54600.0</td>\n",
              "      <td>54400.0</td>\n",
              "      <td>16905723.0</td>\n",
              "      <td>54400.0</td>\n",
              "    </tr>\n",
              "    <tr>\n",
              "      <th>229</th>\n",
              "      <td>2020-09-03</td>\n",
              "      <td>56700.0</td>\n",
              "      <td>55500.0</td>\n",
              "      <td>55600.0</td>\n",
              "      <td>56400.0</td>\n",
              "      <td>28384920.0</td>\n",
              "      <td>56400.0</td>\n",
              "    </tr>\n",
              "    <tr>\n",
              "      <th>230</th>\n",
              "      <td>2020-09-04</td>\n",
              "      <td>55800.0</td>\n",
              "      <td>55100.0</td>\n",
              "      <td>55200.0</td>\n",
              "      <td>55600.0</td>\n",
              "      <td>22139109.0</td>\n",
              "      <td>55600.0</td>\n",
              "    </tr>\n",
              "  </tbody>\n",
              "</table>\n",
              "<p>231 rows × 7 columns</p>\n",
              "</div>"
            ],
            "text/plain": [
              "          Date     High      Low     Open    Close      Volume  Adj Close\n",
              "0   2019-10-01  49100.0  48650.0  48900.0  48850.0   6206035.0    48850.0\n",
              "1   2019-10-02  48400.0  47600.0  48350.0  47600.0   8382463.0    47600.0\n",
              "2   2019-10-04  48650.0  47350.0  47400.0  48000.0   9331695.0    48000.0\n",
              "3   2019-10-07  48700.0  47650.0  48350.0  47750.0   7047273.0    47750.0\n",
              "4   2019-10-08  49000.0  47600.0  47900.0  48900.0  14239367.0    48900.0\n",
              "..         ...      ...      ...      ...      ...         ...        ...\n",
              "226 2020-08-31  56100.0  54000.0  56000.0  54000.0  32671367.0    54000.0\n",
              "227 2020-09-01  54800.0  54100.0  54100.0  54200.0  19363117.0    54200.0\n",
              "228 2020-09-02  55100.0  54100.0  54600.0  54400.0  16905723.0    54400.0\n",
              "229 2020-09-03  56700.0  55500.0  55600.0  56400.0  28384920.0    56400.0\n",
              "230 2020-09-04  55800.0  55100.0  55200.0  55600.0  22139109.0    55600.0\n",
              "\n",
              "[231 rows x 7 columns]"
            ]
          },
          "metadata": {
            "tags": []
          },
          "execution_count": 10
        }
      ]
    },
    {
      "cell_type": "code",
      "metadata": {
        "id": "gGGIj1jSrHX2",
        "colab_type": "code",
        "colab": {
          "base_uri": "https://localhost:8080/",
          "height": 419
        },
        "outputId": "28940ac1-dbb5-4e11-c02a-85e161fb65a4"
      },
      "source": [
        "# 코로나 확진자\n",
        "pd.read_csv('19_4_1.csv')"
      ],
      "execution_count": 11,
      "outputs": [
        {
          "output_type": "execute_result",
          "data": {
            "text/html": [
              "<div>\n",
              "<style scoped>\n",
              "    .dataframe tbody tr th:only-of-type {\n",
              "        vertical-align: middle;\n",
              "    }\n",
              "\n",
              "    .dataframe tbody tr th {\n",
              "        vertical-align: top;\n",
              "    }\n",
              "\n",
              "    .dataframe thead th {\n",
              "        text-align: right;\n",
              "    }\n",
              "</style>\n",
              "<table border=\"1\" class=\"dataframe\">\n",
              "  <thead>\n",
              "    <tr style=\"text-align: right;\">\n",
              "      <th></th>\n",
              "      <th>Unnamed: 0</th>\n",
              "      <th>날짜</th>\n",
              "      <th>일일확진자수</th>\n",
              "    </tr>\n",
              "  </thead>\n",
              "  <tbody>\n",
              "    <tr>\n",
              "      <th>0</th>\n",
              "      <td>0</td>\n",
              "      <td>2020-09-05</td>\n",
              "      <td>168</td>\n",
              "    </tr>\n",
              "    <tr>\n",
              "      <th>1</th>\n",
              "      <td>1</td>\n",
              "      <td>2020-09-04</td>\n",
              "      <td>198</td>\n",
              "    </tr>\n",
              "    <tr>\n",
              "      <th>2</th>\n",
              "      <td>2</td>\n",
              "      <td>2020-09-03</td>\n",
              "      <td>195</td>\n",
              "    </tr>\n",
              "    <tr>\n",
              "      <th>3</th>\n",
              "      <td>3</td>\n",
              "      <td>2020-09-02</td>\n",
              "      <td>267</td>\n",
              "    </tr>\n",
              "    <tr>\n",
              "      <th>4</th>\n",
              "      <td>4</td>\n",
              "      <td>2020-09-01</td>\n",
              "      <td>235</td>\n",
              "    </tr>\n",
              "    <tr>\n",
              "      <th>...</th>\n",
              "      <td>...</td>\n",
              "      <td>...</td>\n",
              "      <td>...</td>\n",
              "    </tr>\n",
              "    <tr>\n",
              "      <th>336</th>\n",
              "      <td>336</td>\n",
              "      <td>2019-10-05</td>\n",
              "      <td>0</td>\n",
              "    </tr>\n",
              "    <tr>\n",
              "      <th>337</th>\n",
              "      <td>337</td>\n",
              "      <td>2019-10-04</td>\n",
              "      <td>0</td>\n",
              "    </tr>\n",
              "    <tr>\n",
              "      <th>338</th>\n",
              "      <td>338</td>\n",
              "      <td>2019-10-03</td>\n",
              "      <td>0</td>\n",
              "    </tr>\n",
              "    <tr>\n",
              "      <th>339</th>\n",
              "      <td>339</td>\n",
              "      <td>2019-10-02</td>\n",
              "      <td>0</td>\n",
              "    </tr>\n",
              "    <tr>\n",
              "      <th>340</th>\n",
              "      <td>340</td>\n",
              "      <td>2019-10-01</td>\n",
              "      <td>0</td>\n",
              "    </tr>\n",
              "  </tbody>\n",
              "</table>\n",
              "<p>341 rows × 3 columns</p>\n",
              "</div>"
            ],
            "text/plain": [
              "     Unnamed: 0          날짜  일일확진자수\n",
              "0             0  2020-09-05     168\n",
              "1             1  2020-09-04     198\n",
              "2             2  2020-09-03     195\n",
              "3             3  2020-09-02     267\n",
              "4             4  2020-09-01     235\n",
              "..          ...         ...     ...\n",
              "336         336  2019-10-05       0\n",
              "337         337  2019-10-04       0\n",
              "338         338  2019-10-03       0\n",
              "339         339  2019-10-02       0\n",
              "340         340  2019-10-01       0\n",
              "\n",
              "[341 rows x 3 columns]"
            ]
          },
          "metadata": {
            "tags": []
          },
          "execution_count": 11
        }
      ]
    },
    {
      "cell_type": "code",
      "metadata": {
        "id": "qLANmjfxrQjO",
        "colab_type": "code",
        "colab": {}
      },
      "source": [
        "df1 = pd.read_csv('19_4_1.csv')\n",
        "df1['날짜'] = df1['날짜'].astype('datetime64[ns]')\n",
        "df2 = df1.set_index('날짜')"
      ],
      "execution_count": 12,
      "outputs": []
    },
    {
      "cell_type": "code",
      "metadata": {
        "id": "NK5zzyZwrVgW",
        "colab_type": "code",
        "colab": {
          "base_uri": "https://localhost:8080/",
          "height": 450
        },
        "outputId": "008da4d7-5ba0-484b-9a33-757fc04b063b"
      },
      "source": [
        "df2"
      ],
      "execution_count": 13,
      "outputs": [
        {
          "output_type": "execute_result",
          "data": {
            "text/html": [
              "<div>\n",
              "<style scoped>\n",
              "    .dataframe tbody tr th:only-of-type {\n",
              "        vertical-align: middle;\n",
              "    }\n",
              "\n",
              "    .dataframe tbody tr th {\n",
              "        vertical-align: top;\n",
              "    }\n",
              "\n",
              "    .dataframe thead th {\n",
              "        text-align: right;\n",
              "    }\n",
              "</style>\n",
              "<table border=\"1\" class=\"dataframe\">\n",
              "  <thead>\n",
              "    <tr style=\"text-align: right;\">\n",
              "      <th></th>\n",
              "      <th>Unnamed: 0</th>\n",
              "      <th>일일확진자수</th>\n",
              "    </tr>\n",
              "    <tr>\n",
              "      <th>날짜</th>\n",
              "      <th></th>\n",
              "      <th></th>\n",
              "    </tr>\n",
              "  </thead>\n",
              "  <tbody>\n",
              "    <tr>\n",
              "      <th>2020-09-05</th>\n",
              "      <td>0</td>\n",
              "      <td>168</td>\n",
              "    </tr>\n",
              "    <tr>\n",
              "      <th>2020-09-04</th>\n",
              "      <td>1</td>\n",
              "      <td>198</td>\n",
              "    </tr>\n",
              "    <tr>\n",
              "      <th>2020-09-03</th>\n",
              "      <td>2</td>\n",
              "      <td>195</td>\n",
              "    </tr>\n",
              "    <tr>\n",
              "      <th>2020-09-02</th>\n",
              "      <td>3</td>\n",
              "      <td>267</td>\n",
              "    </tr>\n",
              "    <tr>\n",
              "      <th>2020-09-01</th>\n",
              "      <td>4</td>\n",
              "      <td>235</td>\n",
              "    </tr>\n",
              "    <tr>\n",
              "      <th>...</th>\n",
              "      <td>...</td>\n",
              "      <td>...</td>\n",
              "    </tr>\n",
              "    <tr>\n",
              "      <th>2019-10-05</th>\n",
              "      <td>336</td>\n",
              "      <td>0</td>\n",
              "    </tr>\n",
              "    <tr>\n",
              "      <th>2019-10-04</th>\n",
              "      <td>337</td>\n",
              "      <td>0</td>\n",
              "    </tr>\n",
              "    <tr>\n",
              "      <th>2019-10-03</th>\n",
              "      <td>338</td>\n",
              "      <td>0</td>\n",
              "    </tr>\n",
              "    <tr>\n",
              "      <th>2019-10-02</th>\n",
              "      <td>339</td>\n",
              "      <td>0</td>\n",
              "    </tr>\n",
              "    <tr>\n",
              "      <th>2019-10-01</th>\n",
              "      <td>340</td>\n",
              "      <td>0</td>\n",
              "    </tr>\n",
              "  </tbody>\n",
              "</table>\n",
              "<p>341 rows × 2 columns</p>\n",
              "</div>"
            ],
            "text/plain": [
              "            Unnamed: 0  일일확진자수\n",
              "날짜                            \n",
              "2020-09-05           0     168\n",
              "2020-09-04           1     198\n",
              "2020-09-03           2     195\n",
              "2020-09-02           3     267\n",
              "2020-09-01           4     235\n",
              "...                ...     ...\n",
              "2019-10-05         336       0\n",
              "2019-10-04         337       0\n",
              "2019-10-03         338       0\n",
              "2019-10-02         339       0\n",
              "2019-10-01         340       0\n",
              "\n",
              "[341 rows x 2 columns]"
            ]
          },
          "metadata": {
            "tags": []
          },
          "execution_count": 13
        }
      ]
    },
    {
      "cell_type": "code",
      "metadata": {
        "id": "fBlPB6kZrWXW",
        "colab_type": "code",
        "colab": {}
      },
      "source": [
        "data1 = df2[['일일확진자수']]\n"
      ],
      "execution_count": 14,
      "outputs": []
    },
    {
      "cell_type": "code",
      "metadata": {
        "id": "XaNxL-VQrXxl",
        "colab_type": "code",
        "colab": {}
      },
      "source": [
        "data1 = data1.sort_values(by=['날짜'], ascending=[True])"
      ],
      "execution_count": 15,
      "outputs": []
    },
    {
      "cell_type": "code",
      "metadata": {
        "id": "WnO1m3gGrYxd",
        "colab_type": "code",
        "colab": {
          "base_uri": "https://localhost:8080/",
          "height": 450
        },
        "outputId": "d55cdc99-a20b-440e-d670-52391341396f"
      },
      "source": [
        "data1"
      ],
      "execution_count": 16,
      "outputs": [
        {
          "output_type": "execute_result",
          "data": {
            "text/html": [
              "<div>\n",
              "<style scoped>\n",
              "    .dataframe tbody tr th:only-of-type {\n",
              "        vertical-align: middle;\n",
              "    }\n",
              "\n",
              "    .dataframe tbody tr th {\n",
              "        vertical-align: top;\n",
              "    }\n",
              "\n",
              "    .dataframe thead th {\n",
              "        text-align: right;\n",
              "    }\n",
              "</style>\n",
              "<table border=\"1\" class=\"dataframe\">\n",
              "  <thead>\n",
              "    <tr style=\"text-align: right;\">\n",
              "      <th></th>\n",
              "      <th>일일확진자수</th>\n",
              "    </tr>\n",
              "    <tr>\n",
              "      <th>날짜</th>\n",
              "      <th></th>\n",
              "    </tr>\n",
              "  </thead>\n",
              "  <tbody>\n",
              "    <tr>\n",
              "      <th>2019-10-01</th>\n",
              "      <td>0</td>\n",
              "    </tr>\n",
              "    <tr>\n",
              "      <th>2019-10-02</th>\n",
              "      <td>0</td>\n",
              "    </tr>\n",
              "    <tr>\n",
              "      <th>2019-10-03</th>\n",
              "      <td>0</td>\n",
              "    </tr>\n",
              "    <tr>\n",
              "      <th>2019-10-04</th>\n",
              "      <td>0</td>\n",
              "    </tr>\n",
              "    <tr>\n",
              "      <th>2019-10-05</th>\n",
              "      <td>0</td>\n",
              "    </tr>\n",
              "    <tr>\n",
              "      <th>...</th>\n",
              "      <td>...</td>\n",
              "    </tr>\n",
              "    <tr>\n",
              "      <th>2020-09-01</th>\n",
              "      <td>235</td>\n",
              "    </tr>\n",
              "    <tr>\n",
              "      <th>2020-09-02</th>\n",
              "      <td>267</td>\n",
              "    </tr>\n",
              "    <tr>\n",
              "      <th>2020-09-03</th>\n",
              "      <td>195</td>\n",
              "    </tr>\n",
              "    <tr>\n",
              "      <th>2020-09-04</th>\n",
              "      <td>198</td>\n",
              "    </tr>\n",
              "    <tr>\n",
              "      <th>2020-09-05</th>\n",
              "      <td>168</td>\n",
              "    </tr>\n",
              "  </tbody>\n",
              "</table>\n",
              "<p>341 rows × 1 columns</p>\n",
              "</div>"
            ],
            "text/plain": [
              "            일일확진자수\n",
              "날짜                \n",
              "2019-10-01       0\n",
              "2019-10-02       0\n",
              "2019-10-03       0\n",
              "2019-10-04       0\n",
              "2019-10-05       0\n",
              "...            ...\n",
              "2020-09-01     235\n",
              "2020-09-02     267\n",
              "2020-09-03     195\n",
              "2020-09-04     198\n",
              "2020-09-05     168\n",
              "\n",
              "[341 rows x 1 columns]"
            ]
          },
          "metadata": {
            "tags": []
          },
          "execution_count": 16
        }
      ]
    },
    {
      "cell_type": "code",
      "metadata": {
        "id": "gy5xmZJArZy9",
        "colab_type": "code",
        "colab": {}
      },
      "source": [
        "data2 = pd.DataFrame(sam)"
      ],
      "execution_count": 17,
      "outputs": []
    },
    {
      "cell_type": "code",
      "metadata": {
        "id": "O4sY7Oswrfv2",
        "colab_type": "code",
        "colab": {
          "base_uri": "https://localhost:8080/",
          "height": 450
        },
        "outputId": "62eac3d3-e187-4431-c5a5-2a98bf109d0c"
      },
      "source": [
        "data2"
      ],
      "execution_count": 18,
      "outputs": [
        {
          "output_type": "execute_result",
          "data": {
            "text/html": [
              "<div>\n",
              "<style scoped>\n",
              "    .dataframe tbody tr th:only-of-type {\n",
              "        vertical-align: middle;\n",
              "    }\n",
              "\n",
              "    .dataframe tbody tr th {\n",
              "        vertical-align: top;\n",
              "    }\n",
              "\n",
              "    .dataframe thead th {\n",
              "        text-align: right;\n",
              "    }\n",
              "</style>\n",
              "<table border=\"1\" class=\"dataframe\">\n",
              "  <thead>\n",
              "    <tr style=\"text-align: right;\">\n",
              "      <th></th>\n",
              "      <th>High</th>\n",
              "      <th>Low</th>\n",
              "      <th>Open</th>\n",
              "      <th>Close</th>\n",
              "      <th>Volume</th>\n",
              "      <th>Adj Close</th>\n",
              "    </tr>\n",
              "    <tr>\n",
              "      <th>Date</th>\n",
              "      <th></th>\n",
              "      <th></th>\n",
              "      <th></th>\n",
              "      <th></th>\n",
              "      <th></th>\n",
              "      <th></th>\n",
              "    </tr>\n",
              "  </thead>\n",
              "  <tbody>\n",
              "    <tr>\n",
              "      <th>2019-10-01</th>\n",
              "      <td>49100.0</td>\n",
              "      <td>48650.0</td>\n",
              "      <td>48900.0</td>\n",
              "      <td>48850.0</td>\n",
              "      <td>6206035.0</td>\n",
              "      <td>48850.0</td>\n",
              "    </tr>\n",
              "    <tr>\n",
              "      <th>2019-10-02</th>\n",
              "      <td>48400.0</td>\n",
              "      <td>47600.0</td>\n",
              "      <td>48350.0</td>\n",
              "      <td>47600.0</td>\n",
              "      <td>8382463.0</td>\n",
              "      <td>47600.0</td>\n",
              "    </tr>\n",
              "    <tr>\n",
              "      <th>2019-10-04</th>\n",
              "      <td>48650.0</td>\n",
              "      <td>47350.0</td>\n",
              "      <td>47400.0</td>\n",
              "      <td>48000.0</td>\n",
              "      <td>9331695.0</td>\n",
              "      <td>48000.0</td>\n",
              "    </tr>\n",
              "    <tr>\n",
              "      <th>2019-10-07</th>\n",
              "      <td>48700.0</td>\n",
              "      <td>47650.0</td>\n",
              "      <td>48350.0</td>\n",
              "      <td>47750.0</td>\n",
              "      <td>7047273.0</td>\n",
              "      <td>47750.0</td>\n",
              "    </tr>\n",
              "    <tr>\n",
              "      <th>2019-10-08</th>\n",
              "      <td>49000.0</td>\n",
              "      <td>47600.0</td>\n",
              "      <td>47900.0</td>\n",
              "      <td>48900.0</td>\n",
              "      <td>14239367.0</td>\n",
              "      <td>48900.0</td>\n",
              "    </tr>\n",
              "    <tr>\n",
              "      <th>...</th>\n",
              "      <td>...</td>\n",
              "      <td>...</td>\n",
              "      <td>...</td>\n",
              "      <td>...</td>\n",
              "      <td>...</td>\n",
              "      <td>...</td>\n",
              "    </tr>\n",
              "    <tr>\n",
              "      <th>2020-08-31</th>\n",
              "      <td>56100.0</td>\n",
              "      <td>54000.0</td>\n",
              "      <td>56000.0</td>\n",
              "      <td>54000.0</td>\n",
              "      <td>32671367.0</td>\n",
              "      <td>54000.0</td>\n",
              "    </tr>\n",
              "    <tr>\n",
              "      <th>2020-09-01</th>\n",
              "      <td>54800.0</td>\n",
              "      <td>54100.0</td>\n",
              "      <td>54100.0</td>\n",
              "      <td>54200.0</td>\n",
              "      <td>19363117.0</td>\n",
              "      <td>54200.0</td>\n",
              "    </tr>\n",
              "    <tr>\n",
              "      <th>2020-09-02</th>\n",
              "      <td>55100.0</td>\n",
              "      <td>54100.0</td>\n",
              "      <td>54600.0</td>\n",
              "      <td>54400.0</td>\n",
              "      <td>16905723.0</td>\n",
              "      <td>54400.0</td>\n",
              "    </tr>\n",
              "    <tr>\n",
              "      <th>2020-09-03</th>\n",
              "      <td>56700.0</td>\n",
              "      <td>55500.0</td>\n",
              "      <td>55600.0</td>\n",
              "      <td>56400.0</td>\n",
              "      <td>28384920.0</td>\n",
              "      <td>56400.0</td>\n",
              "    </tr>\n",
              "    <tr>\n",
              "      <th>2020-09-04</th>\n",
              "      <td>55800.0</td>\n",
              "      <td>55100.0</td>\n",
              "      <td>55200.0</td>\n",
              "      <td>55600.0</td>\n",
              "      <td>22139109.0</td>\n",
              "      <td>55600.0</td>\n",
              "    </tr>\n",
              "  </tbody>\n",
              "</table>\n",
              "<p>231 rows × 6 columns</p>\n",
              "</div>"
            ],
            "text/plain": [
              "               High      Low     Open    Close      Volume  Adj Close\n",
              "Date                                                                 \n",
              "2019-10-01  49100.0  48650.0  48900.0  48850.0   6206035.0    48850.0\n",
              "2019-10-02  48400.0  47600.0  48350.0  47600.0   8382463.0    47600.0\n",
              "2019-10-04  48650.0  47350.0  47400.0  48000.0   9331695.0    48000.0\n",
              "2019-10-07  48700.0  47650.0  48350.0  47750.0   7047273.0    47750.0\n",
              "2019-10-08  49000.0  47600.0  47900.0  48900.0  14239367.0    48900.0\n",
              "...             ...      ...      ...      ...         ...        ...\n",
              "2020-08-31  56100.0  54000.0  56000.0  54000.0  32671367.0    54000.0\n",
              "2020-09-01  54800.0  54100.0  54100.0  54200.0  19363117.0    54200.0\n",
              "2020-09-02  55100.0  54100.0  54600.0  54400.0  16905723.0    54400.0\n",
              "2020-09-03  56700.0  55500.0  55600.0  56400.0  28384920.0    56400.0\n",
              "2020-09-04  55800.0  55100.0  55200.0  55600.0  22139109.0    55600.0\n",
              "\n",
              "[231 rows x 6 columns]"
            ]
          },
          "metadata": {
            "tags": []
          },
          "execution_count": 18
        }
      ]
    },
    {
      "cell_type": "code",
      "metadata": {
        "id": "_Ka3r_EzrhPO",
        "colab_type": "code",
        "colab": {}
      },
      "source": [
        "data_1 = pd.DataFrame(data1['일일확진자수'])"
      ],
      "execution_count": 19,
      "outputs": []
    },
    {
      "cell_type": "code",
      "metadata": {
        "id": "HIJZv659rmRu",
        "colab_type": "code",
        "colab": {}
      },
      "source": [
        "data_2 = pd.DataFrame(data2['Volume'])"
      ],
      "execution_count": 20,
      "outputs": []
    },
    {
      "cell_type": "code",
      "metadata": {
        "id": "2pTbwcoqrnm2",
        "colab_type": "code",
        "colab": {}
      },
      "source": [
        "result1 = pd.concat([data_1,data_2], axis=1)"
      ],
      "execution_count": 21,
      "outputs": []
    },
    {
      "cell_type": "code",
      "metadata": {
        "id": "eVU6_R0trqbW",
        "colab_type": "code",
        "colab": {
          "base_uri": "https://localhost:8080/",
          "height": 419
        },
        "outputId": "878b0fb5-3160-4e24-d90f-b015b860871b"
      },
      "source": [
        "result1"
      ],
      "execution_count": 22,
      "outputs": [
        {
          "output_type": "execute_result",
          "data": {
            "text/html": [
              "<div>\n",
              "<style scoped>\n",
              "    .dataframe tbody tr th:only-of-type {\n",
              "        vertical-align: middle;\n",
              "    }\n",
              "\n",
              "    .dataframe tbody tr th {\n",
              "        vertical-align: top;\n",
              "    }\n",
              "\n",
              "    .dataframe thead th {\n",
              "        text-align: right;\n",
              "    }\n",
              "</style>\n",
              "<table border=\"1\" class=\"dataframe\">\n",
              "  <thead>\n",
              "    <tr style=\"text-align: right;\">\n",
              "      <th></th>\n",
              "      <th>일일확진자수</th>\n",
              "      <th>Volume</th>\n",
              "    </tr>\n",
              "  </thead>\n",
              "  <tbody>\n",
              "    <tr>\n",
              "      <th>2019-10-01</th>\n",
              "      <td>0</td>\n",
              "      <td>6206035.0</td>\n",
              "    </tr>\n",
              "    <tr>\n",
              "      <th>2019-10-02</th>\n",
              "      <td>0</td>\n",
              "      <td>8382463.0</td>\n",
              "    </tr>\n",
              "    <tr>\n",
              "      <th>2019-10-03</th>\n",
              "      <td>0</td>\n",
              "      <td>NaN</td>\n",
              "    </tr>\n",
              "    <tr>\n",
              "      <th>2019-10-04</th>\n",
              "      <td>0</td>\n",
              "      <td>9331695.0</td>\n",
              "    </tr>\n",
              "    <tr>\n",
              "      <th>2019-10-05</th>\n",
              "      <td>0</td>\n",
              "      <td>NaN</td>\n",
              "    </tr>\n",
              "    <tr>\n",
              "      <th>...</th>\n",
              "      <td>...</td>\n",
              "      <td>...</td>\n",
              "    </tr>\n",
              "    <tr>\n",
              "      <th>2020-09-01</th>\n",
              "      <td>235</td>\n",
              "      <td>19363117.0</td>\n",
              "    </tr>\n",
              "    <tr>\n",
              "      <th>2020-09-02</th>\n",
              "      <td>267</td>\n",
              "      <td>16905723.0</td>\n",
              "    </tr>\n",
              "    <tr>\n",
              "      <th>2020-09-03</th>\n",
              "      <td>195</td>\n",
              "      <td>28384920.0</td>\n",
              "    </tr>\n",
              "    <tr>\n",
              "      <th>2020-09-04</th>\n",
              "      <td>198</td>\n",
              "      <td>22139109.0</td>\n",
              "    </tr>\n",
              "    <tr>\n",
              "      <th>2020-09-05</th>\n",
              "      <td>168</td>\n",
              "      <td>NaN</td>\n",
              "    </tr>\n",
              "  </tbody>\n",
              "</table>\n",
              "<p>341 rows × 2 columns</p>\n",
              "</div>"
            ],
            "text/plain": [
              "            일일확진자수      Volume\n",
              "2019-10-01       0   6206035.0\n",
              "2019-10-02       0   8382463.0\n",
              "2019-10-03       0         NaN\n",
              "2019-10-04       0   9331695.0\n",
              "2019-10-05       0         NaN\n",
              "...            ...         ...\n",
              "2020-09-01     235  19363117.0\n",
              "2020-09-02     267  16905723.0\n",
              "2020-09-03     195  28384920.0\n",
              "2020-09-04     198  22139109.0\n",
              "2020-09-05     168         NaN\n",
              "\n",
              "[341 rows x 2 columns]"
            ]
          },
          "metadata": {
            "tags": []
          },
          "execution_count": 22
        }
      ]
    },
    {
      "cell_type": "code",
      "metadata": {
        "id": "R36LV8ktrrzV",
        "colab_type": "code",
        "colab": {}
      },
      "source": [
        "corr = result1.corr(method='pearson')"
      ],
      "execution_count": 23,
      "outputs": []
    },
    {
      "cell_type": "code",
      "metadata": {
        "id": "ZvGFytSprtvO",
        "colab_type": "code",
        "colab": {
          "base_uri": "https://localhost:8080/",
          "height": 111
        },
        "outputId": "85c82bb8-77e4-4d2c-82f2-cf134cb168f2"
      },
      "source": [
        "corr"
      ],
      "execution_count": 24,
      "outputs": [
        {
          "output_type": "execute_result",
          "data": {
            "text/html": [
              "<div>\n",
              "<style scoped>\n",
              "    .dataframe tbody tr th:only-of-type {\n",
              "        vertical-align: middle;\n",
              "    }\n",
              "\n",
              "    .dataframe tbody tr th {\n",
              "        vertical-align: top;\n",
              "    }\n",
              "\n",
              "    .dataframe thead th {\n",
              "        text-align: right;\n",
              "    }\n",
              "</style>\n",
              "<table border=\"1\" class=\"dataframe\">\n",
              "  <thead>\n",
              "    <tr style=\"text-align: right;\">\n",
              "      <th></th>\n",
              "      <th>일일확진자수</th>\n",
              "      <th>Volume</th>\n",
              "    </tr>\n",
              "  </thead>\n",
              "  <tbody>\n",
              "    <tr>\n",
              "      <th>일일확진자수</th>\n",
              "      <td>1.000000</td>\n",
              "      <td>0.288224</td>\n",
              "    </tr>\n",
              "    <tr>\n",
              "      <th>Volume</th>\n",
              "      <td>0.288224</td>\n",
              "      <td>1.000000</td>\n",
              "    </tr>\n",
              "  </tbody>\n",
              "</table>\n",
              "</div>"
            ],
            "text/plain": [
              "          일일확진자수    Volume\n",
              "일일확진자수  1.000000  0.288224\n",
              "Volume  0.288224  1.000000"
            ]
          },
          "metadata": {
            "tags": []
          },
          "execution_count": 24
        }
      ]
    },
    {
      "cell_type": "code",
      "metadata": {
        "id": "8SBhCTTVrudu",
        "colab_type": "code",
        "colab": {}
      },
      "source": [
        "# 종가\n",
        "data_close = pd.DataFrame(data2['Close'])"
      ],
      "execution_count": 25,
      "outputs": []
    },
    {
      "cell_type": "code",
      "metadata": {
        "id": "g62xVyUVtT5n",
        "colab_type": "code",
        "colab": {}
      },
      "source": [
        "result2 = pd.concat([data_1, data_close], axis=1)"
      ],
      "execution_count": 26,
      "outputs": []
    },
    {
      "cell_type": "code",
      "metadata": {
        "id": "Gd03uEJMtc6N",
        "colab_type": "code",
        "colab": {
          "base_uri": "https://localhost:8080/",
          "height": 419
        },
        "outputId": "4203ddbd-c9f8-475f-e840-a385ae60fa3f"
      },
      "source": [
        "result2"
      ],
      "execution_count": 27,
      "outputs": [
        {
          "output_type": "execute_result",
          "data": {
            "text/html": [
              "<div>\n",
              "<style scoped>\n",
              "    .dataframe tbody tr th:only-of-type {\n",
              "        vertical-align: middle;\n",
              "    }\n",
              "\n",
              "    .dataframe tbody tr th {\n",
              "        vertical-align: top;\n",
              "    }\n",
              "\n",
              "    .dataframe thead th {\n",
              "        text-align: right;\n",
              "    }\n",
              "</style>\n",
              "<table border=\"1\" class=\"dataframe\">\n",
              "  <thead>\n",
              "    <tr style=\"text-align: right;\">\n",
              "      <th></th>\n",
              "      <th>일일확진자수</th>\n",
              "      <th>Close</th>\n",
              "    </tr>\n",
              "  </thead>\n",
              "  <tbody>\n",
              "    <tr>\n",
              "      <th>2019-10-01</th>\n",
              "      <td>0</td>\n",
              "      <td>48850.0</td>\n",
              "    </tr>\n",
              "    <tr>\n",
              "      <th>2019-10-02</th>\n",
              "      <td>0</td>\n",
              "      <td>47600.0</td>\n",
              "    </tr>\n",
              "    <tr>\n",
              "      <th>2019-10-03</th>\n",
              "      <td>0</td>\n",
              "      <td>NaN</td>\n",
              "    </tr>\n",
              "    <tr>\n",
              "      <th>2019-10-04</th>\n",
              "      <td>0</td>\n",
              "      <td>48000.0</td>\n",
              "    </tr>\n",
              "    <tr>\n",
              "      <th>2019-10-05</th>\n",
              "      <td>0</td>\n",
              "      <td>NaN</td>\n",
              "    </tr>\n",
              "    <tr>\n",
              "      <th>...</th>\n",
              "      <td>...</td>\n",
              "      <td>...</td>\n",
              "    </tr>\n",
              "    <tr>\n",
              "      <th>2020-09-01</th>\n",
              "      <td>235</td>\n",
              "      <td>54200.0</td>\n",
              "    </tr>\n",
              "    <tr>\n",
              "      <th>2020-09-02</th>\n",
              "      <td>267</td>\n",
              "      <td>54400.0</td>\n",
              "    </tr>\n",
              "    <tr>\n",
              "      <th>2020-09-03</th>\n",
              "      <td>195</td>\n",
              "      <td>56400.0</td>\n",
              "    </tr>\n",
              "    <tr>\n",
              "      <th>2020-09-04</th>\n",
              "      <td>198</td>\n",
              "      <td>55600.0</td>\n",
              "    </tr>\n",
              "    <tr>\n",
              "      <th>2020-09-05</th>\n",
              "      <td>168</td>\n",
              "      <td>NaN</td>\n",
              "    </tr>\n",
              "  </tbody>\n",
              "</table>\n",
              "<p>341 rows × 2 columns</p>\n",
              "</div>"
            ],
            "text/plain": [
              "            일일확진자수    Close\n",
              "2019-10-01       0  48850.0\n",
              "2019-10-02       0  47600.0\n",
              "2019-10-03       0      NaN\n",
              "2019-10-04       0  48000.0\n",
              "2019-10-05       0      NaN\n",
              "...            ...      ...\n",
              "2020-09-01     235  54200.0\n",
              "2020-09-02     267  54400.0\n",
              "2020-09-03     195  56400.0\n",
              "2020-09-04     198  55600.0\n",
              "2020-09-05     168      NaN\n",
              "\n",
              "[341 rows x 2 columns]"
            ]
          },
          "metadata": {
            "tags": []
          },
          "execution_count": 27
        }
      ]
    },
    {
      "cell_type": "code",
      "metadata": {
        "id": "mc153Jy4tfRN",
        "colab_type": "code",
        "colab": {}
      },
      "source": [
        "corr = result2.corr(method='pearson')"
      ],
      "execution_count": 28,
      "outputs": []
    },
    {
      "cell_type": "code",
      "metadata": {
        "id": "Edg_5Ii2tleN",
        "colab_type": "code",
        "colab": {
          "base_uri": "https://localhost:8080/",
          "height": 111
        },
        "outputId": "2999f66e-39de-4a62-e435-67b83c8f6f14"
      },
      "source": [
        "corr"
      ],
      "execution_count": 29,
      "outputs": [
        {
          "output_type": "execute_result",
          "data": {
            "text/html": [
              "<div>\n",
              "<style scoped>\n",
              "    .dataframe tbody tr th:only-of-type {\n",
              "        vertical-align: middle;\n",
              "    }\n",
              "\n",
              "    .dataframe tbody tr th {\n",
              "        vertical-align: top;\n",
              "    }\n",
              "\n",
              "    .dataframe thead th {\n",
              "        text-align: right;\n",
              "    }\n",
              "</style>\n",
              "<table border=\"1\" class=\"dataframe\">\n",
              "  <thead>\n",
              "    <tr style=\"text-align: right;\">\n",
              "      <th></th>\n",
              "      <th>일일확진자수</th>\n",
              "      <th>Close</th>\n",
              "    </tr>\n",
              "  </thead>\n",
              "  <tbody>\n",
              "    <tr>\n",
              "      <th>일일확진자수</th>\n",
              "      <td>1.000000</td>\n",
              "      <td>0.122976</td>\n",
              "    </tr>\n",
              "    <tr>\n",
              "      <th>Close</th>\n",
              "      <td>0.122976</td>\n",
              "      <td>1.000000</td>\n",
              "    </tr>\n",
              "  </tbody>\n",
              "</table>\n",
              "</div>"
            ],
            "text/plain": [
              "          일일확진자수     Close\n",
              "일일확진자수  1.000000  0.122976\n",
              "Close   0.122976  1.000000"
            ]
          },
          "metadata": {
            "tags": []
          },
          "execution_count": 29
        }
      ]
    },
    {
      "cell_type": "code",
      "metadata": {
        "id": "xs7wPQLitls9",
        "colab_type": "code",
        "colab": {}
      },
      "source": [
        "# 시가\n",
        "data_open = pd.DataFrame(data2['Open'])"
      ],
      "execution_count": 41,
      "outputs": []
    },
    {
      "cell_type": "code",
      "metadata": {
        "id": "HsNlzVsWue3-",
        "colab_type": "code",
        "colab": {}
      },
      "source": [
        "result3 = pd.concat([data_1, data_open], axis=1)"
      ],
      "execution_count": 42,
      "outputs": []
    },
    {
      "cell_type": "code",
      "metadata": {
        "id": "gyyGRw2dukOt",
        "colab_type": "code",
        "colab": {
          "base_uri": "https://localhost:8080/",
          "height": 419
        },
        "outputId": "9a688342-0c21-40e8-eb7c-066911eb61c6"
      },
      "source": [
        "result3"
      ],
      "execution_count": 43,
      "outputs": [
        {
          "output_type": "execute_result",
          "data": {
            "text/html": [
              "<div>\n",
              "<style scoped>\n",
              "    .dataframe tbody tr th:only-of-type {\n",
              "        vertical-align: middle;\n",
              "    }\n",
              "\n",
              "    .dataframe tbody tr th {\n",
              "        vertical-align: top;\n",
              "    }\n",
              "\n",
              "    .dataframe thead th {\n",
              "        text-align: right;\n",
              "    }\n",
              "</style>\n",
              "<table border=\"1\" class=\"dataframe\">\n",
              "  <thead>\n",
              "    <tr style=\"text-align: right;\">\n",
              "      <th></th>\n",
              "      <th>일일확진자수</th>\n",
              "      <th>Open</th>\n",
              "    </tr>\n",
              "  </thead>\n",
              "  <tbody>\n",
              "    <tr>\n",
              "      <th>2019-10-01</th>\n",
              "      <td>0</td>\n",
              "      <td>48900.0</td>\n",
              "    </tr>\n",
              "    <tr>\n",
              "      <th>2019-10-02</th>\n",
              "      <td>0</td>\n",
              "      <td>48350.0</td>\n",
              "    </tr>\n",
              "    <tr>\n",
              "      <th>2019-10-03</th>\n",
              "      <td>0</td>\n",
              "      <td>NaN</td>\n",
              "    </tr>\n",
              "    <tr>\n",
              "      <th>2019-10-04</th>\n",
              "      <td>0</td>\n",
              "      <td>47400.0</td>\n",
              "    </tr>\n",
              "    <tr>\n",
              "      <th>2019-10-05</th>\n",
              "      <td>0</td>\n",
              "      <td>NaN</td>\n",
              "    </tr>\n",
              "    <tr>\n",
              "      <th>...</th>\n",
              "      <td>...</td>\n",
              "      <td>...</td>\n",
              "    </tr>\n",
              "    <tr>\n",
              "      <th>2020-09-01</th>\n",
              "      <td>235</td>\n",
              "      <td>54100.0</td>\n",
              "    </tr>\n",
              "    <tr>\n",
              "      <th>2020-09-02</th>\n",
              "      <td>267</td>\n",
              "      <td>54600.0</td>\n",
              "    </tr>\n",
              "    <tr>\n",
              "      <th>2020-09-03</th>\n",
              "      <td>195</td>\n",
              "      <td>55600.0</td>\n",
              "    </tr>\n",
              "    <tr>\n",
              "      <th>2020-09-04</th>\n",
              "      <td>198</td>\n",
              "      <td>55200.0</td>\n",
              "    </tr>\n",
              "    <tr>\n",
              "      <th>2020-09-05</th>\n",
              "      <td>168</td>\n",
              "      <td>NaN</td>\n",
              "    </tr>\n",
              "  </tbody>\n",
              "</table>\n",
              "<p>341 rows × 2 columns</p>\n",
              "</div>"
            ],
            "text/plain": [
              "            일일확진자수     Open\n",
              "2019-10-01       0  48900.0\n",
              "2019-10-02       0  48350.0\n",
              "2019-10-03       0      NaN\n",
              "2019-10-04       0  47400.0\n",
              "2019-10-05       0      NaN\n",
              "...            ...      ...\n",
              "2020-09-01     235  54100.0\n",
              "2020-09-02     267  54600.0\n",
              "2020-09-03     195  55600.0\n",
              "2020-09-04     198  55200.0\n",
              "2020-09-05     168      NaN\n",
              "\n",
              "[341 rows x 2 columns]"
            ]
          },
          "metadata": {
            "tags": []
          },
          "execution_count": 43
        }
      ]
    },
    {
      "cell_type": "code",
      "metadata": {
        "id": "vllxIEHMuk8s",
        "colab_type": "code",
        "colab": {}
      },
      "source": [
        "corr = result3.corr(method='pearson')"
      ],
      "execution_count": 44,
      "outputs": []
    },
    {
      "cell_type": "code",
      "metadata": {
        "id": "zT0g2QR0uopk",
        "colab_type": "code",
        "colab": {
          "base_uri": "https://localhost:8080/",
          "height": 111
        },
        "outputId": "da3a9a6f-4097-497d-d15e-722e18c84266"
      },
      "source": [
        "corr"
      ],
      "execution_count": 45,
      "outputs": [
        {
          "output_type": "execute_result",
          "data": {
            "text/html": [
              "<div>\n",
              "<style scoped>\n",
              "    .dataframe tbody tr th:only-of-type {\n",
              "        vertical-align: middle;\n",
              "    }\n",
              "\n",
              "    .dataframe tbody tr th {\n",
              "        vertical-align: top;\n",
              "    }\n",
              "\n",
              "    .dataframe thead th {\n",
              "        text-align: right;\n",
              "    }\n",
              "</style>\n",
              "<table border=\"1\" class=\"dataframe\">\n",
              "  <thead>\n",
              "    <tr style=\"text-align: right;\">\n",
              "      <th></th>\n",
              "      <th>일일확진자수</th>\n",
              "      <th>Open</th>\n",
              "    </tr>\n",
              "  </thead>\n",
              "  <tbody>\n",
              "    <tr>\n",
              "      <th>일일확진자수</th>\n",
              "      <td>1.000000</td>\n",
              "      <td>0.140416</td>\n",
              "    </tr>\n",
              "    <tr>\n",
              "      <th>Open</th>\n",
              "      <td>0.140416</td>\n",
              "      <td>1.000000</td>\n",
              "    </tr>\n",
              "  </tbody>\n",
              "</table>\n",
              "</div>"
            ],
            "text/plain": [
              "          일일확진자수      Open\n",
              "일일확진자수  1.000000  0.140416\n",
              "Open    0.140416  1.000000"
            ]
          },
          "metadata": {
            "tags": []
          },
          "execution_count": 45
        }
      ]
    },
    {
      "cell_type": "code",
      "metadata": {
        "id": "3lhs-oVjuo4s",
        "colab_type": "code",
        "colab": {}
      },
      "source": [
        ""
      ],
      "execution_count": null,
      "outputs": []
    }
  ]
}