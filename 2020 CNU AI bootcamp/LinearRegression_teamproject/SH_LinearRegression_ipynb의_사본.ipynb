{
  "nbformat": 4,
  "nbformat_minor": 0,
  "metadata": {
    "colab": {
      "name": "SH_LinearRegression.ipynb의 사본",
      "provenance": []
    },
    "kernelspec": {
      "name": "python3",
      "display_name": "Python 3"
    }
  },
  "cells": [
    {
      "cell_type": "code",
      "metadata": {
        "id": "lwe-JCtDXBew",
        "colab_type": "code",
        "colab": {}
      },
      "source": [
        "import pandas as pd"
      ],
      "execution_count": 1,
      "outputs": []
    },
    {
      "cell_type": "code",
      "metadata": {
        "id": "6iHo8eQxYBoB",
        "colab_type": "code",
        "colab": {
          "base_uri": "https://localhost:8080/",
          "height": 53
        },
        "outputId": "d73be707-b458-4af0-ba01-61c6b81fa686"
      },
      "source": [
        "# 호텔신라 주가\n",
        "import pandas_datareader.data as dr"
      ],
      "execution_count": 2,
      "outputs": [
        {
          "output_type": "stream",
          "text": [
            "/usr/local/lib/python3.6/dist-packages/pandas_datareader/compat/__init__.py:7: FutureWarning: pandas.util.testing is deprecated. Use the functions in the public API at pandas.testing instead.\n",
            "  from pandas.util.testing import assert_frame_equal\n"
          ],
          "name": "stderr"
        }
      ]
    },
    {
      "cell_type": "code",
      "metadata": {
        "id": "M3g8LGiSYB7Q",
        "colab_type": "code",
        "colab": {}
      },
      "source": [
        "import datetime"
      ],
      "execution_count": 3,
      "outputs": []
    },
    {
      "cell_type": "code",
      "metadata": {
        "id": "KSbZbM87YDSo",
        "colab_type": "code",
        "colab": {}
      },
      "source": [
        "start = datetime.datetime(2019,10,1)"
      ],
      "execution_count": 4,
      "outputs": []
    },
    {
      "cell_type": "code",
      "metadata": {
        "id": "GTTMY2WRYEXw",
        "colab_type": "code",
        "colab": {}
      },
      "source": [
        "end = datetime.datetime(2020,9,5)"
      ],
      "execution_count": 5,
      "outputs": []
    },
    {
      "cell_type": "code",
      "metadata": {
        "id": "wkmISU-xYFjQ",
        "colab_type": "code",
        "colab": {}
      },
      "source": [
        "sh = dr.DataReader('008770.KS', 'yahoo',start, end)"
      ],
      "execution_count": 6,
      "outputs": []
    },
    {
      "cell_type": "code",
      "metadata": {
        "id": "CCvG48S9YGjn",
        "colab_type": "code",
        "colab": {
          "base_uri": "https://localhost:8080/",
          "height": 450
        },
        "outputId": "8b1798d3-1cdc-4e92-e775-c6b7f0108ad1"
      },
      "source": [
        "sh"
      ],
      "execution_count": 7,
      "outputs": [
        {
          "output_type": "execute_result",
          "data": {
            "text/html": [
              "<div>\n",
              "<style scoped>\n",
              "    .dataframe tbody tr th:only-of-type {\n",
              "        vertical-align: middle;\n",
              "    }\n",
              "\n",
              "    .dataframe tbody tr th {\n",
              "        vertical-align: top;\n",
              "    }\n",
              "\n",
              "    .dataframe thead th {\n",
              "        text-align: right;\n",
              "    }\n",
              "</style>\n",
              "<table border=\"1\" class=\"dataframe\">\n",
              "  <thead>\n",
              "    <tr style=\"text-align: right;\">\n",
              "      <th></th>\n",
              "      <th>High</th>\n",
              "      <th>Low</th>\n",
              "      <th>Open</th>\n",
              "      <th>Close</th>\n",
              "      <th>Volume</th>\n",
              "      <th>Adj Close</th>\n",
              "    </tr>\n",
              "    <tr>\n",
              "      <th>Date</th>\n",
              "      <th></th>\n",
              "      <th></th>\n",
              "      <th></th>\n",
              "      <th></th>\n",
              "      <th></th>\n",
              "      <th></th>\n",
              "    </tr>\n",
              "  </thead>\n",
              "  <tbody>\n",
              "    <tr>\n",
              "      <th>2019-10-01</th>\n",
              "      <td>86000.0</td>\n",
              "      <td>82100.0</td>\n",
              "      <td>85800.0</td>\n",
              "      <td>82500.0</td>\n",
              "      <td>653709.0</td>\n",
              "      <td>82500.0</td>\n",
              "    </tr>\n",
              "    <tr>\n",
              "      <th>2019-10-02</th>\n",
              "      <td>82900.0</td>\n",
              "      <td>80700.0</td>\n",
              "      <td>82700.0</td>\n",
              "      <td>81000.0</td>\n",
              "      <td>541381.0</td>\n",
              "      <td>81000.0</td>\n",
              "    </tr>\n",
              "    <tr>\n",
              "      <th>2019-10-04</th>\n",
              "      <td>81500.0</td>\n",
              "      <td>79200.0</td>\n",
              "      <td>81000.0</td>\n",
              "      <td>79800.0</td>\n",
              "      <td>435223.0</td>\n",
              "      <td>79800.0</td>\n",
              "    </tr>\n",
              "    <tr>\n",
              "      <th>2019-10-07</th>\n",
              "      <td>81500.0</td>\n",
              "      <td>79800.0</td>\n",
              "      <td>80400.0</td>\n",
              "      <td>80200.0</td>\n",
              "      <td>236583.0</td>\n",
              "      <td>80200.0</td>\n",
              "    </tr>\n",
              "    <tr>\n",
              "      <th>2019-10-08</th>\n",
              "      <td>81300.0</td>\n",
              "      <td>80200.0</td>\n",
              "      <td>80400.0</td>\n",
              "      <td>80800.0</td>\n",
              "      <td>266694.0</td>\n",
              "      <td>80800.0</td>\n",
              "    </tr>\n",
              "    <tr>\n",
              "      <th>...</th>\n",
              "      <td>...</td>\n",
              "      <td>...</td>\n",
              "      <td>...</td>\n",
              "      <td>...</td>\n",
              "      <td>...</td>\n",
              "      <td>...</td>\n",
              "    </tr>\n",
              "    <tr>\n",
              "      <th>2020-08-31</th>\n",
              "      <td>71600.0</td>\n",
              "      <td>70300.0</td>\n",
              "      <td>71600.0</td>\n",
              "      <td>70300.0</td>\n",
              "      <td>348867.0</td>\n",
              "      <td>70300.0</td>\n",
              "    </tr>\n",
              "    <tr>\n",
              "      <th>2020-09-01</th>\n",
              "      <td>73400.0</td>\n",
              "      <td>70300.0</td>\n",
              "      <td>70700.0</td>\n",
              "      <td>72500.0</td>\n",
              "      <td>696976.0</td>\n",
              "      <td>72500.0</td>\n",
              "    </tr>\n",
              "    <tr>\n",
              "      <th>2020-09-02</th>\n",
              "      <td>77000.0</td>\n",
              "      <td>73600.0</td>\n",
              "      <td>73700.0</td>\n",
              "      <td>75800.0</td>\n",
              "      <td>1333521.0</td>\n",
              "      <td>75800.0</td>\n",
              "    </tr>\n",
              "    <tr>\n",
              "      <th>2020-09-03</th>\n",
              "      <td>77800.0</td>\n",
              "      <td>75100.0</td>\n",
              "      <td>76700.0</td>\n",
              "      <td>75300.0</td>\n",
              "      <td>1086752.0</td>\n",
              "      <td>75300.0</td>\n",
              "    </tr>\n",
              "    <tr>\n",
              "      <th>2020-09-04</th>\n",
              "      <td>75300.0</td>\n",
              "      <td>73500.0</td>\n",
              "      <td>73900.0</td>\n",
              "      <td>74600.0</td>\n",
              "      <td>596400.0</td>\n",
              "      <td>74600.0</td>\n",
              "    </tr>\n",
              "  </tbody>\n",
              "</table>\n",
              "<p>231 rows × 6 columns</p>\n",
              "</div>"
            ],
            "text/plain": [
              "               High      Low     Open    Close     Volume  Adj Close\n",
              "Date                                                                \n",
              "2019-10-01  86000.0  82100.0  85800.0  82500.0   653709.0    82500.0\n",
              "2019-10-02  82900.0  80700.0  82700.0  81000.0   541381.0    81000.0\n",
              "2019-10-04  81500.0  79200.0  81000.0  79800.0   435223.0    79800.0\n",
              "2019-10-07  81500.0  79800.0  80400.0  80200.0   236583.0    80200.0\n",
              "2019-10-08  81300.0  80200.0  80400.0  80800.0   266694.0    80800.0\n",
              "...             ...      ...      ...      ...        ...        ...\n",
              "2020-08-31  71600.0  70300.0  71600.0  70300.0   348867.0    70300.0\n",
              "2020-09-01  73400.0  70300.0  70700.0  72500.0   696976.0    72500.0\n",
              "2020-09-02  77000.0  73600.0  73700.0  75800.0  1333521.0    75800.0\n",
              "2020-09-03  77800.0  75100.0  76700.0  75300.0  1086752.0    75300.0\n",
              "2020-09-04  75300.0  73500.0  73900.0  74600.0   596400.0    74600.0\n",
              "\n",
              "[231 rows x 6 columns]"
            ]
          },
          "metadata": {
            "tags": []
          },
          "execution_count": 7
        }
      ]
    },
    {
      "cell_type": "code",
      "metadata": {
        "id": "2XKgZGi7YHpA",
        "colab_type": "code",
        "colab": {
          "base_uri": "https://localhost:8080/",
          "height": 35
        },
        "outputId": "ee37e8f7-f26c-4edc-ea27-8872cab5ba41"
      },
      "source": [
        "sh.shape"
      ],
      "execution_count": 8,
      "outputs": [
        {
          "output_type": "execute_result",
          "data": {
            "text/plain": [
              "(231, 6)"
            ]
          },
          "metadata": {
            "tags": []
          },
          "execution_count": 8
        }
      ]
    },
    {
      "cell_type": "code",
      "metadata": {
        "id": "5TS-DM2xYI4H",
        "colab_type": "code",
        "colab": {
          "base_uri": "https://localhost:8080/",
          "height": 251
        },
        "outputId": "638c4091-9c5c-41a6-9944-f7d9ea0b9183"
      },
      "source": [
        "sh.info()"
      ],
      "execution_count": 9,
      "outputs": [
        {
          "output_type": "stream",
          "text": [
            "<class 'pandas.core.frame.DataFrame'>\n",
            "DatetimeIndex: 231 entries, 2019-10-01 to 2020-09-04\n",
            "Data columns (total 6 columns):\n",
            " #   Column     Non-Null Count  Dtype  \n",
            "---  ------     --------------  -----  \n",
            " 0   High       231 non-null    float64\n",
            " 1   Low        231 non-null    float64\n",
            " 2   Open       231 non-null    float64\n",
            " 3   Close      231 non-null    float64\n",
            " 4   Volume     231 non-null    float64\n",
            " 5   Adj Close  231 non-null    float64\n",
            "dtypes: float64(6)\n",
            "memory usage: 12.6 KB\n"
          ],
          "name": "stdout"
        }
      ]
    },
    {
      "cell_type": "code",
      "metadata": {
        "id": "9ojLgIVuYKOn",
        "colab_type": "code",
        "colab": {
          "base_uri": "https://localhost:8080/",
          "height": 419
        },
        "outputId": "70b70dbc-96a1-4c37-d6f3-27dba095e00f"
      },
      "source": [
        "sh.reset_index()"
      ],
      "execution_count": 10,
      "outputs": [
        {
          "output_type": "execute_result",
          "data": {
            "text/html": [
              "<div>\n",
              "<style scoped>\n",
              "    .dataframe tbody tr th:only-of-type {\n",
              "        vertical-align: middle;\n",
              "    }\n",
              "\n",
              "    .dataframe tbody tr th {\n",
              "        vertical-align: top;\n",
              "    }\n",
              "\n",
              "    .dataframe thead th {\n",
              "        text-align: right;\n",
              "    }\n",
              "</style>\n",
              "<table border=\"1\" class=\"dataframe\">\n",
              "  <thead>\n",
              "    <tr style=\"text-align: right;\">\n",
              "      <th></th>\n",
              "      <th>Date</th>\n",
              "      <th>High</th>\n",
              "      <th>Low</th>\n",
              "      <th>Open</th>\n",
              "      <th>Close</th>\n",
              "      <th>Volume</th>\n",
              "      <th>Adj Close</th>\n",
              "    </tr>\n",
              "  </thead>\n",
              "  <tbody>\n",
              "    <tr>\n",
              "      <th>0</th>\n",
              "      <td>2019-10-01</td>\n",
              "      <td>86000.0</td>\n",
              "      <td>82100.0</td>\n",
              "      <td>85800.0</td>\n",
              "      <td>82500.0</td>\n",
              "      <td>653709.0</td>\n",
              "      <td>82500.0</td>\n",
              "    </tr>\n",
              "    <tr>\n",
              "      <th>1</th>\n",
              "      <td>2019-10-02</td>\n",
              "      <td>82900.0</td>\n",
              "      <td>80700.0</td>\n",
              "      <td>82700.0</td>\n",
              "      <td>81000.0</td>\n",
              "      <td>541381.0</td>\n",
              "      <td>81000.0</td>\n",
              "    </tr>\n",
              "    <tr>\n",
              "      <th>2</th>\n",
              "      <td>2019-10-04</td>\n",
              "      <td>81500.0</td>\n",
              "      <td>79200.0</td>\n",
              "      <td>81000.0</td>\n",
              "      <td>79800.0</td>\n",
              "      <td>435223.0</td>\n",
              "      <td>79800.0</td>\n",
              "    </tr>\n",
              "    <tr>\n",
              "      <th>3</th>\n",
              "      <td>2019-10-07</td>\n",
              "      <td>81500.0</td>\n",
              "      <td>79800.0</td>\n",
              "      <td>80400.0</td>\n",
              "      <td>80200.0</td>\n",
              "      <td>236583.0</td>\n",
              "      <td>80200.0</td>\n",
              "    </tr>\n",
              "    <tr>\n",
              "      <th>4</th>\n",
              "      <td>2019-10-08</td>\n",
              "      <td>81300.0</td>\n",
              "      <td>80200.0</td>\n",
              "      <td>80400.0</td>\n",
              "      <td>80800.0</td>\n",
              "      <td>266694.0</td>\n",
              "      <td>80800.0</td>\n",
              "    </tr>\n",
              "    <tr>\n",
              "      <th>...</th>\n",
              "      <td>...</td>\n",
              "      <td>...</td>\n",
              "      <td>...</td>\n",
              "      <td>...</td>\n",
              "      <td>...</td>\n",
              "      <td>...</td>\n",
              "      <td>...</td>\n",
              "    </tr>\n",
              "    <tr>\n",
              "      <th>226</th>\n",
              "      <td>2020-08-31</td>\n",
              "      <td>71600.0</td>\n",
              "      <td>70300.0</td>\n",
              "      <td>71600.0</td>\n",
              "      <td>70300.0</td>\n",
              "      <td>348867.0</td>\n",
              "      <td>70300.0</td>\n",
              "    </tr>\n",
              "    <tr>\n",
              "      <th>227</th>\n",
              "      <td>2020-09-01</td>\n",
              "      <td>73400.0</td>\n",
              "      <td>70300.0</td>\n",
              "      <td>70700.0</td>\n",
              "      <td>72500.0</td>\n",
              "      <td>696976.0</td>\n",
              "      <td>72500.0</td>\n",
              "    </tr>\n",
              "    <tr>\n",
              "      <th>228</th>\n",
              "      <td>2020-09-02</td>\n",
              "      <td>77000.0</td>\n",
              "      <td>73600.0</td>\n",
              "      <td>73700.0</td>\n",
              "      <td>75800.0</td>\n",
              "      <td>1333521.0</td>\n",
              "      <td>75800.0</td>\n",
              "    </tr>\n",
              "    <tr>\n",
              "      <th>229</th>\n",
              "      <td>2020-09-03</td>\n",
              "      <td>77800.0</td>\n",
              "      <td>75100.0</td>\n",
              "      <td>76700.0</td>\n",
              "      <td>75300.0</td>\n",
              "      <td>1086752.0</td>\n",
              "      <td>75300.0</td>\n",
              "    </tr>\n",
              "    <tr>\n",
              "      <th>230</th>\n",
              "      <td>2020-09-04</td>\n",
              "      <td>75300.0</td>\n",
              "      <td>73500.0</td>\n",
              "      <td>73900.0</td>\n",
              "      <td>74600.0</td>\n",
              "      <td>596400.0</td>\n",
              "      <td>74600.0</td>\n",
              "    </tr>\n",
              "  </tbody>\n",
              "</table>\n",
              "<p>231 rows × 7 columns</p>\n",
              "</div>"
            ],
            "text/plain": [
              "          Date     High      Low     Open    Close     Volume  Adj Close\n",
              "0   2019-10-01  86000.0  82100.0  85800.0  82500.0   653709.0    82500.0\n",
              "1   2019-10-02  82900.0  80700.0  82700.0  81000.0   541381.0    81000.0\n",
              "2   2019-10-04  81500.0  79200.0  81000.0  79800.0   435223.0    79800.0\n",
              "3   2019-10-07  81500.0  79800.0  80400.0  80200.0   236583.0    80200.0\n",
              "4   2019-10-08  81300.0  80200.0  80400.0  80800.0   266694.0    80800.0\n",
              "..         ...      ...      ...      ...      ...        ...        ...\n",
              "226 2020-08-31  71600.0  70300.0  71600.0  70300.0   348867.0    70300.0\n",
              "227 2020-09-01  73400.0  70300.0  70700.0  72500.0   696976.0    72500.0\n",
              "228 2020-09-02  77000.0  73600.0  73700.0  75800.0  1333521.0    75800.0\n",
              "229 2020-09-03  77800.0  75100.0  76700.0  75300.0  1086752.0    75300.0\n",
              "230 2020-09-04  75300.0  73500.0  73900.0  74600.0   596400.0    74600.0\n",
              "\n",
              "[231 rows x 7 columns]"
            ]
          },
          "metadata": {
            "tags": []
          },
          "execution_count": 10
        }
      ]
    },
    {
      "cell_type": "code",
      "metadata": {
        "id": "nmUjt_pmYLVI",
        "colab_type": "code",
        "colab": {
          "base_uri": "https://localhost:8080/",
          "height": 419
        },
        "outputId": "0d760cbb-f5bc-4979-a979-772fedad1ef0"
      },
      "source": [
        "# 코로나 확진자\n",
        "pd.read_csv('19_4_1.csv')"
      ],
      "execution_count": 11,
      "outputs": [
        {
          "output_type": "execute_result",
          "data": {
            "text/html": [
              "<div>\n",
              "<style scoped>\n",
              "    .dataframe tbody tr th:only-of-type {\n",
              "        vertical-align: middle;\n",
              "    }\n",
              "\n",
              "    .dataframe tbody tr th {\n",
              "        vertical-align: top;\n",
              "    }\n",
              "\n",
              "    .dataframe thead th {\n",
              "        text-align: right;\n",
              "    }\n",
              "</style>\n",
              "<table border=\"1\" class=\"dataframe\">\n",
              "  <thead>\n",
              "    <tr style=\"text-align: right;\">\n",
              "      <th></th>\n",
              "      <th>Unnamed: 0</th>\n",
              "      <th>날짜</th>\n",
              "      <th>일일확진자수</th>\n",
              "    </tr>\n",
              "  </thead>\n",
              "  <tbody>\n",
              "    <tr>\n",
              "      <th>0</th>\n",
              "      <td>0</td>\n",
              "      <td>2020-09-05</td>\n",
              "      <td>168</td>\n",
              "    </tr>\n",
              "    <tr>\n",
              "      <th>1</th>\n",
              "      <td>1</td>\n",
              "      <td>2020-09-04</td>\n",
              "      <td>198</td>\n",
              "    </tr>\n",
              "    <tr>\n",
              "      <th>2</th>\n",
              "      <td>2</td>\n",
              "      <td>2020-09-03</td>\n",
              "      <td>195</td>\n",
              "    </tr>\n",
              "    <tr>\n",
              "      <th>3</th>\n",
              "      <td>3</td>\n",
              "      <td>2020-09-02</td>\n",
              "      <td>267</td>\n",
              "    </tr>\n",
              "    <tr>\n",
              "      <th>4</th>\n",
              "      <td>4</td>\n",
              "      <td>2020-09-01</td>\n",
              "      <td>235</td>\n",
              "    </tr>\n",
              "    <tr>\n",
              "      <th>...</th>\n",
              "      <td>...</td>\n",
              "      <td>...</td>\n",
              "      <td>...</td>\n",
              "    </tr>\n",
              "    <tr>\n",
              "      <th>336</th>\n",
              "      <td>336</td>\n",
              "      <td>2019-10-05</td>\n",
              "      <td>0</td>\n",
              "    </tr>\n",
              "    <tr>\n",
              "      <th>337</th>\n",
              "      <td>337</td>\n",
              "      <td>2019-10-04</td>\n",
              "      <td>0</td>\n",
              "    </tr>\n",
              "    <tr>\n",
              "      <th>338</th>\n",
              "      <td>338</td>\n",
              "      <td>2019-10-03</td>\n",
              "      <td>0</td>\n",
              "    </tr>\n",
              "    <tr>\n",
              "      <th>339</th>\n",
              "      <td>339</td>\n",
              "      <td>2019-10-02</td>\n",
              "      <td>0</td>\n",
              "    </tr>\n",
              "    <tr>\n",
              "      <th>340</th>\n",
              "      <td>340</td>\n",
              "      <td>2019-10-01</td>\n",
              "      <td>0</td>\n",
              "    </tr>\n",
              "  </tbody>\n",
              "</table>\n",
              "<p>341 rows × 3 columns</p>\n",
              "</div>"
            ],
            "text/plain": [
              "     Unnamed: 0          날짜  일일확진자수\n",
              "0             0  2020-09-05     168\n",
              "1             1  2020-09-04     198\n",
              "2             2  2020-09-03     195\n",
              "3             3  2020-09-02     267\n",
              "4             4  2020-09-01     235\n",
              "..          ...         ...     ...\n",
              "336         336  2019-10-05       0\n",
              "337         337  2019-10-04       0\n",
              "338         338  2019-10-03       0\n",
              "339         339  2019-10-02       0\n",
              "340         340  2019-10-01       0\n",
              "\n",
              "[341 rows x 3 columns]"
            ]
          },
          "metadata": {
            "tags": []
          },
          "execution_count": 11
        }
      ]
    },
    {
      "cell_type": "code",
      "metadata": {
        "id": "qwxJw5vaYN7n",
        "colab_type": "code",
        "colab": {}
      },
      "source": [
        "df1 = pd.read_csv('19_4_1.csv')\n",
        "df1['날짜'] = df1['날짜'].astype('datetime64[ns]')\n",
        "df2 = df1.set_index('날짜')"
      ],
      "execution_count": 12,
      "outputs": []
    },
    {
      "cell_type": "code",
      "metadata": {
        "id": "NoYu8CHEYQjg",
        "colab_type": "code",
        "colab": {
          "base_uri": "https://localhost:8080/",
          "height": 450
        },
        "outputId": "1bae9309-4a93-4efe-e8c3-e2d0628532ec"
      },
      "source": [
        "df2[['일일확진자수']]"
      ],
      "execution_count": 13,
      "outputs": [
        {
          "output_type": "execute_result",
          "data": {
            "text/html": [
              "<div>\n",
              "<style scoped>\n",
              "    .dataframe tbody tr th:only-of-type {\n",
              "        vertical-align: middle;\n",
              "    }\n",
              "\n",
              "    .dataframe tbody tr th {\n",
              "        vertical-align: top;\n",
              "    }\n",
              "\n",
              "    .dataframe thead th {\n",
              "        text-align: right;\n",
              "    }\n",
              "</style>\n",
              "<table border=\"1\" class=\"dataframe\">\n",
              "  <thead>\n",
              "    <tr style=\"text-align: right;\">\n",
              "      <th></th>\n",
              "      <th>일일확진자수</th>\n",
              "    </tr>\n",
              "    <tr>\n",
              "      <th>날짜</th>\n",
              "      <th></th>\n",
              "    </tr>\n",
              "  </thead>\n",
              "  <tbody>\n",
              "    <tr>\n",
              "      <th>2020-09-05</th>\n",
              "      <td>168</td>\n",
              "    </tr>\n",
              "    <tr>\n",
              "      <th>2020-09-04</th>\n",
              "      <td>198</td>\n",
              "    </tr>\n",
              "    <tr>\n",
              "      <th>2020-09-03</th>\n",
              "      <td>195</td>\n",
              "    </tr>\n",
              "    <tr>\n",
              "      <th>2020-09-02</th>\n",
              "      <td>267</td>\n",
              "    </tr>\n",
              "    <tr>\n",
              "      <th>2020-09-01</th>\n",
              "      <td>235</td>\n",
              "    </tr>\n",
              "    <tr>\n",
              "      <th>...</th>\n",
              "      <td>...</td>\n",
              "    </tr>\n",
              "    <tr>\n",
              "      <th>2019-10-05</th>\n",
              "      <td>0</td>\n",
              "    </tr>\n",
              "    <tr>\n",
              "      <th>2019-10-04</th>\n",
              "      <td>0</td>\n",
              "    </tr>\n",
              "    <tr>\n",
              "      <th>2019-10-03</th>\n",
              "      <td>0</td>\n",
              "    </tr>\n",
              "    <tr>\n",
              "      <th>2019-10-02</th>\n",
              "      <td>0</td>\n",
              "    </tr>\n",
              "    <tr>\n",
              "      <th>2019-10-01</th>\n",
              "      <td>0</td>\n",
              "    </tr>\n",
              "  </tbody>\n",
              "</table>\n",
              "<p>341 rows × 1 columns</p>\n",
              "</div>"
            ],
            "text/plain": [
              "            일일확진자수\n",
              "날짜                \n",
              "2020-09-05     168\n",
              "2020-09-04     198\n",
              "2020-09-03     195\n",
              "2020-09-02     267\n",
              "2020-09-01     235\n",
              "...            ...\n",
              "2019-10-05       0\n",
              "2019-10-04       0\n",
              "2019-10-03       0\n",
              "2019-10-02       0\n",
              "2019-10-01       0\n",
              "\n",
              "[341 rows x 1 columns]"
            ]
          },
          "metadata": {
            "tags": []
          },
          "execution_count": 13
        }
      ]
    },
    {
      "cell_type": "code",
      "metadata": {
        "id": "pVnlSgdqqsAx",
        "colab_type": "code",
        "colab": {}
      },
      "source": [
        "data1 = df2[['일일확진자수']]"
      ],
      "execution_count": 14,
      "outputs": []
    },
    {
      "cell_type": "code",
      "metadata": {
        "id": "UduYXYoIYSP3",
        "colab_type": "code",
        "colab": {}
      },
      "source": [
        "data1 = data1.sort_values(by=['날짜'], ascending=[True])"
      ],
      "execution_count": 15,
      "outputs": []
    },
    {
      "cell_type": "code",
      "metadata": {
        "id": "QFYxMQgSYUbY",
        "colab_type": "code",
        "colab": {
          "base_uri": "https://localhost:8080/",
          "height": 450
        },
        "outputId": "4250ba16-662a-4d69-e624-78c2c3404199"
      },
      "source": [
        "data1"
      ],
      "execution_count": 16,
      "outputs": [
        {
          "output_type": "execute_result",
          "data": {
            "text/html": [
              "<div>\n",
              "<style scoped>\n",
              "    .dataframe tbody tr th:only-of-type {\n",
              "        vertical-align: middle;\n",
              "    }\n",
              "\n",
              "    .dataframe tbody tr th {\n",
              "        vertical-align: top;\n",
              "    }\n",
              "\n",
              "    .dataframe thead th {\n",
              "        text-align: right;\n",
              "    }\n",
              "</style>\n",
              "<table border=\"1\" class=\"dataframe\">\n",
              "  <thead>\n",
              "    <tr style=\"text-align: right;\">\n",
              "      <th></th>\n",
              "      <th>일일확진자수</th>\n",
              "    </tr>\n",
              "    <tr>\n",
              "      <th>날짜</th>\n",
              "      <th></th>\n",
              "    </tr>\n",
              "  </thead>\n",
              "  <tbody>\n",
              "    <tr>\n",
              "      <th>2019-10-01</th>\n",
              "      <td>0</td>\n",
              "    </tr>\n",
              "    <tr>\n",
              "      <th>2019-10-02</th>\n",
              "      <td>0</td>\n",
              "    </tr>\n",
              "    <tr>\n",
              "      <th>2019-10-03</th>\n",
              "      <td>0</td>\n",
              "    </tr>\n",
              "    <tr>\n",
              "      <th>2019-10-04</th>\n",
              "      <td>0</td>\n",
              "    </tr>\n",
              "    <tr>\n",
              "      <th>2019-10-05</th>\n",
              "      <td>0</td>\n",
              "    </tr>\n",
              "    <tr>\n",
              "      <th>...</th>\n",
              "      <td>...</td>\n",
              "    </tr>\n",
              "    <tr>\n",
              "      <th>2020-09-01</th>\n",
              "      <td>235</td>\n",
              "    </tr>\n",
              "    <tr>\n",
              "      <th>2020-09-02</th>\n",
              "      <td>267</td>\n",
              "    </tr>\n",
              "    <tr>\n",
              "      <th>2020-09-03</th>\n",
              "      <td>195</td>\n",
              "    </tr>\n",
              "    <tr>\n",
              "      <th>2020-09-04</th>\n",
              "      <td>198</td>\n",
              "    </tr>\n",
              "    <tr>\n",
              "      <th>2020-09-05</th>\n",
              "      <td>168</td>\n",
              "    </tr>\n",
              "  </tbody>\n",
              "</table>\n",
              "<p>341 rows × 1 columns</p>\n",
              "</div>"
            ],
            "text/plain": [
              "            일일확진자수\n",
              "날짜                \n",
              "2019-10-01       0\n",
              "2019-10-02       0\n",
              "2019-10-03       0\n",
              "2019-10-04       0\n",
              "2019-10-05       0\n",
              "...            ...\n",
              "2020-09-01     235\n",
              "2020-09-02     267\n",
              "2020-09-03     195\n",
              "2020-09-04     198\n",
              "2020-09-05     168\n",
              "\n",
              "[341 rows x 1 columns]"
            ]
          },
          "metadata": {
            "tags": []
          },
          "execution_count": 16
        }
      ]
    },
    {
      "cell_type": "code",
      "metadata": {
        "id": "wLgCXm_8mEWM",
        "colab_type": "code",
        "colab": {}
      },
      "source": [
        "data1 = pd.DataFrame(data1)"
      ],
      "execution_count": 17,
      "outputs": []
    },
    {
      "cell_type": "code",
      "metadata": {
        "id": "p-wj9l4VrNZb",
        "colab_type": "code",
        "colab": {}
      },
      "source": [
        ""
      ],
      "execution_count": 17,
      "outputs": []
    },
    {
      "cell_type": "code",
      "metadata": {
        "id": "mVrKX2N9tPah",
        "colab_type": "code",
        "colab": {
          "base_uri": "https://localhost:8080/",
          "height": 450
        },
        "outputId": "eeb93dd5-aa92-44fd-9625-a30cf3844694"
      },
      "source": [
        "data1"
      ],
      "execution_count": 18,
      "outputs": [
        {
          "output_type": "execute_result",
          "data": {
            "text/html": [
              "<div>\n",
              "<style scoped>\n",
              "    .dataframe tbody tr th:only-of-type {\n",
              "        vertical-align: middle;\n",
              "    }\n",
              "\n",
              "    .dataframe tbody tr th {\n",
              "        vertical-align: top;\n",
              "    }\n",
              "\n",
              "    .dataframe thead th {\n",
              "        text-align: right;\n",
              "    }\n",
              "</style>\n",
              "<table border=\"1\" class=\"dataframe\">\n",
              "  <thead>\n",
              "    <tr style=\"text-align: right;\">\n",
              "      <th></th>\n",
              "      <th>일일확진자수</th>\n",
              "    </tr>\n",
              "    <tr>\n",
              "      <th>날짜</th>\n",
              "      <th></th>\n",
              "    </tr>\n",
              "  </thead>\n",
              "  <tbody>\n",
              "    <tr>\n",
              "      <th>2019-10-01</th>\n",
              "      <td>0</td>\n",
              "    </tr>\n",
              "    <tr>\n",
              "      <th>2019-10-02</th>\n",
              "      <td>0</td>\n",
              "    </tr>\n",
              "    <tr>\n",
              "      <th>2019-10-03</th>\n",
              "      <td>0</td>\n",
              "    </tr>\n",
              "    <tr>\n",
              "      <th>2019-10-04</th>\n",
              "      <td>0</td>\n",
              "    </tr>\n",
              "    <tr>\n",
              "      <th>2019-10-05</th>\n",
              "      <td>0</td>\n",
              "    </tr>\n",
              "    <tr>\n",
              "      <th>...</th>\n",
              "      <td>...</td>\n",
              "    </tr>\n",
              "    <tr>\n",
              "      <th>2020-09-01</th>\n",
              "      <td>235</td>\n",
              "    </tr>\n",
              "    <tr>\n",
              "      <th>2020-09-02</th>\n",
              "      <td>267</td>\n",
              "    </tr>\n",
              "    <tr>\n",
              "      <th>2020-09-03</th>\n",
              "      <td>195</td>\n",
              "    </tr>\n",
              "    <tr>\n",
              "      <th>2020-09-04</th>\n",
              "      <td>198</td>\n",
              "    </tr>\n",
              "    <tr>\n",
              "      <th>2020-09-05</th>\n",
              "      <td>168</td>\n",
              "    </tr>\n",
              "  </tbody>\n",
              "</table>\n",
              "<p>341 rows × 1 columns</p>\n",
              "</div>"
            ],
            "text/plain": [
              "            일일확진자수\n",
              "날짜                \n",
              "2019-10-01       0\n",
              "2019-10-02       0\n",
              "2019-10-03       0\n",
              "2019-10-04       0\n",
              "2019-10-05       0\n",
              "...            ...\n",
              "2020-09-01     235\n",
              "2020-09-02     267\n",
              "2020-09-03     195\n",
              "2020-09-04     198\n",
              "2020-09-05     168\n",
              "\n",
              "[341 rows x 1 columns]"
            ]
          },
          "metadata": {
            "tags": []
          },
          "execution_count": 18
        }
      ]
    },
    {
      "cell_type": "code",
      "metadata": {
        "id": "mOnncEs7YVZA",
        "colab_type": "code",
        "colab": {}
      },
      "source": [
        "data2 = pd.DataFrame(sh)"
      ],
      "execution_count": 19,
      "outputs": []
    },
    {
      "cell_type": "code",
      "metadata": {
        "id": "ttJO_RauYWvI",
        "colab_type": "code",
        "colab": {
          "base_uri": "https://localhost:8080/",
          "height": 450
        },
        "outputId": "a90db2f7-93cf-471a-ce2a-47c85f0e4dd2"
      },
      "source": [
        "data2"
      ],
      "execution_count": 20,
      "outputs": [
        {
          "output_type": "execute_result",
          "data": {
            "text/html": [
              "<div>\n",
              "<style scoped>\n",
              "    .dataframe tbody tr th:only-of-type {\n",
              "        vertical-align: middle;\n",
              "    }\n",
              "\n",
              "    .dataframe tbody tr th {\n",
              "        vertical-align: top;\n",
              "    }\n",
              "\n",
              "    .dataframe thead th {\n",
              "        text-align: right;\n",
              "    }\n",
              "</style>\n",
              "<table border=\"1\" class=\"dataframe\">\n",
              "  <thead>\n",
              "    <tr style=\"text-align: right;\">\n",
              "      <th></th>\n",
              "      <th>High</th>\n",
              "      <th>Low</th>\n",
              "      <th>Open</th>\n",
              "      <th>Close</th>\n",
              "      <th>Volume</th>\n",
              "      <th>Adj Close</th>\n",
              "    </tr>\n",
              "    <tr>\n",
              "      <th>Date</th>\n",
              "      <th></th>\n",
              "      <th></th>\n",
              "      <th></th>\n",
              "      <th></th>\n",
              "      <th></th>\n",
              "      <th></th>\n",
              "    </tr>\n",
              "  </thead>\n",
              "  <tbody>\n",
              "    <tr>\n",
              "      <th>2019-10-01</th>\n",
              "      <td>86000.0</td>\n",
              "      <td>82100.0</td>\n",
              "      <td>85800.0</td>\n",
              "      <td>82500.0</td>\n",
              "      <td>653709.0</td>\n",
              "      <td>82500.0</td>\n",
              "    </tr>\n",
              "    <tr>\n",
              "      <th>2019-10-02</th>\n",
              "      <td>82900.0</td>\n",
              "      <td>80700.0</td>\n",
              "      <td>82700.0</td>\n",
              "      <td>81000.0</td>\n",
              "      <td>541381.0</td>\n",
              "      <td>81000.0</td>\n",
              "    </tr>\n",
              "    <tr>\n",
              "      <th>2019-10-04</th>\n",
              "      <td>81500.0</td>\n",
              "      <td>79200.0</td>\n",
              "      <td>81000.0</td>\n",
              "      <td>79800.0</td>\n",
              "      <td>435223.0</td>\n",
              "      <td>79800.0</td>\n",
              "    </tr>\n",
              "    <tr>\n",
              "      <th>2019-10-07</th>\n",
              "      <td>81500.0</td>\n",
              "      <td>79800.0</td>\n",
              "      <td>80400.0</td>\n",
              "      <td>80200.0</td>\n",
              "      <td>236583.0</td>\n",
              "      <td>80200.0</td>\n",
              "    </tr>\n",
              "    <tr>\n",
              "      <th>2019-10-08</th>\n",
              "      <td>81300.0</td>\n",
              "      <td>80200.0</td>\n",
              "      <td>80400.0</td>\n",
              "      <td>80800.0</td>\n",
              "      <td>266694.0</td>\n",
              "      <td>80800.0</td>\n",
              "    </tr>\n",
              "    <tr>\n",
              "      <th>...</th>\n",
              "      <td>...</td>\n",
              "      <td>...</td>\n",
              "      <td>...</td>\n",
              "      <td>...</td>\n",
              "      <td>...</td>\n",
              "      <td>...</td>\n",
              "    </tr>\n",
              "    <tr>\n",
              "      <th>2020-08-31</th>\n",
              "      <td>71600.0</td>\n",
              "      <td>70300.0</td>\n",
              "      <td>71600.0</td>\n",
              "      <td>70300.0</td>\n",
              "      <td>348867.0</td>\n",
              "      <td>70300.0</td>\n",
              "    </tr>\n",
              "    <tr>\n",
              "      <th>2020-09-01</th>\n",
              "      <td>73400.0</td>\n",
              "      <td>70300.0</td>\n",
              "      <td>70700.0</td>\n",
              "      <td>72500.0</td>\n",
              "      <td>696976.0</td>\n",
              "      <td>72500.0</td>\n",
              "    </tr>\n",
              "    <tr>\n",
              "      <th>2020-09-02</th>\n",
              "      <td>77000.0</td>\n",
              "      <td>73600.0</td>\n",
              "      <td>73700.0</td>\n",
              "      <td>75800.0</td>\n",
              "      <td>1333521.0</td>\n",
              "      <td>75800.0</td>\n",
              "    </tr>\n",
              "    <tr>\n",
              "      <th>2020-09-03</th>\n",
              "      <td>77800.0</td>\n",
              "      <td>75100.0</td>\n",
              "      <td>76700.0</td>\n",
              "      <td>75300.0</td>\n",
              "      <td>1086752.0</td>\n",
              "      <td>75300.0</td>\n",
              "    </tr>\n",
              "    <tr>\n",
              "      <th>2020-09-04</th>\n",
              "      <td>75300.0</td>\n",
              "      <td>73500.0</td>\n",
              "      <td>73900.0</td>\n",
              "      <td>74600.0</td>\n",
              "      <td>596400.0</td>\n",
              "      <td>74600.0</td>\n",
              "    </tr>\n",
              "  </tbody>\n",
              "</table>\n",
              "<p>231 rows × 6 columns</p>\n",
              "</div>"
            ],
            "text/plain": [
              "               High      Low     Open    Close     Volume  Adj Close\n",
              "Date                                                                \n",
              "2019-10-01  86000.0  82100.0  85800.0  82500.0   653709.0    82500.0\n",
              "2019-10-02  82900.0  80700.0  82700.0  81000.0   541381.0    81000.0\n",
              "2019-10-04  81500.0  79200.0  81000.0  79800.0   435223.0    79800.0\n",
              "2019-10-07  81500.0  79800.0  80400.0  80200.0   236583.0    80200.0\n",
              "2019-10-08  81300.0  80200.0  80400.0  80800.0   266694.0    80800.0\n",
              "...             ...      ...      ...      ...        ...        ...\n",
              "2020-08-31  71600.0  70300.0  71600.0  70300.0   348867.0    70300.0\n",
              "2020-09-01  73400.0  70300.0  70700.0  72500.0   696976.0    72500.0\n",
              "2020-09-02  77000.0  73600.0  73700.0  75800.0  1333521.0    75800.0\n",
              "2020-09-03  77800.0  75100.0  76700.0  75300.0  1086752.0    75300.0\n",
              "2020-09-04  75300.0  73500.0  73900.0  74600.0   596400.0    74600.0\n",
              "\n",
              "[231 rows x 6 columns]"
            ]
          },
          "metadata": {
            "tags": []
          },
          "execution_count": 20
        }
      ]
    },
    {
      "cell_type": "code",
      "metadata": {
        "id": "vDlN3M1atSn_",
        "colab_type": "code",
        "colab": {}
      },
      "source": [
        ""
      ],
      "execution_count": 20,
      "outputs": []
    },
    {
      "cell_type": "code",
      "metadata": {
        "id": "BaXas74GtWZF",
        "colab_type": "code",
        "colab": {
          "base_uri": "https://localhost:8080/",
          "height": 450
        },
        "outputId": "5b169dcc-6a4e-4c44-ae89-64d46264c209"
      },
      "source": [
        "data2"
      ],
      "execution_count": 21,
      "outputs": [
        {
          "output_type": "execute_result",
          "data": {
            "text/html": [
              "<div>\n",
              "<style scoped>\n",
              "    .dataframe tbody tr th:only-of-type {\n",
              "        vertical-align: middle;\n",
              "    }\n",
              "\n",
              "    .dataframe tbody tr th {\n",
              "        vertical-align: top;\n",
              "    }\n",
              "\n",
              "    .dataframe thead th {\n",
              "        text-align: right;\n",
              "    }\n",
              "</style>\n",
              "<table border=\"1\" class=\"dataframe\">\n",
              "  <thead>\n",
              "    <tr style=\"text-align: right;\">\n",
              "      <th></th>\n",
              "      <th>High</th>\n",
              "      <th>Low</th>\n",
              "      <th>Open</th>\n",
              "      <th>Close</th>\n",
              "      <th>Volume</th>\n",
              "      <th>Adj Close</th>\n",
              "    </tr>\n",
              "    <tr>\n",
              "      <th>Date</th>\n",
              "      <th></th>\n",
              "      <th></th>\n",
              "      <th></th>\n",
              "      <th></th>\n",
              "      <th></th>\n",
              "      <th></th>\n",
              "    </tr>\n",
              "  </thead>\n",
              "  <tbody>\n",
              "    <tr>\n",
              "      <th>2019-10-01</th>\n",
              "      <td>86000.0</td>\n",
              "      <td>82100.0</td>\n",
              "      <td>85800.0</td>\n",
              "      <td>82500.0</td>\n",
              "      <td>653709.0</td>\n",
              "      <td>82500.0</td>\n",
              "    </tr>\n",
              "    <tr>\n",
              "      <th>2019-10-02</th>\n",
              "      <td>82900.0</td>\n",
              "      <td>80700.0</td>\n",
              "      <td>82700.0</td>\n",
              "      <td>81000.0</td>\n",
              "      <td>541381.0</td>\n",
              "      <td>81000.0</td>\n",
              "    </tr>\n",
              "    <tr>\n",
              "      <th>2019-10-04</th>\n",
              "      <td>81500.0</td>\n",
              "      <td>79200.0</td>\n",
              "      <td>81000.0</td>\n",
              "      <td>79800.0</td>\n",
              "      <td>435223.0</td>\n",
              "      <td>79800.0</td>\n",
              "    </tr>\n",
              "    <tr>\n",
              "      <th>2019-10-07</th>\n",
              "      <td>81500.0</td>\n",
              "      <td>79800.0</td>\n",
              "      <td>80400.0</td>\n",
              "      <td>80200.0</td>\n",
              "      <td>236583.0</td>\n",
              "      <td>80200.0</td>\n",
              "    </tr>\n",
              "    <tr>\n",
              "      <th>2019-10-08</th>\n",
              "      <td>81300.0</td>\n",
              "      <td>80200.0</td>\n",
              "      <td>80400.0</td>\n",
              "      <td>80800.0</td>\n",
              "      <td>266694.0</td>\n",
              "      <td>80800.0</td>\n",
              "    </tr>\n",
              "    <tr>\n",
              "      <th>...</th>\n",
              "      <td>...</td>\n",
              "      <td>...</td>\n",
              "      <td>...</td>\n",
              "      <td>...</td>\n",
              "      <td>...</td>\n",
              "      <td>...</td>\n",
              "    </tr>\n",
              "    <tr>\n",
              "      <th>2020-08-31</th>\n",
              "      <td>71600.0</td>\n",
              "      <td>70300.0</td>\n",
              "      <td>71600.0</td>\n",
              "      <td>70300.0</td>\n",
              "      <td>348867.0</td>\n",
              "      <td>70300.0</td>\n",
              "    </tr>\n",
              "    <tr>\n",
              "      <th>2020-09-01</th>\n",
              "      <td>73400.0</td>\n",
              "      <td>70300.0</td>\n",
              "      <td>70700.0</td>\n",
              "      <td>72500.0</td>\n",
              "      <td>696976.0</td>\n",
              "      <td>72500.0</td>\n",
              "    </tr>\n",
              "    <tr>\n",
              "      <th>2020-09-02</th>\n",
              "      <td>77000.0</td>\n",
              "      <td>73600.0</td>\n",
              "      <td>73700.0</td>\n",
              "      <td>75800.0</td>\n",
              "      <td>1333521.0</td>\n",
              "      <td>75800.0</td>\n",
              "    </tr>\n",
              "    <tr>\n",
              "      <th>2020-09-03</th>\n",
              "      <td>77800.0</td>\n",
              "      <td>75100.0</td>\n",
              "      <td>76700.0</td>\n",
              "      <td>75300.0</td>\n",
              "      <td>1086752.0</td>\n",
              "      <td>75300.0</td>\n",
              "    </tr>\n",
              "    <tr>\n",
              "      <th>2020-09-04</th>\n",
              "      <td>75300.0</td>\n",
              "      <td>73500.0</td>\n",
              "      <td>73900.0</td>\n",
              "      <td>74600.0</td>\n",
              "      <td>596400.0</td>\n",
              "      <td>74600.0</td>\n",
              "    </tr>\n",
              "  </tbody>\n",
              "</table>\n",
              "<p>231 rows × 6 columns</p>\n",
              "</div>"
            ],
            "text/plain": [
              "               High      Low     Open    Close     Volume  Adj Close\n",
              "Date                                                                \n",
              "2019-10-01  86000.0  82100.0  85800.0  82500.0   653709.0    82500.0\n",
              "2019-10-02  82900.0  80700.0  82700.0  81000.0   541381.0    81000.0\n",
              "2019-10-04  81500.0  79200.0  81000.0  79800.0   435223.0    79800.0\n",
              "2019-10-07  81500.0  79800.0  80400.0  80200.0   236583.0    80200.0\n",
              "2019-10-08  81300.0  80200.0  80400.0  80800.0   266694.0    80800.0\n",
              "...             ...      ...      ...      ...        ...        ...\n",
              "2020-08-31  71600.0  70300.0  71600.0  70300.0   348867.0    70300.0\n",
              "2020-09-01  73400.0  70300.0  70700.0  72500.0   696976.0    72500.0\n",
              "2020-09-02  77000.0  73600.0  73700.0  75800.0  1333521.0    75800.0\n",
              "2020-09-03  77800.0  75100.0  76700.0  75300.0  1086752.0    75300.0\n",
              "2020-09-04  75300.0  73500.0  73900.0  74600.0   596400.0    74600.0\n",
              "\n",
              "[231 rows x 6 columns]"
            ]
          },
          "metadata": {
            "tags": []
          },
          "execution_count": 21
        }
      ]
    },
    {
      "cell_type": "code",
      "metadata": {
        "id": "X9m1XUWjYYDH",
        "colab_type": "code",
        "colab": {}
      },
      "source": [
        "data_1 = pd.DataFrame(data1['일일확진자수'])"
      ],
      "execution_count": 22,
      "outputs": []
    },
    {
      "cell_type": "code",
      "metadata": {
        "id": "dStDl13gYZ0v",
        "colab_type": "code",
        "colab": {}
      },
      "source": [
        "data_close = pd.DataFrame(data2['Close'])"
      ],
      "execution_count": 23,
      "outputs": []
    },
    {
      "cell_type": "code",
      "metadata": {
        "id": "xivdvBHJYfGX",
        "colab_type": "code",
        "colab": {}
      },
      "source": [
        "result2 = pd.concat([data_1, data_close], axis=1)"
      ],
      "execution_count": 24,
      "outputs": []
    },
    {
      "cell_type": "code",
      "metadata": {
        "id": "2oqWOsQhYfwv",
        "colab_type": "code",
        "colab": {
          "base_uri": "https://localhost:8080/",
          "height": 419
        },
        "outputId": "d9ec1afd-f940-4ca2-866d-19621dc4525d"
      },
      "source": [
        "result2"
      ],
      "execution_count": 25,
      "outputs": [
        {
          "output_type": "execute_result",
          "data": {
            "text/html": [
              "<div>\n",
              "<style scoped>\n",
              "    .dataframe tbody tr th:only-of-type {\n",
              "        vertical-align: middle;\n",
              "    }\n",
              "\n",
              "    .dataframe tbody tr th {\n",
              "        vertical-align: top;\n",
              "    }\n",
              "\n",
              "    .dataframe thead th {\n",
              "        text-align: right;\n",
              "    }\n",
              "</style>\n",
              "<table border=\"1\" class=\"dataframe\">\n",
              "  <thead>\n",
              "    <tr style=\"text-align: right;\">\n",
              "      <th></th>\n",
              "      <th>일일확진자수</th>\n",
              "      <th>Close</th>\n",
              "    </tr>\n",
              "  </thead>\n",
              "  <tbody>\n",
              "    <tr>\n",
              "      <th>2019-10-01</th>\n",
              "      <td>0</td>\n",
              "      <td>82500.0</td>\n",
              "    </tr>\n",
              "    <tr>\n",
              "      <th>2019-10-02</th>\n",
              "      <td>0</td>\n",
              "      <td>81000.0</td>\n",
              "    </tr>\n",
              "    <tr>\n",
              "      <th>2019-10-03</th>\n",
              "      <td>0</td>\n",
              "      <td>NaN</td>\n",
              "    </tr>\n",
              "    <tr>\n",
              "      <th>2019-10-04</th>\n",
              "      <td>0</td>\n",
              "      <td>79800.0</td>\n",
              "    </tr>\n",
              "    <tr>\n",
              "      <th>2019-10-05</th>\n",
              "      <td>0</td>\n",
              "      <td>NaN</td>\n",
              "    </tr>\n",
              "    <tr>\n",
              "      <th>...</th>\n",
              "      <td>...</td>\n",
              "      <td>...</td>\n",
              "    </tr>\n",
              "    <tr>\n",
              "      <th>2020-09-01</th>\n",
              "      <td>235</td>\n",
              "      <td>72500.0</td>\n",
              "    </tr>\n",
              "    <tr>\n",
              "      <th>2020-09-02</th>\n",
              "      <td>267</td>\n",
              "      <td>75800.0</td>\n",
              "    </tr>\n",
              "    <tr>\n",
              "      <th>2020-09-03</th>\n",
              "      <td>195</td>\n",
              "      <td>75300.0</td>\n",
              "    </tr>\n",
              "    <tr>\n",
              "      <th>2020-09-04</th>\n",
              "      <td>198</td>\n",
              "      <td>74600.0</td>\n",
              "    </tr>\n",
              "    <tr>\n",
              "      <th>2020-09-05</th>\n",
              "      <td>168</td>\n",
              "      <td>NaN</td>\n",
              "    </tr>\n",
              "  </tbody>\n",
              "</table>\n",
              "<p>341 rows × 2 columns</p>\n",
              "</div>"
            ],
            "text/plain": [
              "            일일확진자수    Close\n",
              "2019-10-01       0  82500.0\n",
              "2019-10-02       0  81000.0\n",
              "2019-10-03       0      NaN\n",
              "2019-10-04       0  79800.0\n",
              "2019-10-05       0      NaN\n",
              "...            ...      ...\n",
              "2020-09-01     235  72500.0\n",
              "2020-09-02     267  75800.0\n",
              "2020-09-03     195  75300.0\n",
              "2020-09-04     198  74600.0\n",
              "2020-09-05     168      NaN\n",
              "\n",
              "[341 rows x 2 columns]"
            ]
          },
          "metadata": {
            "tags": []
          },
          "execution_count": 25
        }
      ]
    },
    {
      "cell_type": "code",
      "metadata": {
        "id": "6l0FStZJYhdX",
        "colab_type": "code",
        "colab": {}
      },
      "source": [
        "result2_na = result2.dropna(axis=0) # na 있는 행 제거"
      ],
      "execution_count": 26,
      "outputs": []
    },
    {
      "cell_type": "code",
      "metadata": {
        "id": "B_59FKJGYiwn",
        "colab_type": "code",
        "colab": {
          "base_uri": "https://localhost:8080/",
          "height": 419
        },
        "outputId": "c4edff06-4e44-496b-c58e-f89a8c19d7f3"
      },
      "source": [
        "result2_na"
      ],
      "execution_count": 27,
      "outputs": [
        {
          "output_type": "execute_result",
          "data": {
            "text/html": [
              "<div>\n",
              "<style scoped>\n",
              "    .dataframe tbody tr th:only-of-type {\n",
              "        vertical-align: middle;\n",
              "    }\n",
              "\n",
              "    .dataframe tbody tr th {\n",
              "        vertical-align: top;\n",
              "    }\n",
              "\n",
              "    .dataframe thead th {\n",
              "        text-align: right;\n",
              "    }\n",
              "</style>\n",
              "<table border=\"1\" class=\"dataframe\">\n",
              "  <thead>\n",
              "    <tr style=\"text-align: right;\">\n",
              "      <th></th>\n",
              "      <th>일일확진자수</th>\n",
              "      <th>Close</th>\n",
              "    </tr>\n",
              "  </thead>\n",
              "  <tbody>\n",
              "    <tr>\n",
              "      <th>2019-10-01</th>\n",
              "      <td>0</td>\n",
              "      <td>82500.0</td>\n",
              "    </tr>\n",
              "    <tr>\n",
              "      <th>2019-10-02</th>\n",
              "      <td>0</td>\n",
              "      <td>81000.0</td>\n",
              "    </tr>\n",
              "    <tr>\n",
              "      <th>2019-10-04</th>\n",
              "      <td>0</td>\n",
              "      <td>79800.0</td>\n",
              "    </tr>\n",
              "    <tr>\n",
              "      <th>2019-10-07</th>\n",
              "      <td>0</td>\n",
              "      <td>80200.0</td>\n",
              "    </tr>\n",
              "    <tr>\n",
              "      <th>2019-10-08</th>\n",
              "      <td>0</td>\n",
              "      <td>80800.0</td>\n",
              "    </tr>\n",
              "    <tr>\n",
              "      <th>...</th>\n",
              "      <td>...</td>\n",
              "      <td>...</td>\n",
              "    </tr>\n",
              "    <tr>\n",
              "      <th>2020-08-31</th>\n",
              "      <td>248</td>\n",
              "      <td>70300.0</td>\n",
              "    </tr>\n",
              "    <tr>\n",
              "      <th>2020-09-01</th>\n",
              "      <td>235</td>\n",
              "      <td>72500.0</td>\n",
              "    </tr>\n",
              "    <tr>\n",
              "      <th>2020-09-02</th>\n",
              "      <td>267</td>\n",
              "      <td>75800.0</td>\n",
              "    </tr>\n",
              "    <tr>\n",
              "      <th>2020-09-03</th>\n",
              "      <td>195</td>\n",
              "      <td>75300.0</td>\n",
              "    </tr>\n",
              "    <tr>\n",
              "      <th>2020-09-04</th>\n",
              "      <td>198</td>\n",
              "      <td>74600.0</td>\n",
              "    </tr>\n",
              "  </tbody>\n",
              "</table>\n",
              "<p>231 rows × 2 columns</p>\n",
              "</div>"
            ],
            "text/plain": [
              "            일일확진자수    Close\n",
              "2019-10-01       0  82500.0\n",
              "2019-10-02       0  81000.0\n",
              "2019-10-04       0  79800.0\n",
              "2019-10-07       0  80200.0\n",
              "2019-10-08       0  80800.0\n",
              "...            ...      ...\n",
              "2020-08-31     248  70300.0\n",
              "2020-09-01     235  72500.0\n",
              "2020-09-02     267  75800.0\n",
              "2020-09-03     195  75300.0\n",
              "2020-09-04     198  74600.0\n",
              "\n",
              "[231 rows x 2 columns]"
            ]
          },
          "metadata": {
            "tags": []
          },
          "execution_count": 27
        }
      ]
    },
    {
      "cell_type": "code",
      "metadata": {
        "id": "QzvpKngPaJLJ",
        "colab_type": "code",
        "colab": {}
      },
      "source": [
        "X = result2_na[['일일확진자수']]\n",
        "Y = result2_na[['Close']]"
      ],
      "execution_count": 28,
      "outputs": []
    },
    {
      "cell_type": "code",
      "metadata": {
        "id": "jKkHzQI-Yjz3",
        "colab_type": "code",
        "colab": {}
      },
      "source": [
        "# 스케일링, 데이터가 부족해서 train, test set 나누지 않았음.\n",
        "from sklearn.preprocessing import RobustScaler\n",
        "scaler = RobustScaler()\n",
        "scaler.fit(X)\n",
        "scaler.fit(Y)\n",
        "X = scaler.fit_transform(X)\n",
        "Y = scaler.fit_transform(Y)"
      ],
      "execution_count": 29,
      "outputs": []
    },
    {
      "cell_type": "code",
      "metadata": {
        "id": "tDlIFceDbCIO",
        "colab_type": "code",
        "colab": {}
      },
      "source": [
        "# 모델링\n",
        "import numpy as np\n",
        "from sklearn.linear_model import LinearRegression"
      ],
      "execution_count": 30,
      "outputs": []
    },
    {
      "cell_type": "code",
      "metadata": {
        "id": "_ks8vQNScaBj",
        "colab_type": "code",
        "colab": {}
      },
      "source": [
        "model = LinearRegression()"
      ],
      "execution_count": 31,
      "outputs": []
    },
    {
      "cell_type": "code",
      "metadata": {
        "id": "21YC5IMqcq1O",
        "colab_type": "code",
        "colab": {}
      },
      "source": [
        "# 학습과 예측\n",
        "model.fit(X, Y)\n",
        "model.predict(X)\n",
        "Y_pred = model.predict(X)\n",
        "\n"
      ],
      "execution_count": 32,
      "outputs": []
    },
    {
      "cell_type": "code",
      "metadata": {
        "id": "UXHbHmIsemzR",
        "colab_type": "code",
        "colab": {
          "base_uri": "https://localhost:8080/",
          "height": 107
        },
        "outputId": "f03009ae-b190-40df-a17a-d4c11b7c44d1"
      },
      "source": [
        "# 시각화\n",
        "import matplotlib as mpl\n",
        "import matplotlib.pyplot as plt\n",
        "\n",
        "\n",
        "# 한글\n",
        "%config InlineBackend.figure_format = 'retina'\n",
        " \n",
        "!apt -qq -y install fonts-nanum\n",
        " \n",
        "import matplotlib.font_manager as fm\n",
        "fontpath = '/usr/share/fonts/truetype/nanum/NanumBarunGothic.ttf'\n",
        "font = fm.FontProperties(fname=fontpath, size=9)\n",
        "plt.rc('font', family='NanumBarunGothic') \n",
        "mpl.font_manager._rebuild()"
      ],
      "execution_count": 33,
      "outputs": [
        {
          "output_type": "stream",
          "text": [
            "fonts-nanum is already the newest version (20170925-1).\n",
            "The following package was automatically installed and is no longer required:\n",
            "  libnvidia-common-440\n",
            "Use 'apt autoremove' to remove it.\n",
            "0 upgraded, 0 newly installed, 0 to remove and 39 not upgraded.\n"
          ],
          "name": "stdout"
        }
      ]
    },
    {
      "cell_type": "code",
      "metadata": {
        "id": "dF43itKFdJgN",
        "colab_type": "code",
        "colab": {
          "base_uri": "https://localhost:8080/",
          "height": 695
        },
        "outputId": "76da7595-0110-49bc-b817-34772de0ea68"
      },
      "source": [
        "# 시각화\n",
        "plt.rcParams[\"figure.figsize\"] = (15,10)\n",
        "plt.scatter(X, Y, c=\"darkorange\")\n",
        "plt.plot(X, Y_pred, label=\"linear\", linewidth=2)\n",
        "plt.title('호텔신라 회귀분석')\n",
        "plt.xlabel('일일확진자수')\n",
        "plt.ylabel('종가')\n",
        "plt.show()\n"
      ],
      "execution_count": 34,
      "outputs": [
        {
          "output_type": "stream",
          "text": [
            "/usr/local/lib/python3.6/dist-packages/matplotlib/backends/backend_agg.py:214: RuntimeWarning: Glyph 8722 missing from current font.\n",
            "  font.set_text(s, 0.0, flags=flags)\n",
            "/usr/local/lib/python3.6/dist-packages/matplotlib/backends/backend_agg.py:183: RuntimeWarning: Glyph 8722 missing from current font.\n",
            "  font.set_text(s, 0, flags=flags)\n"
          ],
          "name": "stderr"
        },
        {
          "output_type": "display_data",
          "data": {
            "image/png": "[encoded data removed]",
            "text/plain": [
              "<Figure size 1080x720 with 1 Axes>"
            ]
          },
          "metadata": {
            "tags": [],
            "image/png": {
              "width": 890,
              "height": 606
            },
            "needs_background": "light"
          }
        }
      ]
    },
    {
      "cell_type": "code",
      "metadata": {
        "id": "bapAwoqPv4QT",
        "colab_type": "code",
        "colab": {}
      },
      "source": [
        ""
      ],
      "execution_count": 34,
      "outputs": []
    },
    {
      "cell_type": "code",
      "metadata": {
        "id": "0OcmPHTr06W7",
        "colab_type": "code",
        "colab": {}
      },
      "source": [
        ""
      ],
      "execution_count": 34,
      "outputs": []
    }
  ]
}