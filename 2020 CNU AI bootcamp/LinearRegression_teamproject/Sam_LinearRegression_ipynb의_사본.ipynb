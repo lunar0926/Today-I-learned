{
  "nbformat": 4,
  "nbformat_minor": 0,
  "metadata": {
    "colab": {
      "name": "Sam_LinearRegression.ipynb의 사본",
      "provenance": []
    },
    "kernelspec": {
      "name": "python3",
      "display_name": "Python 3"
    }
  },
  "cells": [
    {
      "cell_type": "code",
      "metadata": {
        "id": "1kZpPxV7qkly",
        "colab_type": "code",
        "colab": {}
      },
      "source": [
        "import pandas as pd"
      ],
      "execution_count": 1,
      "outputs": []
    },
    {
      "cell_type": "code",
      "metadata": {
        "id": "HC-eQ0DkqoYb",
        "colab_type": "code",
        "colab": {
          "base_uri": "https://localhost:8080/",
          "height": 53
        },
        "outputId": "0a2f27b8-466f-4b1c-9858-2123478b2857"
      },
      "source": [
        "import pandas_datareader.data as dr"
      ],
      "execution_count": 2,
      "outputs": [
        {
          "output_type": "stream",
          "text": [
            "/usr/local/lib/python3.6/dist-packages/pandas_datareader/compat/__init__.py:7: FutureWarning: pandas.util.testing is deprecated. Use the functions in the public API at pandas.testing instead.\n",
            "  from pandas.util.testing import assert_frame_equal\n"
          ],
          "name": "stderr"
        }
      ]
    },
    {
      "cell_type": "code",
      "metadata": {
        "id": "Nt6Lvqm5q9vm",
        "colab_type": "code",
        "colab": {}
      },
      "source": [
        "import datetime"
      ],
      "execution_count": 3,
      "outputs": []
    },
    {
      "cell_type": "code",
      "metadata": {
        "id": "G5WWEwniq-t1",
        "colab_type": "code",
        "colab": {}
      },
      "source": [
        "start = datetime.datetime(2019,10,1)"
      ],
      "execution_count": 4,
      "outputs": []
    },
    {
      "cell_type": "code",
      "metadata": {
        "id": "12C2BZM2q_nu",
        "colab_type": "code",
        "colab": {}
      },
      "source": [
        "end = datetime.datetime(2020,9,5)"
      ],
      "execution_count": 5,
      "outputs": []
    },
    {
      "cell_type": "code",
      "metadata": {
        "id": "HI4ilgkgrAsV",
        "colab_type": "code",
        "colab": {}
      },
      "source": [
        "sam = dr.DataReader('005930.KS', 'yahoo',start, end)"
      ],
      "execution_count": 6,
      "outputs": []
    },
    {
      "cell_type": "code",
      "metadata": {
        "id": "HEH-siLKrBt2",
        "colab_type": "code",
        "colab": {
          "base_uri": "https://localhost:8080/",
          "height": 450
        },
        "outputId": "47e99759-55da-442f-e769-48f2d944726c"
      },
      "source": [
        "sam"
      ],
      "execution_count": 7,
      "outputs": [
        {
          "output_type": "execute_result",
          "data": {
            "text/html": [
              "<div>\n",
              "<style scoped>\n",
              "    .dataframe tbody tr th:only-of-type {\n",
              "        vertical-align: middle;\n",
              "    }\n",
              "\n",
              "    .dataframe tbody tr th {\n",
              "        vertical-align: top;\n",
              "    }\n",
              "\n",
              "    .dataframe thead th {\n",
              "        text-align: right;\n",
              "    }\n",
              "</style>\n",
              "<table border=\"1\" class=\"dataframe\">\n",
              "  <thead>\n",
              "    <tr style=\"text-align: right;\">\n",
              "      <th></th>\n",
              "      <th>High</th>\n",
              "      <th>Low</th>\n",
              "      <th>Open</th>\n",
              "      <th>Close</th>\n",
              "      <th>Volume</th>\n",
              "      <th>Adj Close</th>\n",
              "    </tr>\n",
              "    <tr>\n",
              "      <th>Date</th>\n",
              "      <th></th>\n",
              "      <th></th>\n",
              "      <th></th>\n",
              "      <th></th>\n",
              "      <th></th>\n",
              "      <th></th>\n",
              "    </tr>\n",
              "  </thead>\n",
              "  <tbody>\n",
              "    <tr>\n",
              "      <th>2019-10-01</th>\n",
              "      <td>49100.0</td>\n",
              "      <td>48650.0</td>\n",
              "      <td>48900.0</td>\n",
              "      <td>48850.0</td>\n",
              "      <td>6206035.0</td>\n",
              "      <td>48850.0</td>\n",
              "    </tr>\n",
              "    <tr>\n",
              "      <th>2019-10-02</th>\n",
              "      <td>48400.0</td>\n",
              "      <td>47600.0</td>\n",
              "      <td>48350.0</td>\n",
              "      <td>47600.0</td>\n",
              "      <td>8382463.0</td>\n",
              "      <td>47600.0</td>\n",
              "    </tr>\n",
              "    <tr>\n",
              "      <th>2019-10-04</th>\n",
              "      <td>48650.0</td>\n",
              "      <td>47350.0</td>\n",
              "      <td>47400.0</td>\n",
              "      <td>48000.0</td>\n",
              "      <td>9331695.0</td>\n",
              "      <td>48000.0</td>\n",
              "    </tr>\n",
              "    <tr>\n",
              "      <th>2019-10-07</th>\n",
              "      <td>48700.0</td>\n",
              "      <td>47650.0</td>\n",
              "      <td>48350.0</td>\n",
              "      <td>47750.0</td>\n",
              "      <td>7047273.0</td>\n",
              "      <td>47750.0</td>\n",
              "    </tr>\n",
              "    <tr>\n",
              "      <th>2019-10-08</th>\n",
              "      <td>49000.0</td>\n",
              "      <td>47600.0</td>\n",
              "      <td>47900.0</td>\n",
              "      <td>48900.0</td>\n",
              "      <td>14239367.0</td>\n",
              "      <td>48900.0</td>\n",
              "    </tr>\n",
              "    <tr>\n",
              "      <th>...</th>\n",
              "      <td>...</td>\n",
              "      <td>...</td>\n",
              "      <td>...</td>\n",
              "      <td>...</td>\n",
              "      <td>...</td>\n",
              "      <td>...</td>\n",
              "    </tr>\n",
              "    <tr>\n",
              "      <th>2020-08-31</th>\n",
              "      <td>56100.0</td>\n",
              "      <td>54000.0</td>\n",
              "      <td>56000.0</td>\n",
              "      <td>54000.0</td>\n",
              "      <td>32671367.0</td>\n",
              "      <td>54000.0</td>\n",
              "    </tr>\n",
              "    <tr>\n",
              "      <th>2020-09-01</th>\n",
              "      <td>54800.0</td>\n",
              "      <td>54100.0</td>\n",
              "      <td>54100.0</td>\n",
              "      <td>54200.0</td>\n",
              "      <td>19363117.0</td>\n",
              "      <td>54200.0</td>\n",
              "    </tr>\n",
              "    <tr>\n",
              "      <th>2020-09-02</th>\n",
              "      <td>55100.0</td>\n",
              "      <td>54100.0</td>\n",
              "      <td>54600.0</td>\n",
              "      <td>54400.0</td>\n",
              "      <td>16905723.0</td>\n",
              "      <td>54400.0</td>\n",
              "    </tr>\n",
              "    <tr>\n",
              "      <th>2020-09-03</th>\n",
              "      <td>56700.0</td>\n",
              "      <td>55500.0</td>\n",
              "      <td>55600.0</td>\n",
              "      <td>56400.0</td>\n",
              "      <td>28384920.0</td>\n",
              "      <td>56400.0</td>\n",
              "    </tr>\n",
              "    <tr>\n",
              "      <th>2020-09-04</th>\n",
              "      <td>55800.0</td>\n",
              "      <td>55100.0</td>\n",
              "      <td>55200.0</td>\n",
              "      <td>55600.0</td>\n",
              "      <td>22139109.0</td>\n",
              "      <td>55600.0</td>\n",
              "    </tr>\n",
              "  </tbody>\n",
              "</table>\n",
              "<p>231 rows × 6 columns</p>\n",
              "</div>"
            ],
            "text/plain": [
              "               High      Low     Open    Close      Volume  Adj Close\n",
              "Date                                                                 \n",
              "2019-10-01  49100.0  48650.0  48900.0  48850.0   6206035.0    48850.0\n",
              "2019-10-02  48400.0  47600.0  48350.0  47600.0   8382463.0    47600.0\n",
              "2019-10-04  48650.0  47350.0  47400.0  48000.0   9331695.0    48000.0\n",
              "2019-10-07  48700.0  47650.0  48350.0  47750.0   7047273.0    47750.0\n",
              "2019-10-08  49000.0  47600.0  47900.0  48900.0  14239367.0    48900.0\n",
              "...             ...      ...      ...      ...         ...        ...\n",
              "2020-08-31  56100.0  54000.0  56000.0  54000.0  32671367.0    54000.0\n",
              "2020-09-01  54800.0  54100.0  54100.0  54200.0  19363117.0    54200.0\n",
              "2020-09-02  55100.0  54100.0  54600.0  54400.0  16905723.0    54400.0\n",
              "2020-09-03  56700.0  55500.0  55600.0  56400.0  28384920.0    56400.0\n",
              "2020-09-04  55800.0  55100.0  55200.0  55600.0  22139109.0    55600.0\n",
              "\n",
              "[231 rows x 6 columns]"
            ]
          },
          "metadata": {
            "tags": []
          },
          "execution_count": 7
        }
      ]
    },
    {
      "cell_type": "code",
      "metadata": {
        "id": "B-AlBoLnrC0O",
        "colab_type": "code",
        "colab": {
          "base_uri": "https://localhost:8080/",
          "height": 35
        },
        "outputId": "b473a8a7-79bd-4cd0-922d-2de6f7de9685"
      },
      "source": [
        "sam.shape"
      ],
      "execution_count": 8,
      "outputs": [
        {
          "output_type": "execute_result",
          "data": {
            "text/plain": [
              "(231, 6)"
            ]
          },
          "metadata": {
            "tags": []
          },
          "execution_count": 8
        }
      ]
    },
    {
      "cell_type": "code",
      "metadata": {
        "id": "bi4icpUtrExW",
        "colab_type": "code",
        "colab": {
          "base_uri": "https://localhost:8080/",
          "height": 251
        },
        "outputId": "a8b9c9ee-1f93-46dc-ad18-66e77030c5fc"
      },
      "source": [
        "sam.info()"
      ],
      "execution_count": 9,
      "outputs": [
        {
          "output_type": "stream",
          "text": [
            "<class 'pandas.core.frame.DataFrame'>\n",
            "DatetimeIndex: 231 entries, 2019-10-01 to 2020-09-04\n",
            "Data columns (total 6 columns):\n",
            " #   Column     Non-Null Count  Dtype  \n",
            "---  ------     --------------  -----  \n",
            " 0   High       231 non-null    float64\n",
            " 1   Low        231 non-null    float64\n",
            " 2   Open       231 non-null    float64\n",
            " 3   Close      231 non-null    float64\n",
            " 4   Volume     231 non-null    float64\n",
            " 5   Adj Close  231 non-null    float64\n",
            "dtypes: float64(6)\n",
            "memory usage: 12.6 KB\n"
          ],
          "name": "stdout"
        }
      ]
    },
    {
      "cell_type": "code",
      "metadata": {
        "id": "4_ADTfUXrFp2",
        "colab_type": "code",
        "colab": {
          "base_uri": "https://localhost:8080/",
          "height": 419
        },
        "outputId": "a9bce2fb-7230-46b4-f3b9-8b7a57292811"
      },
      "source": [
        "sam.reset_index()"
      ],
      "execution_count": 10,
      "outputs": [
        {
          "output_type": "execute_result",
          "data": {
            "text/html": [
              "<div>\n",
              "<style scoped>\n",
              "    .dataframe tbody tr th:only-of-type {\n",
              "        vertical-align: middle;\n",
              "    }\n",
              "\n",
              "    .dataframe tbody tr th {\n",
              "        vertical-align: top;\n",
              "    }\n",
              "\n",
              "    .dataframe thead th {\n",
              "        text-align: right;\n",
              "    }\n",
              "</style>\n",
              "<table border=\"1\" class=\"dataframe\">\n",
              "  <thead>\n",
              "    <tr style=\"text-align: right;\">\n",
              "      <th></th>\n",
              "      <th>Date</th>\n",
              "      <th>High</th>\n",
              "      <th>Low</th>\n",
              "      <th>Open</th>\n",
              "      <th>Close</th>\n",
              "      <th>Volume</th>\n",
              "      <th>Adj Close</th>\n",
              "    </tr>\n",
              "  </thead>\n",
              "  <tbody>\n",
              "    <tr>\n",
              "      <th>0</th>\n",
              "      <td>2019-10-01</td>\n",
              "      <td>49100.0</td>\n",
              "      <td>48650.0</td>\n",
              "      <td>48900.0</td>\n",
              "      <td>48850.0</td>\n",
              "      <td>6206035.0</td>\n",
              "      <td>48850.0</td>\n",
              "    </tr>\n",
              "    <tr>\n",
              "      <th>1</th>\n",
              "      <td>2019-10-02</td>\n",
              "      <td>48400.0</td>\n",
              "      <td>47600.0</td>\n",
              "      <td>48350.0</td>\n",
              "      <td>47600.0</td>\n",
              "      <td>8382463.0</td>\n",
              "      <td>47600.0</td>\n",
              "    </tr>\n",
              "    <tr>\n",
              "      <th>2</th>\n",
              "      <td>2019-10-04</td>\n",
              "      <td>48650.0</td>\n",
              "      <td>47350.0</td>\n",
              "      <td>47400.0</td>\n",
              "      <td>48000.0</td>\n",
              "      <td>9331695.0</td>\n",
              "      <td>48000.0</td>\n",
              "    </tr>\n",
              "    <tr>\n",
              "      <th>3</th>\n",
              "      <td>2019-10-07</td>\n",
              "      <td>48700.0</td>\n",
              "      <td>47650.0</td>\n",
              "      <td>48350.0</td>\n",
              "      <td>47750.0</td>\n",
              "      <td>7047273.0</td>\n",
              "      <td>47750.0</td>\n",
              "    </tr>\n",
              "    <tr>\n",
              "      <th>4</th>\n",
              "      <td>2019-10-08</td>\n",
              "      <td>49000.0</td>\n",
              "      <td>47600.0</td>\n",
              "      <td>47900.0</td>\n",
              "      <td>48900.0</td>\n",
              "      <td>14239367.0</td>\n",
              "      <td>48900.0</td>\n",
              "    </tr>\n",
              "    <tr>\n",
              "      <th>...</th>\n",
              "      <td>...</td>\n",
              "      <td>...</td>\n",
              "      <td>...</td>\n",
              "      <td>...</td>\n",
              "      <td>...</td>\n",
              "      <td>...</td>\n",
              "      <td>...</td>\n",
              "    </tr>\n",
              "    <tr>\n",
              "      <th>226</th>\n",
              "      <td>2020-08-31</td>\n",
              "      <td>56100.0</td>\n",
              "      <td>54000.0</td>\n",
              "      <td>56000.0</td>\n",
              "      <td>54000.0</td>\n",
              "      <td>32671367.0</td>\n",
              "      <td>54000.0</td>\n",
              "    </tr>\n",
              "    <tr>\n",
              "      <th>227</th>\n",
              "      <td>2020-09-01</td>\n",
              "      <td>54800.0</td>\n",
              "      <td>54100.0</td>\n",
              "      <td>54100.0</td>\n",
              "      <td>54200.0</td>\n",
              "      <td>19363117.0</td>\n",
              "      <td>54200.0</td>\n",
              "    </tr>\n",
              "    <tr>\n",
              "      <th>228</th>\n",
              "      <td>2020-09-02</td>\n",
              "      <td>55100.0</td>\n",
              "      <td>54100.0</td>\n",
              "      <td>54600.0</td>\n",
              "      <td>54400.0</td>\n",
              "      <td>16905723.0</td>\n",
              "      <td>54400.0</td>\n",
              "    </tr>\n",
              "    <tr>\n",
              "      <th>229</th>\n",
              "      <td>2020-09-03</td>\n",
              "      <td>56700.0</td>\n",
              "      <td>55500.0</td>\n",
              "      <td>55600.0</td>\n",
              "      <td>56400.0</td>\n",
              "      <td>28384920.0</td>\n",
              "      <td>56400.0</td>\n",
              "    </tr>\n",
              "    <tr>\n",
              "      <th>230</th>\n",
              "      <td>2020-09-04</td>\n",
              "      <td>55800.0</td>\n",
              "      <td>55100.0</td>\n",
              "      <td>55200.0</td>\n",
              "      <td>55600.0</td>\n",
              "      <td>22139109.0</td>\n",
              "      <td>55600.0</td>\n",
              "    </tr>\n",
              "  </tbody>\n",
              "</table>\n",
              "<p>231 rows × 7 columns</p>\n",
              "</div>"
            ],
            "text/plain": [
              "          Date     High      Low     Open    Close      Volume  Adj Close\n",
              "0   2019-10-01  49100.0  48650.0  48900.0  48850.0   6206035.0    48850.0\n",
              "1   2019-10-02  48400.0  47600.0  48350.0  47600.0   8382463.0    47600.0\n",
              "2   2019-10-04  48650.0  47350.0  47400.0  48000.0   9331695.0    48000.0\n",
              "3   2019-10-07  48700.0  47650.0  48350.0  47750.0   7047273.0    47750.0\n",
              "4   2019-10-08  49000.0  47600.0  47900.0  48900.0  14239367.0    48900.0\n",
              "..         ...      ...      ...      ...      ...         ...        ...\n",
              "226 2020-08-31  56100.0  54000.0  56000.0  54000.0  32671367.0    54000.0\n",
              "227 2020-09-01  54800.0  54100.0  54100.0  54200.0  19363117.0    54200.0\n",
              "228 2020-09-02  55100.0  54100.0  54600.0  54400.0  16905723.0    54400.0\n",
              "229 2020-09-03  56700.0  55500.0  55600.0  56400.0  28384920.0    56400.0\n",
              "230 2020-09-04  55800.0  55100.0  55200.0  55600.0  22139109.0    55600.0\n",
              "\n",
              "[231 rows x 7 columns]"
            ]
          },
          "metadata": {
            "tags": []
          },
          "execution_count": 10
        }
      ]
    },
    {
      "cell_type": "code",
      "metadata": {
        "id": "nmUjt_pmYLVI",
        "colab_type": "code",
        "colab": {
          "base_uri": "https://localhost:8080/",
          "height": 419
        },
        "outputId": "b6431d39-9ea6-4dd0-80ab-bd566050f58a"
      },
      "source": [
        "# 코로나 확진자\n",
        "pd.read_csv('19_4_1.csv')"
      ],
      "execution_count": 11,
      "outputs": [
        {
          "output_type": "execute_result",
          "data": {
            "text/html": [
              "<div>\n",
              "<style scoped>\n",
              "    .dataframe tbody tr th:only-of-type {\n",
              "        vertical-align: middle;\n",
              "    }\n",
              "\n",
              "    .dataframe tbody tr th {\n",
              "        vertical-align: top;\n",
              "    }\n",
              "\n",
              "    .dataframe thead th {\n",
              "        text-align: right;\n",
              "    }\n",
              "</style>\n",
              "<table border=\"1\" class=\"dataframe\">\n",
              "  <thead>\n",
              "    <tr style=\"text-align: right;\">\n",
              "      <th></th>\n",
              "      <th>Unnamed: 0</th>\n",
              "      <th>날짜</th>\n",
              "      <th>일일확진자수</th>\n",
              "    </tr>\n",
              "  </thead>\n",
              "  <tbody>\n",
              "    <tr>\n",
              "      <th>0</th>\n",
              "      <td>0</td>\n",
              "      <td>2020-09-05</td>\n",
              "      <td>168</td>\n",
              "    </tr>\n",
              "    <tr>\n",
              "      <th>1</th>\n",
              "      <td>1</td>\n",
              "      <td>2020-09-04</td>\n",
              "      <td>198</td>\n",
              "    </tr>\n",
              "    <tr>\n",
              "      <th>2</th>\n",
              "      <td>2</td>\n",
              "      <td>2020-09-03</td>\n",
              "      <td>195</td>\n",
              "    </tr>\n",
              "    <tr>\n",
              "      <th>3</th>\n",
              "      <td>3</td>\n",
              "      <td>2020-09-02</td>\n",
              "      <td>267</td>\n",
              "    </tr>\n",
              "    <tr>\n",
              "      <th>4</th>\n",
              "      <td>4</td>\n",
              "      <td>2020-09-01</td>\n",
              "      <td>235</td>\n",
              "    </tr>\n",
              "    <tr>\n",
              "      <th>...</th>\n",
              "      <td>...</td>\n",
              "      <td>...</td>\n",
              "      <td>...</td>\n",
              "    </tr>\n",
              "    <tr>\n",
              "      <th>336</th>\n",
              "      <td>336</td>\n",
              "      <td>2019-10-05</td>\n",
              "      <td>0</td>\n",
              "    </tr>\n",
              "    <tr>\n",
              "      <th>337</th>\n",
              "      <td>337</td>\n",
              "      <td>2019-10-04</td>\n",
              "      <td>0</td>\n",
              "    </tr>\n",
              "    <tr>\n",
              "      <th>338</th>\n",
              "      <td>338</td>\n",
              "      <td>2019-10-03</td>\n",
              "      <td>0</td>\n",
              "    </tr>\n",
              "    <tr>\n",
              "      <th>339</th>\n",
              "      <td>339</td>\n",
              "      <td>2019-10-02</td>\n",
              "      <td>0</td>\n",
              "    </tr>\n",
              "    <tr>\n",
              "      <th>340</th>\n",
              "      <td>340</td>\n",
              "      <td>2019-10-01</td>\n",
              "      <td>0</td>\n",
              "    </tr>\n",
              "  </tbody>\n",
              "</table>\n",
              "<p>341 rows × 3 columns</p>\n",
              "</div>"
            ],
            "text/plain": [
              "     Unnamed: 0          날짜  일일확진자수\n",
              "0             0  2020-09-05     168\n",
              "1             1  2020-09-04     198\n",
              "2             2  2020-09-03     195\n",
              "3             3  2020-09-02     267\n",
              "4             4  2020-09-01     235\n",
              "..          ...         ...     ...\n",
              "336         336  2019-10-05       0\n",
              "337         337  2019-10-04       0\n",
              "338         338  2019-10-03       0\n",
              "339         339  2019-10-02       0\n",
              "340         340  2019-10-01       0\n",
              "\n",
              "[341 rows x 3 columns]"
            ]
          },
          "metadata": {
            "tags": []
          },
          "execution_count": 11
        }
      ]
    },
    {
      "cell_type": "code",
      "metadata": {
        "id": "qwxJw5vaYN7n",
        "colab_type": "code",
        "colab": {}
      },
      "source": [
        "df1 = pd.read_csv('19_4_1.csv')\n",
        "df1['날짜'] = df1['날짜'].astype('datetime64[ns]')\n",
        "df2 = df1.set_index('날짜')"
      ],
      "execution_count": 12,
      "outputs": []
    },
    {
      "cell_type": "code",
      "metadata": {
        "id": "NoYu8CHEYQjg",
        "colab_type": "code",
        "colab": {
          "base_uri": "https://localhost:8080/",
          "height": 450
        },
        "outputId": "433db2f3-819e-4dde-fc9e-4e2c0ca3f8f2"
      },
      "source": [
        "df2[['일일확진자수']]"
      ],
      "execution_count": 13,
      "outputs": [
        {
          "output_type": "execute_result",
          "data": {
            "text/html": [
              "<div>\n",
              "<style scoped>\n",
              "    .dataframe tbody tr th:only-of-type {\n",
              "        vertical-align: middle;\n",
              "    }\n",
              "\n",
              "    .dataframe tbody tr th {\n",
              "        vertical-align: top;\n",
              "    }\n",
              "\n",
              "    .dataframe thead th {\n",
              "        text-align: right;\n",
              "    }\n",
              "</style>\n",
              "<table border=\"1\" class=\"dataframe\">\n",
              "  <thead>\n",
              "    <tr style=\"text-align: right;\">\n",
              "      <th></th>\n",
              "      <th>일일확진자수</th>\n",
              "    </tr>\n",
              "    <tr>\n",
              "      <th>날짜</th>\n",
              "      <th></th>\n",
              "    </tr>\n",
              "  </thead>\n",
              "  <tbody>\n",
              "    <tr>\n",
              "      <th>2020-09-05</th>\n",
              "      <td>168</td>\n",
              "    </tr>\n",
              "    <tr>\n",
              "      <th>2020-09-04</th>\n",
              "      <td>198</td>\n",
              "    </tr>\n",
              "    <tr>\n",
              "      <th>2020-09-03</th>\n",
              "      <td>195</td>\n",
              "    </tr>\n",
              "    <tr>\n",
              "      <th>2020-09-02</th>\n",
              "      <td>267</td>\n",
              "    </tr>\n",
              "    <tr>\n",
              "      <th>2020-09-01</th>\n",
              "      <td>235</td>\n",
              "    </tr>\n",
              "    <tr>\n",
              "      <th>...</th>\n",
              "      <td>...</td>\n",
              "    </tr>\n",
              "    <tr>\n",
              "      <th>2019-10-05</th>\n",
              "      <td>0</td>\n",
              "    </tr>\n",
              "    <tr>\n",
              "      <th>2019-10-04</th>\n",
              "      <td>0</td>\n",
              "    </tr>\n",
              "    <tr>\n",
              "      <th>2019-10-03</th>\n",
              "      <td>0</td>\n",
              "    </tr>\n",
              "    <tr>\n",
              "      <th>2019-10-02</th>\n",
              "      <td>0</td>\n",
              "    </tr>\n",
              "    <tr>\n",
              "      <th>2019-10-01</th>\n",
              "      <td>0</td>\n",
              "    </tr>\n",
              "  </tbody>\n",
              "</table>\n",
              "<p>341 rows × 1 columns</p>\n",
              "</div>"
            ],
            "text/plain": [
              "            일일확진자수\n",
              "날짜                \n",
              "2020-09-05     168\n",
              "2020-09-04     198\n",
              "2020-09-03     195\n",
              "2020-09-02     267\n",
              "2020-09-01     235\n",
              "...            ...\n",
              "2019-10-05       0\n",
              "2019-10-04       0\n",
              "2019-10-03       0\n",
              "2019-10-02       0\n",
              "2019-10-01       0\n",
              "\n",
              "[341 rows x 1 columns]"
            ]
          },
          "metadata": {
            "tags": []
          },
          "execution_count": 13
        }
      ]
    },
    {
      "cell_type": "code",
      "metadata": {
        "id": "pVnlSgdqqsAx",
        "colab_type": "code",
        "colab": {}
      },
      "source": [
        "data1 = df2[['일일확진자수']]"
      ],
      "execution_count": 14,
      "outputs": []
    },
    {
      "cell_type": "code",
      "metadata": {
        "id": "UduYXYoIYSP3",
        "colab_type": "code",
        "colab": {}
      },
      "source": [
        "data1 = data1.sort_values(by=['날짜'], ascending=[True])"
      ],
      "execution_count": 15,
      "outputs": []
    },
    {
      "cell_type": "code",
      "metadata": {
        "id": "QFYxMQgSYUbY",
        "colab_type": "code",
        "colab": {
          "base_uri": "https://localhost:8080/",
          "height": 450
        },
        "outputId": "63754455-f34f-4129-b4a0-c370dcc0dc04"
      },
      "source": [
        "data1"
      ],
      "execution_count": 16,
      "outputs": [
        {
          "output_type": "execute_result",
          "data": {
            "text/html": [
              "<div>\n",
              "<style scoped>\n",
              "    .dataframe tbody tr th:only-of-type {\n",
              "        vertical-align: middle;\n",
              "    }\n",
              "\n",
              "    .dataframe tbody tr th {\n",
              "        vertical-align: top;\n",
              "    }\n",
              "\n",
              "    .dataframe thead th {\n",
              "        text-align: right;\n",
              "    }\n",
              "</style>\n",
              "<table border=\"1\" class=\"dataframe\">\n",
              "  <thead>\n",
              "    <tr style=\"text-align: right;\">\n",
              "      <th></th>\n",
              "      <th>일일확진자수</th>\n",
              "    </tr>\n",
              "    <tr>\n",
              "      <th>날짜</th>\n",
              "      <th></th>\n",
              "    </tr>\n",
              "  </thead>\n",
              "  <tbody>\n",
              "    <tr>\n",
              "      <th>2019-10-01</th>\n",
              "      <td>0</td>\n",
              "    </tr>\n",
              "    <tr>\n",
              "      <th>2019-10-02</th>\n",
              "      <td>0</td>\n",
              "    </tr>\n",
              "    <tr>\n",
              "      <th>2019-10-03</th>\n",
              "      <td>0</td>\n",
              "    </tr>\n",
              "    <tr>\n",
              "      <th>2019-10-04</th>\n",
              "      <td>0</td>\n",
              "    </tr>\n",
              "    <tr>\n",
              "      <th>2019-10-05</th>\n",
              "      <td>0</td>\n",
              "    </tr>\n",
              "    <tr>\n",
              "      <th>...</th>\n",
              "      <td>...</td>\n",
              "    </tr>\n",
              "    <tr>\n",
              "      <th>2020-09-01</th>\n",
              "      <td>235</td>\n",
              "    </tr>\n",
              "    <tr>\n",
              "      <th>2020-09-02</th>\n",
              "      <td>267</td>\n",
              "    </tr>\n",
              "    <tr>\n",
              "      <th>2020-09-03</th>\n",
              "      <td>195</td>\n",
              "    </tr>\n",
              "    <tr>\n",
              "      <th>2020-09-04</th>\n",
              "      <td>198</td>\n",
              "    </tr>\n",
              "    <tr>\n",
              "      <th>2020-09-05</th>\n",
              "      <td>168</td>\n",
              "    </tr>\n",
              "  </tbody>\n",
              "</table>\n",
              "<p>341 rows × 1 columns</p>\n",
              "</div>"
            ],
            "text/plain": [
              "            일일확진자수\n",
              "날짜                \n",
              "2019-10-01       0\n",
              "2019-10-02       0\n",
              "2019-10-03       0\n",
              "2019-10-04       0\n",
              "2019-10-05       0\n",
              "...            ...\n",
              "2020-09-01     235\n",
              "2020-09-02     267\n",
              "2020-09-03     195\n",
              "2020-09-04     198\n",
              "2020-09-05     168\n",
              "\n",
              "[341 rows x 1 columns]"
            ]
          },
          "metadata": {
            "tags": []
          },
          "execution_count": 16
        }
      ]
    },
    {
      "cell_type": "code",
      "metadata": {
        "id": "wLgCXm_8mEWM",
        "colab_type": "code",
        "colab": {}
      },
      "source": [
        "data1 = pd.DataFrame(data1)"
      ],
      "execution_count": 17,
      "outputs": []
    },
    {
      "cell_type": "code",
      "metadata": {
        "id": "p-wj9l4VrNZb",
        "colab_type": "code",
        "colab": {}
      },
      "source": [
        ""
      ],
      "execution_count": 17,
      "outputs": []
    },
    {
      "cell_type": "code",
      "metadata": {
        "id": "mVrKX2N9tPah",
        "colab_type": "code",
        "colab": {
          "base_uri": "https://localhost:8080/",
          "height": 450
        },
        "outputId": "670efbbb-fe34-4992-be99-ac26068593af"
      },
      "source": [
        "data1"
      ],
      "execution_count": 18,
      "outputs": [
        {
          "output_type": "execute_result",
          "data": {
            "text/html": [
              "<div>\n",
              "<style scoped>\n",
              "    .dataframe tbody tr th:only-of-type {\n",
              "        vertical-align: middle;\n",
              "    }\n",
              "\n",
              "    .dataframe tbody tr th {\n",
              "        vertical-align: top;\n",
              "    }\n",
              "\n",
              "    .dataframe thead th {\n",
              "        text-align: right;\n",
              "    }\n",
              "</style>\n",
              "<table border=\"1\" class=\"dataframe\">\n",
              "  <thead>\n",
              "    <tr style=\"text-align: right;\">\n",
              "      <th></th>\n",
              "      <th>일일확진자수</th>\n",
              "    </tr>\n",
              "    <tr>\n",
              "      <th>날짜</th>\n",
              "      <th></th>\n",
              "    </tr>\n",
              "  </thead>\n",
              "  <tbody>\n",
              "    <tr>\n",
              "      <th>2019-10-01</th>\n",
              "      <td>0</td>\n",
              "    </tr>\n",
              "    <tr>\n",
              "      <th>2019-10-02</th>\n",
              "      <td>0</td>\n",
              "    </tr>\n",
              "    <tr>\n",
              "      <th>2019-10-03</th>\n",
              "      <td>0</td>\n",
              "    </tr>\n",
              "    <tr>\n",
              "      <th>2019-10-04</th>\n",
              "      <td>0</td>\n",
              "    </tr>\n",
              "    <tr>\n",
              "      <th>2019-10-05</th>\n",
              "      <td>0</td>\n",
              "    </tr>\n",
              "    <tr>\n",
              "      <th>...</th>\n",
              "      <td>...</td>\n",
              "    </tr>\n",
              "    <tr>\n",
              "      <th>2020-09-01</th>\n",
              "      <td>235</td>\n",
              "    </tr>\n",
              "    <tr>\n",
              "      <th>2020-09-02</th>\n",
              "      <td>267</td>\n",
              "    </tr>\n",
              "    <tr>\n",
              "      <th>2020-09-03</th>\n",
              "      <td>195</td>\n",
              "    </tr>\n",
              "    <tr>\n",
              "      <th>2020-09-04</th>\n",
              "      <td>198</td>\n",
              "    </tr>\n",
              "    <tr>\n",
              "      <th>2020-09-05</th>\n",
              "      <td>168</td>\n",
              "    </tr>\n",
              "  </tbody>\n",
              "</table>\n",
              "<p>341 rows × 1 columns</p>\n",
              "</div>"
            ],
            "text/plain": [
              "            일일확진자수\n",
              "날짜                \n",
              "2019-10-01       0\n",
              "2019-10-02       0\n",
              "2019-10-03       0\n",
              "2019-10-04       0\n",
              "2019-10-05       0\n",
              "...            ...\n",
              "2020-09-01     235\n",
              "2020-09-02     267\n",
              "2020-09-03     195\n",
              "2020-09-04     198\n",
              "2020-09-05     168\n",
              "\n",
              "[341 rows x 1 columns]"
            ]
          },
          "metadata": {
            "tags": []
          },
          "execution_count": 18
        }
      ]
    },
    {
      "cell_type": "code",
      "metadata": {
        "id": "mOnncEs7YVZA",
        "colab_type": "code",
        "colab": {}
      },
      "source": [
        "data2 = pd.DataFrame(sam)"
      ],
      "execution_count": 19,
      "outputs": []
    },
    {
      "cell_type": "code",
      "metadata": {
        "id": "ttJO_RauYWvI",
        "colab_type": "code",
        "colab": {
          "base_uri": "https://localhost:8080/",
          "height": 450
        },
        "outputId": "4190e5bf-617b-48d9-ce14-3f7c8a92b0a9"
      },
      "source": [
        "data2"
      ],
      "execution_count": 20,
      "outputs": [
        {
          "output_type": "execute_result",
          "data": {
            "text/html": [
              "<div>\n",
              "<style scoped>\n",
              "    .dataframe tbody tr th:only-of-type {\n",
              "        vertical-align: middle;\n",
              "    }\n",
              "\n",
              "    .dataframe tbody tr th {\n",
              "        vertical-align: top;\n",
              "    }\n",
              "\n",
              "    .dataframe thead th {\n",
              "        text-align: right;\n",
              "    }\n",
              "</style>\n",
              "<table border=\"1\" class=\"dataframe\">\n",
              "  <thead>\n",
              "    <tr style=\"text-align: right;\">\n",
              "      <th></th>\n",
              "      <th>High</th>\n",
              "      <th>Low</th>\n",
              "      <th>Open</th>\n",
              "      <th>Close</th>\n",
              "      <th>Volume</th>\n",
              "      <th>Adj Close</th>\n",
              "    </tr>\n",
              "    <tr>\n",
              "      <th>Date</th>\n",
              "      <th></th>\n",
              "      <th></th>\n",
              "      <th></th>\n",
              "      <th></th>\n",
              "      <th></th>\n",
              "      <th></th>\n",
              "    </tr>\n",
              "  </thead>\n",
              "  <tbody>\n",
              "    <tr>\n",
              "      <th>2019-10-01</th>\n",
              "      <td>49100.0</td>\n",
              "      <td>48650.0</td>\n",
              "      <td>48900.0</td>\n",
              "      <td>48850.0</td>\n",
              "      <td>6206035.0</td>\n",
              "      <td>48850.0</td>\n",
              "    </tr>\n",
              "    <tr>\n",
              "      <th>2019-10-02</th>\n",
              "      <td>48400.0</td>\n",
              "      <td>47600.0</td>\n",
              "      <td>48350.0</td>\n",
              "      <td>47600.0</td>\n",
              "      <td>8382463.0</td>\n",
              "      <td>47600.0</td>\n",
              "    </tr>\n",
              "    <tr>\n",
              "      <th>2019-10-04</th>\n",
              "      <td>48650.0</td>\n",
              "      <td>47350.0</td>\n",
              "      <td>47400.0</td>\n",
              "      <td>48000.0</td>\n",
              "      <td>9331695.0</td>\n",
              "      <td>48000.0</td>\n",
              "    </tr>\n",
              "    <tr>\n",
              "      <th>2019-10-07</th>\n",
              "      <td>48700.0</td>\n",
              "      <td>47650.0</td>\n",
              "      <td>48350.0</td>\n",
              "      <td>47750.0</td>\n",
              "      <td>7047273.0</td>\n",
              "      <td>47750.0</td>\n",
              "    </tr>\n",
              "    <tr>\n",
              "      <th>2019-10-08</th>\n",
              "      <td>49000.0</td>\n",
              "      <td>47600.0</td>\n",
              "      <td>47900.0</td>\n",
              "      <td>48900.0</td>\n",
              "      <td>14239367.0</td>\n",
              "      <td>48900.0</td>\n",
              "    </tr>\n",
              "    <tr>\n",
              "      <th>...</th>\n",
              "      <td>...</td>\n",
              "      <td>...</td>\n",
              "      <td>...</td>\n",
              "      <td>...</td>\n",
              "      <td>...</td>\n",
              "      <td>...</td>\n",
              "    </tr>\n",
              "    <tr>\n",
              "      <th>2020-08-31</th>\n",
              "      <td>56100.0</td>\n",
              "      <td>54000.0</td>\n",
              "      <td>56000.0</td>\n",
              "      <td>54000.0</td>\n",
              "      <td>32671367.0</td>\n",
              "      <td>54000.0</td>\n",
              "    </tr>\n",
              "    <tr>\n",
              "      <th>2020-09-01</th>\n",
              "      <td>54800.0</td>\n",
              "      <td>54100.0</td>\n",
              "      <td>54100.0</td>\n",
              "      <td>54200.0</td>\n",
              "      <td>19363117.0</td>\n",
              "      <td>54200.0</td>\n",
              "    </tr>\n",
              "    <tr>\n",
              "      <th>2020-09-02</th>\n",
              "      <td>55100.0</td>\n",
              "      <td>54100.0</td>\n",
              "      <td>54600.0</td>\n",
              "      <td>54400.0</td>\n",
              "      <td>16905723.0</td>\n",
              "      <td>54400.0</td>\n",
              "    </tr>\n",
              "    <tr>\n",
              "      <th>2020-09-03</th>\n",
              "      <td>56700.0</td>\n",
              "      <td>55500.0</td>\n",
              "      <td>55600.0</td>\n",
              "      <td>56400.0</td>\n",
              "      <td>28384920.0</td>\n",
              "      <td>56400.0</td>\n",
              "    </tr>\n",
              "    <tr>\n",
              "      <th>2020-09-04</th>\n",
              "      <td>55800.0</td>\n",
              "      <td>55100.0</td>\n",
              "      <td>55200.0</td>\n",
              "      <td>55600.0</td>\n",
              "      <td>22139109.0</td>\n",
              "      <td>55600.0</td>\n",
              "    </tr>\n",
              "  </tbody>\n",
              "</table>\n",
              "<p>231 rows × 6 columns</p>\n",
              "</div>"
            ],
            "text/plain": [
              "               High      Low     Open    Close      Volume  Adj Close\n",
              "Date                                                                 \n",
              "2019-10-01  49100.0  48650.0  48900.0  48850.0   6206035.0    48850.0\n",
              "2019-10-02  48400.0  47600.0  48350.0  47600.0   8382463.0    47600.0\n",
              "2019-10-04  48650.0  47350.0  47400.0  48000.0   9331695.0    48000.0\n",
              "2019-10-07  48700.0  47650.0  48350.0  47750.0   7047273.0    47750.0\n",
              "2019-10-08  49000.0  47600.0  47900.0  48900.0  14239367.0    48900.0\n",
              "...             ...      ...      ...      ...         ...        ...\n",
              "2020-08-31  56100.0  54000.0  56000.0  54000.0  32671367.0    54000.0\n",
              "2020-09-01  54800.0  54100.0  54100.0  54200.0  19363117.0    54200.0\n",
              "2020-09-02  55100.0  54100.0  54600.0  54400.0  16905723.0    54400.0\n",
              "2020-09-03  56700.0  55500.0  55600.0  56400.0  28384920.0    56400.0\n",
              "2020-09-04  55800.0  55100.0  55200.0  55600.0  22139109.0    55600.0\n",
              "\n",
              "[231 rows x 6 columns]"
            ]
          },
          "metadata": {
            "tags": []
          },
          "execution_count": 20
        }
      ]
    },
    {
      "cell_type": "code",
      "metadata": {
        "id": "vDlN3M1atSn_",
        "colab_type": "code",
        "colab": {}
      },
      "source": [
        ""
      ],
      "execution_count": 20,
      "outputs": []
    },
    {
      "cell_type": "code",
      "metadata": {
        "id": "BaXas74GtWZF",
        "colab_type": "code",
        "colab": {
          "base_uri": "https://localhost:8080/",
          "height": 450
        },
        "outputId": "95470ebc-ead8-45e4-9b18-895b0ea1aff0"
      },
      "source": [
        "data2"
      ],
      "execution_count": 21,
      "outputs": [
        {
          "output_type": "execute_result",
          "data": {
            "text/html": [
              "<div>\n",
              "<style scoped>\n",
              "    .dataframe tbody tr th:only-of-type {\n",
              "        vertical-align: middle;\n",
              "    }\n",
              "\n",
              "    .dataframe tbody tr th {\n",
              "        vertical-align: top;\n",
              "    }\n",
              "\n",
              "    .dataframe thead th {\n",
              "        text-align: right;\n",
              "    }\n",
              "</style>\n",
              "<table border=\"1\" class=\"dataframe\">\n",
              "  <thead>\n",
              "    <tr style=\"text-align: right;\">\n",
              "      <th></th>\n",
              "      <th>High</th>\n",
              "      <th>Low</th>\n",
              "      <th>Open</th>\n",
              "      <th>Close</th>\n",
              "      <th>Volume</th>\n",
              "      <th>Adj Close</th>\n",
              "    </tr>\n",
              "    <tr>\n",
              "      <th>Date</th>\n",
              "      <th></th>\n",
              "      <th></th>\n",
              "      <th></th>\n",
              "      <th></th>\n",
              "      <th></th>\n",
              "      <th></th>\n",
              "    </tr>\n",
              "  </thead>\n",
              "  <tbody>\n",
              "    <tr>\n",
              "      <th>2019-10-01</th>\n",
              "      <td>49100.0</td>\n",
              "      <td>48650.0</td>\n",
              "      <td>48900.0</td>\n",
              "      <td>48850.0</td>\n",
              "      <td>6206035.0</td>\n",
              "      <td>48850.0</td>\n",
              "    </tr>\n",
              "    <tr>\n",
              "      <th>2019-10-02</th>\n",
              "      <td>48400.0</td>\n",
              "      <td>47600.0</td>\n",
              "      <td>48350.0</td>\n",
              "      <td>47600.0</td>\n",
              "      <td>8382463.0</td>\n",
              "      <td>47600.0</td>\n",
              "    </tr>\n",
              "    <tr>\n",
              "      <th>2019-10-04</th>\n",
              "      <td>48650.0</td>\n",
              "      <td>47350.0</td>\n",
              "      <td>47400.0</td>\n",
              "      <td>48000.0</td>\n",
              "      <td>9331695.0</td>\n",
              "      <td>48000.0</td>\n",
              "    </tr>\n",
              "    <tr>\n",
              "      <th>2019-10-07</th>\n",
              "      <td>48700.0</td>\n",
              "      <td>47650.0</td>\n",
              "      <td>48350.0</td>\n",
              "      <td>47750.0</td>\n",
              "      <td>7047273.0</td>\n",
              "      <td>47750.0</td>\n",
              "    </tr>\n",
              "    <tr>\n",
              "      <th>2019-10-08</th>\n",
              "      <td>49000.0</td>\n",
              "      <td>47600.0</td>\n",
              "      <td>47900.0</td>\n",
              "      <td>48900.0</td>\n",
              "      <td>14239367.0</td>\n",
              "      <td>48900.0</td>\n",
              "    </tr>\n",
              "    <tr>\n",
              "      <th>...</th>\n",
              "      <td>...</td>\n",
              "      <td>...</td>\n",
              "      <td>...</td>\n",
              "      <td>...</td>\n",
              "      <td>...</td>\n",
              "      <td>...</td>\n",
              "    </tr>\n",
              "    <tr>\n",
              "      <th>2020-08-31</th>\n",
              "      <td>56100.0</td>\n",
              "      <td>54000.0</td>\n",
              "      <td>56000.0</td>\n",
              "      <td>54000.0</td>\n",
              "      <td>32671367.0</td>\n",
              "      <td>54000.0</td>\n",
              "    </tr>\n",
              "    <tr>\n",
              "      <th>2020-09-01</th>\n",
              "      <td>54800.0</td>\n",
              "      <td>54100.0</td>\n",
              "      <td>54100.0</td>\n",
              "      <td>54200.0</td>\n",
              "      <td>19363117.0</td>\n",
              "      <td>54200.0</td>\n",
              "    </tr>\n",
              "    <tr>\n",
              "      <th>2020-09-02</th>\n",
              "      <td>55100.0</td>\n",
              "      <td>54100.0</td>\n",
              "      <td>54600.0</td>\n",
              "      <td>54400.0</td>\n",
              "      <td>16905723.0</td>\n",
              "      <td>54400.0</td>\n",
              "    </tr>\n",
              "    <tr>\n",
              "      <th>2020-09-03</th>\n",
              "      <td>56700.0</td>\n",
              "      <td>55500.0</td>\n",
              "      <td>55600.0</td>\n",
              "      <td>56400.0</td>\n",
              "      <td>28384920.0</td>\n",
              "      <td>56400.0</td>\n",
              "    </tr>\n",
              "    <tr>\n",
              "      <th>2020-09-04</th>\n",
              "      <td>55800.0</td>\n",
              "      <td>55100.0</td>\n",
              "      <td>55200.0</td>\n",
              "      <td>55600.0</td>\n",
              "      <td>22139109.0</td>\n",
              "      <td>55600.0</td>\n",
              "    </tr>\n",
              "  </tbody>\n",
              "</table>\n",
              "<p>231 rows × 6 columns</p>\n",
              "</div>"
            ],
            "text/plain": [
              "               High      Low     Open    Close      Volume  Adj Close\n",
              "Date                                                                 \n",
              "2019-10-01  49100.0  48650.0  48900.0  48850.0   6206035.0    48850.0\n",
              "2019-10-02  48400.0  47600.0  48350.0  47600.0   8382463.0    47600.0\n",
              "2019-10-04  48650.0  47350.0  47400.0  48000.0   9331695.0    48000.0\n",
              "2019-10-07  48700.0  47650.0  48350.0  47750.0   7047273.0    47750.0\n",
              "2019-10-08  49000.0  47600.0  47900.0  48900.0  14239367.0    48900.0\n",
              "...             ...      ...      ...      ...         ...        ...\n",
              "2020-08-31  56100.0  54000.0  56000.0  54000.0  32671367.0    54000.0\n",
              "2020-09-01  54800.0  54100.0  54100.0  54200.0  19363117.0    54200.0\n",
              "2020-09-02  55100.0  54100.0  54600.0  54400.0  16905723.0    54400.0\n",
              "2020-09-03  56700.0  55500.0  55600.0  56400.0  28384920.0    56400.0\n",
              "2020-09-04  55800.0  55100.0  55200.0  55600.0  22139109.0    55600.0\n",
              "\n",
              "[231 rows x 6 columns]"
            ]
          },
          "metadata": {
            "tags": []
          },
          "execution_count": 21
        }
      ]
    },
    {
      "cell_type": "code",
      "metadata": {
        "id": "X9m1XUWjYYDH",
        "colab_type": "code",
        "colab": {}
      },
      "source": [
        "data_1 = pd.DataFrame(data1['일일확진자수'])"
      ],
      "execution_count": 22,
      "outputs": []
    },
    {
      "cell_type": "code",
      "metadata": {
        "id": "dStDl13gYZ0v",
        "colab_type": "code",
        "colab": {}
      },
      "source": [
        "data_close = pd.DataFrame(data2['Close'])"
      ],
      "execution_count": 23,
      "outputs": []
    },
    {
      "cell_type": "code",
      "metadata": {
        "id": "xivdvBHJYfGX",
        "colab_type": "code",
        "colab": {}
      },
      "source": [
        "result2 = pd.concat([data_1, data_close], axis=1)"
      ],
      "execution_count": 24,
      "outputs": []
    },
    {
      "cell_type": "code",
      "metadata": {
        "id": "2oqWOsQhYfwv",
        "colab_type": "code",
        "colab": {
          "base_uri": "https://localhost:8080/",
          "height": 419
        },
        "outputId": "43dadeac-f754-4fbf-a62c-5887401208d0"
      },
      "source": [
        "result2"
      ],
      "execution_count": 25,
      "outputs": [
        {
          "output_type": "execute_result",
          "data": {
            "text/html": [
              "<div>\n",
              "<style scoped>\n",
              "    .dataframe tbody tr th:only-of-type {\n",
              "        vertical-align: middle;\n",
              "    }\n",
              "\n",
              "    .dataframe tbody tr th {\n",
              "        vertical-align: top;\n",
              "    }\n",
              "\n",
              "    .dataframe thead th {\n",
              "        text-align: right;\n",
              "    }\n",
              "</style>\n",
              "<table border=\"1\" class=\"dataframe\">\n",
              "  <thead>\n",
              "    <tr style=\"text-align: right;\">\n",
              "      <th></th>\n",
              "      <th>일일확진자수</th>\n",
              "      <th>Close</th>\n",
              "    </tr>\n",
              "  </thead>\n",
              "  <tbody>\n",
              "    <tr>\n",
              "      <th>2019-10-01</th>\n",
              "      <td>0</td>\n",
              "      <td>48850.0</td>\n",
              "    </tr>\n",
              "    <tr>\n",
              "      <th>2019-10-02</th>\n",
              "      <td>0</td>\n",
              "      <td>47600.0</td>\n",
              "    </tr>\n",
              "    <tr>\n",
              "      <th>2019-10-03</th>\n",
              "      <td>0</td>\n",
              "      <td>NaN</td>\n",
              "    </tr>\n",
              "    <tr>\n",
              "      <th>2019-10-04</th>\n",
              "      <td>0</td>\n",
              "      <td>48000.0</td>\n",
              "    </tr>\n",
              "    <tr>\n",
              "      <th>2019-10-05</th>\n",
              "      <td>0</td>\n",
              "      <td>NaN</td>\n",
              "    </tr>\n",
              "    <tr>\n",
              "      <th>...</th>\n",
              "      <td>...</td>\n",
              "      <td>...</td>\n",
              "    </tr>\n",
              "    <tr>\n",
              "      <th>2020-09-01</th>\n",
              "      <td>235</td>\n",
              "      <td>54200.0</td>\n",
              "    </tr>\n",
              "    <tr>\n",
              "      <th>2020-09-02</th>\n",
              "      <td>267</td>\n",
              "      <td>54400.0</td>\n",
              "    </tr>\n",
              "    <tr>\n",
              "      <th>2020-09-03</th>\n",
              "      <td>195</td>\n",
              "      <td>56400.0</td>\n",
              "    </tr>\n",
              "    <tr>\n",
              "      <th>2020-09-04</th>\n",
              "      <td>198</td>\n",
              "      <td>55600.0</td>\n",
              "    </tr>\n",
              "    <tr>\n",
              "      <th>2020-09-05</th>\n",
              "      <td>168</td>\n",
              "      <td>NaN</td>\n",
              "    </tr>\n",
              "  </tbody>\n",
              "</table>\n",
              "<p>341 rows × 2 columns</p>\n",
              "</div>"
            ],
            "text/plain": [
              "            일일확진자수    Close\n",
              "2019-10-01       0  48850.0\n",
              "2019-10-02       0  47600.0\n",
              "2019-10-03       0      NaN\n",
              "2019-10-04       0  48000.0\n",
              "2019-10-05       0      NaN\n",
              "...            ...      ...\n",
              "2020-09-01     235  54200.0\n",
              "2020-09-02     267  54400.0\n",
              "2020-09-03     195  56400.0\n",
              "2020-09-04     198  55600.0\n",
              "2020-09-05     168      NaN\n",
              "\n",
              "[341 rows x 2 columns]"
            ]
          },
          "metadata": {
            "tags": []
          },
          "execution_count": 25
        }
      ]
    },
    {
      "cell_type": "code",
      "metadata": {
        "id": "6l0FStZJYhdX",
        "colab_type": "code",
        "colab": {}
      },
      "source": [
        "result2_na = result2.dropna(axis=0) # na 있는 행 제거"
      ],
      "execution_count": 26,
      "outputs": []
    },
    {
      "cell_type": "code",
      "metadata": {
        "id": "B_59FKJGYiwn",
        "colab_type": "code",
        "colab": {
          "base_uri": "https://localhost:8080/",
          "height": 419
        },
        "outputId": "72e31151-16fc-4ef0-b710-3e91fcb9ab51"
      },
      "source": [
        "result2_na"
      ],
      "execution_count": 27,
      "outputs": [
        {
          "output_type": "execute_result",
          "data": {
            "text/html": [
              "<div>\n",
              "<style scoped>\n",
              "    .dataframe tbody tr th:only-of-type {\n",
              "        vertical-align: middle;\n",
              "    }\n",
              "\n",
              "    .dataframe tbody tr th {\n",
              "        vertical-align: top;\n",
              "    }\n",
              "\n",
              "    .dataframe thead th {\n",
              "        text-align: right;\n",
              "    }\n",
              "</style>\n",
              "<table border=\"1\" class=\"dataframe\">\n",
              "  <thead>\n",
              "    <tr style=\"text-align: right;\">\n",
              "      <th></th>\n",
              "      <th>일일확진자수</th>\n",
              "      <th>Close</th>\n",
              "    </tr>\n",
              "  </thead>\n",
              "  <tbody>\n",
              "    <tr>\n",
              "      <th>2019-10-01</th>\n",
              "      <td>0</td>\n",
              "      <td>48850.0</td>\n",
              "    </tr>\n",
              "    <tr>\n",
              "      <th>2019-10-02</th>\n",
              "      <td>0</td>\n",
              "      <td>47600.0</td>\n",
              "    </tr>\n",
              "    <tr>\n",
              "      <th>2019-10-04</th>\n",
              "      <td>0</td>\n",
              "      <td>48000.0</td>\n",
              "    </tr>\n",
              "    <tr>\n",
              "      <th>2019-10-07</th>\n",
              "      <td>0</td>\n",
              "      <td>47750.0</td>\n",
              "    </tr>\n",
              "    <tr>\n",
              "      <th>2019-10-08</th>\n",
              "      <td>0</td>\n",
              "      <td>48900.0</td>\n",
              "    </tr>\n",
              "    <tr>\n",
              "      <th>...</th>\n",
              "      <td>...</td>\n",
              "      <td>...</td>\n",
              "    </tr>\n",
              "    <tr>\n",
              "      <th>2020-08-31</th>\n",
              "      <td>248</td>\n",
              "      <td>54000.0</td>\n",
              "    </tr>\n",
              "    <tr>\n",
              "      <th>2020-09-01</th>\n",
              "      <td>235</td>\n",
              "      <td>54200.0</td>\n",
              "    </tr>\n",
              "    <tr>\n",
              "      <th>2020-09-02</th>\n",
              "      <td>267</td>\n",
              "      <td>54400.0</td>\n",
              "    </tr>\n",
              "    <tr>\n",
              "      <th>2020-09-03</th>\n",
              "      <td>195</td>\n",
              "      <td>56400.0</td>\n",
              "    </tr>\n",
              "    <tr>\n",
              "      <th>2020-09-04</th>\n",
              "      <td>198</td>\n",
              "      <td>55600.0</td>\n",
              "    </tr>\n",
              "  </tbody>\n",
              "</table>\n",
              "<p>231 rows × 2 columns</p>\n",
              "</div>"
            ],
            "text/plain": [
              "            일일확진자수    Close\n",
              "2019-10-01       0  48850.0\n",
              "2019-10-02       0  47600.0\n",
              "2019-10-04       0  48000.0\n",
              "2019-10-07       0  47750.0\n",
              "2019-10-08       0  48900.0\n",
              "...            ...      ...\n",
              "2020-08-31     248  54000.0\n",
              "2020-09-01     235  54200.0\n",
              "2020-09-02     267  54400.0\n",
              "2020-09-03     195  56400.0\n",
              "2020-09-04     198  55600.0\n",
              "\n",
              "[231 rows x 2 columns]"
            ]
          },
          "metadata": {
            "tags": []
          },
          "execution_count": 27
        }
      ]
    },
    {
      "cell_type": "code",
      "metadata": {
        "id": "QzvpKngPaJLJ",
        "colab_type": "code",
        "colab": {}
      },
      "source": [
        "X = result2_na[['일일확진자수']]\n",
        "Y = result2_na[['Close']]"
      ],
      "execution_count": 28,
      "outputs": []
    },
    {
      "cell_type": "code",
      "metadata": {
        "id": "jKkHzQI-Yjz3",
        "colab_type": "code",
        "colab": {}
      },
      "source": [
        "# 스케일링, 데이터가 부족해서 train, test set 나누지 않았음.\n",
        "from sklearn.preprocessing import RobustScaler\n",
        "scaler = RobustScaler()\n",
        "scaler.fit(X)\n",
        "scaler.fit(Y)\n",
        "X = scaler.fit_transform(X)\n",
        "Y = scaler.fit_transform(Y)"
      ],
      "execution_count": 29,
      "outputs": []
    },
    {
      "cell_type": "code",
      "metadata": {
        "id": "tDlIFceDbCIO",
        "colab_type": "code",
        "colab": {}
      },
      "source": [
        "# 모델링\n",
        "import numpy as np\n",
        "from sklearn.linear_model import LinearRegression"
      ],
      "execution_count": 30,
      "outputs": []
    },
    {
      "cell_type": "code",
      "metadata": {
        "id": "_ks8vQNScaBj",
        "colab_type": "code",
        "colab": {}
      },
      "source": [
        "model = LinearRegression()"
      ],
      "execution_count": 31,
      "outputs": []
    },
    {
      "cell_type": "code",
      "metadata": {
        "id": "21YC5IMqcq1O",
        "colab_type": "code",
        "colab": {}
      },
      "source": [
        "# 학습과 예측\n",
        "model.fit(X, Y)\n",
        "model.predict(X)\n",
        "Y_pred = model.predict(X)\n",
        "\n"
      ],
      "execution_count": 32,
      "outputs": []
    },
    {
      "cell_type": "code",
      "metadata": {
        "id": "UXHbHmIsemzR",
        "colab_type": "code",
        "colab": {
          "base_uri": "https://localhost:8080/",
          "height": 107
        },
        "outputId": "4fbdcff8-cd16-49c9-d6da-c441f9e86284"
      },
      "source": [
        "# 시각화\n",
        "import matplotlib as mpl\n",
        "import matplotlib.pyplot as plt\n",
        "\n",
        "\n",
        "# 한글\n",
        "%config InlineBackend.figure_format = 'retina'\n",
        " \n",
        "!apt -qq -y install fonts-nanum\n",
        " \n",
        "import matplotlib.font_manager as fm\n",
        "fontpath = '/usr/share/fonts/truetype/nanum/NanumBarunGothic.ttf'\n",
        "font = fm.FontProperties(fname=fontpath, size=9)\n",
        "plt.rc('font', family='NanumBarunGothic') \n",
        "mpl.font_manager._rebuild()"
      ],
      "execution_count": 33,
      "outputs": [
        {
          "output_type": "stream",
          "text": [
            "fonts-nanum is already the newest version (20170925-1).\n",
            "The following package was automatically installed and is no longer required:\n",
            "  libnvidia-common-440\n",
            "Use 'apt autoremove' to remove it.\n",
            "0 upgraded, 0 newly installed, 0 to remove and 39 not upgraded.\n"
          ],
          "name": "stdout"
        }
      ]
    },
    {
      "cell_type": "code",
      "metadata": {
        "id": "dF43itKFdJgN",
        "colab_type": "code",
        "colab": {
          "base_uri": "https://localhost:8080/",
          "height": 695
        },
        "outputId": "109e97cd-a8b0-4586-ea86-cd8c1e567b2b"
      },
      "source": [
        "# 시각화\n",
        "plt.rcParams[\"figure.figsize\"] = (15,10)\n",
        "plt.scatter(X, Y, c=\"darkorange\")\n",
        "plt.plot(X, Y_pred, label=\"linear\", linewidth=2)\n",
        "plt.title('삼성전자 회귀분석')\n",
        "plt.xlabel('일일확진자수')\n",
        "plt.ylabel('종가')\n",
        "plt.show()\n"
      ],
      "execution_count": 34,
      "outputs": [
        {
          "output_type": "stream",
          "text": [
            "/usr/local/lib/python3.6/dist-packages/matplotlib/backends/backend_agg.py:214: RuntimeWarning: Glyph 8722 missing from current font.\n",
            "  font.set_text(s, 0.0, flags=flags)\n",
            "/usr/local/lib/python3.6/dist-packages/matplotlib/backends/backend_agg.py:183: RuntimeWarning: Glyph 8722 missing from current font.\n",
            "  font.set_text(s, 0, flags=flags)\n"
          ],
          "name": "stderr"
        },
        {
          "output_type": "display_data",
          "data": {
            "image/png": "[encoded data removed]",
            "text/plain": [
              "<Figure size 1080x720 with 1 Axes>"
            ]
          },
          "metadata": {
            "tags": [],
            "image/png": {
              "width": 890,
              "height": 606
            },
            "needs_background": "light"
          }
        }
      ]
    },
    {
      "cell_type": "code",
      "metadata": {
        "id": "bapAwoqPv4QT",
        "colab_type": "code",
        "colab": {}
      },
      "source": [
        ""
      ],
      "execution_count": 34,
      "outputs": []
    }
  ]
}