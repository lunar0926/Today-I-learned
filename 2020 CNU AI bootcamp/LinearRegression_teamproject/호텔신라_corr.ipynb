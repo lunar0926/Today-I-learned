{
  "nbformat": 4,
  "nbformat_minor": 0,
  "metadata": {
    "colab": {
      "name": "호텔신라_corr.ipynb",
      "provenance": []
    },
    "kernelspec": {
      "name": "python3",
      "display_name": "Python 3"
    }
  },
  "cells": [
    {
      "cell_type": "code",
      "metadata": {
        "id": "fZzuQfFKdh5P",
        "colab_type": "code",
        "colab": {}
      },
      "source": [
        "import pandas as pd"
      ],
      "execution_count": 1,
      "outputs": []
    },
    {
      "cell_type": "code",
      "metadata": {
        "id": "1aMcm_3Fd_rz",
        "colab_type": "code",
        "colab": {
          "base_uri": "https://localhost:8080/",
          "height": 73
        },
        "outputId": "93ad2ea5-e1b5-4994-afdd-6b0a7e7ae298"
      },
      "source": [
        "# 호텔신라 주가\n",
        "import pandas_datareader.data as dr"
      ],
      "execution_count": 2,
      "outputs": [
        {
          "output_type": "stream",
          "text": [
            "/usr/local/lib/python3.6/dist-packages/pandas_datareader/compat/__init__.py:7: FutureWarning: pandas.util.testing is deprecated. Use the functions in the public API at pandas.testing instead.\n",
            "  from pandas.util.testing import assert_frame_equal\n"
          ],
          "name": "stderr"
        }
      ]
    },
    {
      "cell_type": "code",
      "metadata": {
        "id": "utUviyAue32k",
        "colab_type": "code",
        "colab": {}
      },
      "source": [
        "import datetime"
      ],
      "execution_count": 3,
      "outputs": []
    },
    {
      "cell_type": "code",
      "metadata": {
        "id": "WYdfJeKle4Ic",
        "colab_type": "code",
        "colab": {}
      },
      "source": [
        "start = datetime.datetime(2019,10,1)"
      ],
      "execution_count": 4,
      "outputs": []
    },
    {
      "cell_type": "code",
      "metadata": {
        "id": "-9n8cjYUe6Sl",
        "colab_type": "code",
        "colab": {}
      },
      "source": [
        "end = datetime.datetime(2020,9,5)"
      ],
      "execution_count": 5,
      "outputs": []
    },
    {
      "cell_type": "code",
      "metadata": {
        "id": "1RSNGr5Se6xU",
        "colab_type": "code",
        "colab": {}
      },
      "source": [
        "sh = dr.DataReader('008770.KS', 'yahoo',start, end)"
      ],
      "execution_count": 6,
      "outputs": []
    },
    {
      "cell_type": "code",
      "metadata": {
        "id": "xFIIEtRDe7vE",
        "colab_type": "code",
        "colab": {
          "base_uri": "https://localhost:8080/",
          "height": 450
        },
        "outputId": "091c7fad-c601-4cf5-8458-f6e3bf16409c"
      },
      "source": [
        "sh"
      ],
      "execution_count": 7,
      "outputs": [
        {
          "output_type": "execute_result",
          "data": {
            "text/html": [
              "<div>\n",
              "<style scoped>\n",
              "    .dataframe tbody tr th:only-of-type {\n",
              "        vertical-align: middle;\n",
              "    }\n",
              "\n",
              "    .dataframe tbody tr th {\n",
              "        vertical-align: top;\n",
              "    }\n",
              "\n",
              "    .dataframe thead th {\n",
              "        text-align: right;\n",
              "    }\n",
              "</style>\n",
              "<table border=\"1\" class=\"dataframe\">\n",
              "  <thead>\n",
              "    <tr style=\"text-align: right;\">\n",
              "      <th></th>\n",
              "      <th>High</th>\n",
              "      <th>Low</th>\n",
              "      <th>Open</th>\n",
              "      <th>Close</th>\n",
              "      <th>Volume</th>\n",
              "      <th>Adj Close</th>\n",
              "    </tr>\n",
              "    <tr>\n",
              "      <th>Date</th>\n",
              "      <th></th>\n",
              "      <th></th>\n",
              "      <th></th>\n",
              "      <th></th>\n",
              "      <th></th>\n",
              "      <th></th>\n",
              "    </tr>\n",
              "  </thead>\n",
              "  <tbody>\n",
              "    <tr>\n",
              "      <th>2019-10-01</th>\n",
              "      <td>86000.0</td>\n",
              "      <td>82100.0</td>\n",
              "      <td>85800.0</td>\n",
              "      <td>82500.0</td>\n",
              "      <td>653709.0</td>\n",
              "      <td>82500.0</td>\n",
              "    </tr>\n",
              "    <tr>\n",
              "      <th>2019-10-02</th>\n",
              "      <td>82900.0</td>\n",
              "      <td>80700.0</td>\n",
              "      <td>82700.0</td>\n",
              "      <td>81000.0</td>\n",
              "      <td>541381.0</td>\n",
              "      <td>81000.0</td>\n",
              "    </tr>\n",
              "    <tr>\n",
              "      <th>2019-10-04</th>\n",
              "      <td>81500.0</td>\n",
              "      <td>79200.0</td>\n",
              "      <td>81000.0</td>\n",
              "      <td>79800.0</td>\n",
              "      <td>435223.0</td>\n",
              "      <td>79800.0</td>\n",
              "    </tr>\n",
              "    <tr>\n",
              "      <th>2019-10-07</th>\n",
              "      <td>81500.0</td>\n",
              "      <td>79800.0</td>\n",
              "      <td>80400.0</td>\n",
              "      <td>80200.0</td>\n",
              "      <td>236583.0</td>\n",
              "      <td>80200.0</td>\n",
              "    </tr>\n",
              "    <tr>\n",
              "      <th>2019-10-08</th>\n",
              "      <td>81300.0</td>\n",
              "      <td>80200.0</td>\n",
              "      <td>80400.0</td>\n",
              "      <td>80800.0</td>\n",
              "      <td>266694.0</td>\n",
              "      <td>80800.0</td>\n",
              "    </tr>\n",
              "    <tr>\n",
              "      <th>...</th>\n",
              "      <td>...</td>\n",
              "      <td>...</td>\n",
              "      <td>...</td>\n",
              "      <td>...</td>\n",
              "      <td>...</td>\n",
              "      <td>...</td>\n",
              "    </tr>\n",
              "    <tr>\n",
              "      <th>2020-08-31</th>\n",
              "      <td>71600.0</td>\n",
              "      <td>70300.0</td>\n",
              "      <td>71600.0</td>\n",
              "      <td>70300.0</td>\n",
              "      <td>348867.0</td>\n",
              "      <td>70300.0</td>\n",
              "    </tr>\n",
              "    <tr>\n",
              "      <th>2020-09-01</th>\n",
              "      <td>73400.0</td>\n",
              "      <td>70300.0</td>\n",
              "      <td>70700.0</td>\n",
              "      <td>72500.0</td>\n",
              "      <td>696976.0</td>\n",
              "      <td>72500.0</td>\n",
              "    </tr>\n",
              "    <tr>\n",
              "      <th>2020-09-02</th>\n",
              "      <td>77000.0</td>\n",
              "      <td>73600.0</td>\n",
              "      <td>73700.0</td>\n",
              "      <td>75800.0</td>\n",
              "      <td>1333521.0</td>\n",
              "      <td>75800.0</td>\n",
              "    </tr>\n",
              "    <tr>\n",
              "      <th>2020-09-03</th>\n",
              "      <td>77800.0</td>\n",
              "      <td>75100.0</td>\n",
              "      <td>76700.0</td>\n",
              "      <td>75300.0</td>\n",
              "      <td>1086752.0</td>\n",
              "      <td>75300.0</td>\n",
              "    </tr>\n",
              "    <tr>\n",
              "      <th>2020-09-04</th>\n",
              "      <td>75300.0</td>\n",
              "      <td>73500.0</td>\n",
              "      <td>73900.0</td>\n",
              "      <td>74600.0</td>\n",
              "      <td>596400.0</td>\n",
              "      <td>74600.0</td>\n",
              "    </tr>\n",
              "  </tbody>\n",
              "</table>\n",
              "<p>231 rows × 6 columns</p>\n",
              "</div>"
            ],
            "text/plain": [
              "               High      Low     Open    Close     Volume  Adj Close\n",
              "Date                                                                \n",
              "2019-10-01  86000.0  82100.0  85800.0  82500.0   653709.0    82500.0\n",
              "2019-10-02  82900.0  80700.0  82700.0  81000.0   541381.0    81000.0\n",
              "2019-10-04  81500.0  79200.0  81000.0  79800.0   435223.0    79800.0\n",
              "2019-10-07  81500.0  79800.0  80400.0  80200.0   236583.0    80200.0\n",
              "2019-10-08  81300.0  80200.0  80400.0  80800.0   266694.0    80800.0\n",
              "...             ...      ...      ...      ...        ...        ...\n",
              "2020-08-31  71600.0  70300.0  71600.0  70300.0   348867.0    70300.0\n",
              "2020-09-01  73400.0  70300.0  70700.0  72500.0   696976.0    72500.0\n",
              "2020-09-02  77000.0  73600.0  73700.0  75800.0  1333521.0    75800.0\n",
              "2020-09-03  77800.0  75100.0  76700.0  75300.0  1086752.0    75300.0\n",
              "2020-09-04  75300.0  73500.0  73900.0  74600.0   596400.0    74600.0\n",
              "\n",
              "[231 rows x 6 columns]"
            ]
          },
          "metadata": {
            "tags": []
          },
          "execution_count": 7
        }
      ]
    },
    {
      "cell_type": "code",
      "metadata": {
        "id": "YkEwqCkee8vU",
        "colab_type": "code",
        "colab": {}
      },
      "source": [
        "sh.shape"
      ],
      "execution_count": 7,
      "outputs": []
    },
    {
      "cell_type": "code",
      "metadata": {
        "id": "BYCXdy57e-HV",
        "colab_type": "code",
        "colab": {
          "base_uri": "https://localhost:8080/",
          "height": 251
        },
        "outputId": "7df10d0d-cbaa-44fe-bc46-ffcd83d5e66f"
      },
      "source": [
        "sh.info()"
      ],
      "execution_count": 8,
      "outputs": [
        {
          "output_type": "stream",
          "text": [
            "<class 'pandas.core.frame.DataFrame'>\n",
            "DatetimeIndex: 231 entries, 2019-10-01 to 2020-09-04\n",
            "Data columns (total 6 columns):\n",
            " #   Column     Non-Null Count  Dtype  \n",
            "---  ------     --------------  -----  \n",
            " 0   High       231 non-null    float64\n",
            " 1   Low        231 non-null    float64\n",
            " 2   Open       231 non-null    float64\n",
            " 3   Close      231 non-null    float64\n",
            " 4   Volume     231 non-null    float64\n",
            " 5   Adj Close  231 non-null    float64\n",
            "dtypes: float64(6)\n",
            "memory usage: 12.6 KB\n"
          ],
          "name": "stdout"
        }
      ]
    },
    {
      "cell_type": "code",
      "metadata": {
        "id": "aIf2gcspe_mM",
        "colab_type": "code",
        "colab": {
          "base_uri": "https://localhost:8080/",
          "height": 419
        },
        "outputId": "eabbdf3b-c392-4070-9046-a2c41f7c9fe0"
      },
      "source": [
        "sh.reset_index()"
      ],
      "execution_count": 9,
      "outputs": [
        {
          "output_type": "execute_result",
          "data": {
            "text/html": [
              "<div>\n",
              "<style scoped>\n",
              "    .dataframe tbody tr th:only-of-type {\n",
              "        vertical-align: middle;\n",
              "    }\n",
              "\n",
              "    .dataframe tbody tr th {\n",
              "        vertical-align: top;\n",
              "    }\n",
              "\n",
              "    .dataframe thead th {\n",
              "        text-align: right;\n",
              "    }\n",
              "</style>\n",
              "<table border=\"1\" class=\"dataframe\">\n",
              "  <thead>\n",
              "    <tr style=\"text-align: right;\">\n",
              "      <th></th>\n",
              "      <th>Date</th>\n",
              "      <th>High</th>\n",
              "      <th>Low</th>\n",
              "      <th>Open</th>\n",
              "      <th>Close</th>\n",
              "      <th>Volume</th>\n",
              "      <th>Adj Close</th>\n",
              "    </tr>\n",
              "  </thead>\n",
              "  <tbody>\n",
              "    <tr>\n",
              "      <th>0</th>\n",
              "      <td>2019-10-01</td>\n",
              "      <td>86000.0</td>\n",
              "      <td>82100.0</td>\n",
              "      <td>85800.0</td>\n",
              "      <td>82500.0</td>\n",
              "      <td>653709.0</td>\n",
              "      <td>82500.0</td>\n",
              "    </tr>\n",
              "    <tr>\n",
              "      <th>1</th>\n",
              "      <td>2019-10-02</td>\n",
              "      <td>82900.0</td>\n",
              "      <td>80700.0</td>\n",
              "      <td>82700.0</td>\n",
              "      <td>81000.0</td>\n",
              "      <td>541381.0</td>\n",
              "      <td>81000.0</td>\n",
              "    </tr>\n",
              "    <tr>\n",
              "      <th>2</th>\n",
              "      <td>2019-10-04</td>\n",
              "      <td>81500.0</td>\n",
              "      <td>79200.0</td>\n",
              "      <td>81000.0</td>\n",
              "      <td>79800.0</td>\n",
              "      <td>435223.0</td>\n",
              "      <td>79800.0</td>\n",
              "    </tr>\n",
              "    <tr>\n",
              "      <th>3</th>\n",
              "      <td>2019-10-07</td>\n",
              "      <td>81500.0</td>\n",
              "      <td>79800.0</td>\n",
              "      <td>80400.0</td>\n",
              "      <td>80200.0</td>\n",
              "      <td>236583.0</td>\n",
              "      <td>80200.0</td>\n",
              "    </tr>\n",
              "    <tr>\n",
              "      <th>4</th>\n",
              "      <td>2019-10-08</td>\n",
              "      <td>81300.0</td>\n",
              "      <td>80200.0</td>\n",
              "      <td>80400.0</td>\n",
              "      <td>80800.0</td>\n",
              "      <td>266694.0</td>\n",
              "      <td>80800.0</td>\n",
              "    </tr>\n",
              "    <tr>\n",
              "      <th>...</th>\n",
              "      <td>...</td>\n",
              "      <td>...</td>\n",
              "      <td>...</td>\n",
              "      <td>...</td>\n",
              "      <td>...</td>\n",
              "      <td>...</td>\n",
              "      <td>...</td>\n",
              "    </tr>\n",
              "    <tr>\n",
              "      <th>226</th>\n",
              "      <td>2020-08-31</td>\n",
              "      <td>71600.0</td>\n",
              "      <td>70300.0</td>\n",
              "      <td>71600.0</td>\n",
              "      <td>70300.0</td>\n",
              "      <td>348867.0</td>\n",
              "      <td>70300.0</td>\n",
              "    </tr>\n",
              "    <tr>\n",
              "      <th>227</th>\n",
              "      <td>2020-09-01</td>\n",
              "      <td>73400.0</td>\n",
              "      <td>70300.0</td>\n",
              "      <td>70700.0</td>\n",
              "      <td>72500.0</td>\n",
              "      <td>696976.0</td>\n",
              "      <td>72500.0</td>\n",
              "    </tr>\n",
              "    <tr>\n",
              "      <th>228</th>\n",
              "      <td>2020-09-02</td>\n",
              "      <td>77000.0</td>\n",
              "      <td>73600.0</td>\n",
              "      <td>73700.0</td>\n",
              "      <td>75800.0</td>\n",
              "      <td>1333521.0</td>\n",
              "      <td>75800.0</td>\n",
              "    </tr>\n",
              "    <tr>\n",
              "      <th>229</th>\n",
              "      <td>2020-09-03</td>\n",
              "      <td>77800.0</td>\n",
              "      <td>75100.0</td>\n",
              "      <td>76700.0</td>\n",
              "      <td>75300.0</td>\n",
              "      <td>1086752.0</td>\n",
              "      <td>75300.0</td>\n",
              "    </tr>\n",
              "    <tr>\n",
              "      <th>230</th>\n",
              "      <td>2020-09-04</td>\n",
              "      <td>75300.0</td>\n",
              "      <td>73500.0</td>\n",
              "      <td>73900.0</td>\n",
              "      <td>74600.0</td>\n",
              "      <td>596400.0</td>\n",
              "      <td>74600.0</td>\n",
              "    </tr>\n",
              "  </tbody>\n",
              "</table>\n",
              "<p>231 rows × 7 columns</p>\n",
              "</div>"
            ],
            "text/plain": [
              "          Date     High      Low     Open    Close     Volume  Adj Close\n",
              "0   2019-10-01  86000.0  82100.0  85800.0  82500.0   653709.0    82500.0\n",
              "1   2019-10-02  82900.0  80700.0  82700.0  81000.0   541381.0    81000.0\n",
              "2   2019-10-04  81500.0  79200.0  81000.0  79800.0   435223.0    79800.0\n",
              "3   2019-10-07  81500.0  79800.0  80400.0  80200.0   236583.0    80200.0\n",
              "4   2019-10-08  81300.0  80200.0  80400.0  80800.0   266694.0    80800.0\n",
              "..         ...      ...      ...      ...      ...        ...        ...\n",
              "226 2020-08-31  71600.0  70300.0  71600.0  70300.0   348867.0    70300.0\n",
              "227 2020-09-01  73400.0  70300.0  70700.0  72500.0   696976.0    72500.0\n",
              "228 2020-09-02  77000.0  73600.0  73700.0  75800.0  1333521.0    75800.0\n",
              "229 2020-09-03  77800.0  75100.0  76700.0  75300.0  1086752.0    75300.0\n",
              "230 2020-09-04  75300.0  73500.0  73900.0  74600.0   596400.0    74600.0\n",
              "\n",
              "[231 rows x 7 columns]"
            ]
          },
          "metadata": {
            "tags": []
          },
          "execution_count": 9
        }
      ]
    },
    {
      "cell_type": "code",
      "metadata": {
        "id": "WI0-3VccfA6k",
        "colab_type": "code",
        "colab": {
          "base_uri": "https://localhost:8080/",
          "height": 419
        },
        "outputId": "aa02cfc8-a7a8-4e8a-860a-2f7a1e4b8c2d"
      },
      "source": [
        "# 코로나 확진자\n",
        "pd.read_csv('19_4_1.csv')"
      ],
      "execution_count": 10,
      "outputs": [
        {
          "output_type": "execute_result",
          "data": {
            "text/html": [
              "<div>\n",
              "<style scoped>\n",
              "    .dataframe tbody tr th:only-of-type {\n",
              "        vertical-align: middle;\n",
              "    }\n",
              "\n",
              "    .dataframe tbody tr th {\n",
              "        vertical-align: top;\n",
              "    }\n",
              "\n",
              "    .dataframe thead th {\n",
              "        text-align: right;\n",
              "    }\n",
              "</style>\n",
              "<table border=\"1\" class=\"dataframe\">\n",
              "  <thead>\n",
              "    <tr style=\"text-align: right;\">\n",
              "      <th></th>\n",
              "      <th>Unnamed: 0</th>\n",
              "      <th>날짜</th>\n",
              "      <th>일일확진자수</th>\n",
              "    </tr>\n",
              "  </thead>\n",
              "  <tbody>\n",
              "    <tr>\n",
              "      <th>0</th>\n",
              "      <td>0</td>\n",
              "      <td>2020-09-05</td>\n",
              "      <td>168</td>\n",
              "    </tr>\n",
              "    <tr>\n",
              "      <th>1</th>\n",
              "      <td>1</td>\n",
              "      <td>2020-09-04</td>\n",
              "      <td>198</td>\n",
              "    </tr>\n",
              "    <tr>\n",
              "      <th>2</th>\n",
              "      <td>2</td>\n",
              "      <td>2020-09-03</td>\n",
              "      <td>195</td>\n",
              "    </tr>\n",
              "    <tr>\n",
              "      <th>3</th>\n",
              "      <td>3</td>\n",
              "      <td>2020-09-02</td>\n",
              "      <td>267</td>\n",
              "    </tr>\n",
              "    <tr>\n",
              "      <th>4</th>\n",
              "      <td>4</td>\n",
              "      <td>2020-09-01</td>\n",
              "      <td>235</td>\n",
              "    </tr>\n",
              "    <tr>\n",
              "      <th>...</th>\n",
              "      <td>...</td>\n",
              "      <td>...</td>\n",
              "      <td>...</td>\n",
              "    </tr>\n",
              "    <tr>\n",
              "      <th>336</th>\n",
              "      <td>336</td>\n",
              "      <td>2019-10-05</td>\n",
              "      <td>0</td>\n",
              "    </tr>\n",
              "    <tr>\n",
              "      <th>337</th>\n",
              "      <td>337</td>\n",
              "      <td>2019-10-04</td>\n",
              "      <td>0</td>\n",
              "    </tr>\n",
              "    <tr>\n",
              "      <th>338</th>\n",
              "      <td>338</td>\n",
              "      <td>2019-10-03</td>\n",
              "      <td>0</td>\n",
              "    </tr>\n",
              "    <tr>\n",
              "      <th>339</th>\n",
              "      <td>339</td>\n",
              "      <td>2019-10-02</td>\n",
              "      <td>0</td>\n",
              "    </tr>\n",
              "    <tr>\n",
              "      <th>340</th>\n",
              "      <td>340</td>\n",
              "      <td>2019-10-01</td>\n",
              "      <td>0</td>\n",
              "    </tr>\n",
              "  </tbody>\n",
              "</table>\n",
              "<p>341 rows × 3 columns</p>\n",
              "</div>"
            ],
            "text/plain": [
              "     Unnamed: 0          날짜  일일확진자수\n",
              "0             0  2020-09-05     168\n",
              "1             1  2020-09-04     198\n",
              "2             2  2020-09-03     195\n",
              "3             3  2020-09-02     267\n",
              "4             4  2020-09-01     235\n",
              "..          ...         ...     ...\n",
              "336         336  2019-10-05       0\n",
              "337         337  2019-10-04       0\n",
              "338         338  2019-10-03       0\n",
              "339         339  2019-10-02       0\n",
              "340         340  2019-10-01       0\n",
              "\n",
              "[341 rows x 3 columns]"
            ]
          },
          "metadata": {
            "tags": []
          },
          "execution_count": 10
        }
      ]
    },
    {
      "cell_type": "code",
      "metadata": {
        "id": "Dq7ez4IQfig5",
        "colab_type": "code",
        "colab": {}
      },
      "source": [
        "df1 = pd.read_csv('19_4_1.csv')\n",
        "df1['날짜'] = df1['날짜'].astype('datetime64[ns]')\n",
        "df2 = df1.set_index('날짜')"
      ],
      "execution_count": 43,
      "outputs": []
    },
    {
      "cell_type": "code",
      "metadata": {
        "id": "IVwbVxIafxSD",
        "colab_type": "code",
        "colab": {
          "base_uri": "https://localhost:8080/",
          "height": 450
        },
        "outputId": "c8dadb15-8552-4091-c146-bf97a84a3670"
      },
      "source": [
        "df2"
      ],
      "execution_count": 44,
      "outputs": [
        {
          "output_type": "execute_result",
          "data": {
            "text/html": [
              "<div>\n",
              "<style scoped>\n",
              "    .dataframe tbody tr th:only-of-type {\n",
              "        vertical-align: middle;\n",
              "    }\n",
              "\n",
              "    .dataframe tbody tr th {\n",
              "        vertical-align: top;\n",
              "    }\n",
              "\n",
              "    .dataframe thead th {\n",
              "        text-align: right;\n",
              "    }\n",
              "</style>\n",
              "<table border=\"1\" class=\"dataframe\">\n",
              "  <thead>\n",
              "    <tr style=\"text-align: right;\">\n",
              "      <th></th>\n",
              "      <th>Unnamed: 0</th>\n",
              "      <th>일일확진자수</th>\n",
              "    </tr>\n",
              "    <tr>\n",
              "      <th>날짜</th>\n",
              "      <th></th>\n",
              "      <th></th>\n",
              "    </tr>\n",
              "  </thead>\n",
              "  <tbody>\n",
              "    <tr>\n",
              "      <th>2020-09-05</th>\n",
              "      <td>0</td>\n",
              "      <td>168</td>\n",
              "    </tr>\n",
              "    <tr>\n",
              "      <th>2020-09-04</th>\n",
              "      <td>1</td>\n",
              "      <td>198</td>\n",
              "    </tr>\n",
              "    <tr>\n",
              "      <th>2020-09-03</th>\n",
              "      <td>2</td>\n",
              "      <td>195</td>\n",
              "    </tr>\n",
              "    <tr>\n",
              "      <th>2020-09-02</th>\n",
              "      <td>3</td>\n",
              "      <td>267</td>\n",
              "    </tr>\n",
              "    <tr>\n",
              "      <th>2020-09-01</th>\n",
              "      <td>4</td>\n",
              "      <td>235</td>\n",
              "    </tr>\n",
              "    <tr>\n",
              "      <th>...</th>\n",
              "      <td>...</td>\n",
              "      <td>...</td>\n",
              "    </tr>\n",
              "    <tr>\n",
              "      <th>2019-10-05</th>\n",
              "      <td>336</td>\n",
              "      <td>0</td>\n",
              "    </tr>\n",
              "    <tr>\n",
              "      <th>2019-10-04</th>\n",
              "      <td>337</td>\n",
              "      <td>0</td>\n",
              "    </tr>\n",
              "    <tr>\n",
              "      <th>2019-10-03</th>\n",
              "      <td>338</td>\n",
              "      <td>0</td>\n",
              "    </tr>\n",
              "    <tr>\n",
              "      <th>2019-10-02</th>\n",
              "      <td>339</td>\n",
              "      <td>0</td>\n",
              "    </tr>\n",
              "    <tr>\n",
              "      <th>2019-10-01</th>\n",
              "      <td>340</td>\n",
              "      <td>0</td>\n",
              "    </tr>\n",
              "  </tbody>\n",
              "</table>\n",
              "<p>341 rows × 2 columns</p>\n",
              "</div>"
            ],
            "text/plain": [
              "            Unnamed: 0  일일확진자수\n",
              "날짜                            \n",
              "2020-09-05           0     168\n",
              "2020-09-04           1     198\n",
              "2020-09-03           2     195\n",
              "2020-09-02           3     267\n",
              "2020-09-01           4     235\n",
              "...                ...     ...\n",
              "2019-10-05         336       0\n",
              "2019-10-04         337       0\n",
              "2019-10-03         338       0\n",
              "2019-10-02         339       0\n",
              "2019-10-01         340       0\n",
              "\n",
              "[341 rows x 2 columns]"
            ]
          },
          "metadata": {
            "tags": []
          },
          "execution_count": 44
        }
      ]
    },
    {
      "cell_type": "code",
      "metadata": {
        "id": "780jRr4Qin0G",
        "colab_type": "code",
        "colab": {}
      },
      "source": [
        "data1 = df2[['일일확진자수']]\n"
      ],
      "execution_count": 69,
      "outputs": []
    },
    {
      "cell_type": "code",
      "metadata": {
        "id": "MP8M6zfPn82T",
        "colab_type": "code",
        "colab": {}
      },
      "source": [
        "data1 = data1.sort_values(by=['날짜'], ascending=[True])"
      ],
      "execution_count": 72,
      "outputs": []
    },
    {
      "cell_type": "code",
      "metadata": {
        "id": "ZsmKXd0foQ-p",
        "colab_type": "code",
        "colab": {
          "base_uri": "https://localhost:8080/",
          "height": 450
        },
        "outputId": "3337c49c-5c6b-4232-fcb9-4b586b462d73"
      },
      "source": [
        "data1"
      ],
      "execution_count": 73,
      "outputs": [
        {
          "output_type": "execute_result",
          "data": {
            "text/html": [
              "<div>\n",
              "<style scoped>\n",
              "    .dataframe tbody tr th:only-of-type {\n",
              "        vertical-align: middle;\n",
              "    }\n",
              "\n",
              "    .dataframe tbody tr th {\n",
              "        vertical-align: top;\n",
              "    }\n",
              "\n",
              "    .dataframe thead th {\n",
              "        text-align: right;\n",
              "    }\n",
              "</style>\n",
              "<table border=\"1\" class=\"dataframe\">\n",
              "  <thead>\n",
              "    <tr style=\"text-align: right;\">\n",
              "      <th></th>\n",
              "      <th>일일확진자수</th>\n",
              "    </tr>\n",
              "    <tr>\n",
              "      <th>날짜</th>\n",
              "      <th></th>\n",
              "    </tr>\n",
              "  </thead>\n",
              "  <tbody>\n",
              "    <tr>\n",
              "      <th>2019-10-01</th>\n",
              "      <td>0</td>\n",
              "    </tr>\n",
              "    <tr>\n",
              "      <th>2019-10-02</th>\n",
              "      <td>0</td>\n",
              "    </tr>\n",
              "    <tr>\n",
              "      <th>2019-10-03</th>\n",
              "      <td>0</td>\n",
              "    </tr>\n",
              "    <tr>\n",
              "      <th>2019-10-04</th>\n",
              "      <td>0</td>\n",
              "    </tr>\n",
              "    <tr>\n",
              "      <th>2019-10-05</th>\n",
              "      <td>0</td>\n",
              "    </tr>\n",
              "    <tr>\n",
              "      <th>...</th>\n",
              "      <td>...</td>\n",
              "    </tr>\n",
              "    <tr>\n",
              "      <th>2020-09-01</th>\n",
              "      <td>235</td>\n",
              "    </tr>\n",
              "    <tr>\n",
              "      <th>2020-09-02</th>\n",
              "      <td>267</td>\n",
              "    </tr>\n",
              "    <tr>\n",
              "      <th>2020-09-03</th>\n",
              "      <td>195</td>\n",
              "    </tr>\n",
              "    <tr>\n",
              "      <th>2020-09-04</th>\n",
              "      <td>198</td>\n",
              "    </tr>\n",
              "    <tr>\n",
              "      <th>2020-09-05</th>\n",
              "      <td>168</td>\n",
              "    </tr>\n",
              "  </tbody>\n",
              "</table>\n",
              "<p>341 rows × 1 columns</p>\n",
              "</div>"
            ],
            "text/plain": [
              "            일일확진자수\n",
              "날짜                \n",
              "2019-10-01       0\n",
              "2019-10-02       0\n",
              "2019-10-03       0\n",
              "2019-10-04       0\n",
              "2019-10-05       0\n",
              "...            ...\n",
              "2020-09-01     235\n",
              "2020-09-02     267\n",
              "2020-09-03     195\n",
              "2020-09-04     198\n",
              "2020-09-05     168\n",
              "\n",
              "[341 rows x 1 columns]"
            ]
          },
          "metadata": {
            "tags": []
          },
          "execution_count": 73
        }
      ]
    },
    {
      "cell_type": "code",
      "metadata": {
        "id": "KQWLFsntgHNO",
        "colab_type": "code",
        "colab": {}
      },
      "source": [
        "data2 = pd.DataFrame(sh)"
      ],
      "execution_count": 74,
      "outputs": []
    },
    {
      "cell_type": "code",
      "metadata": {
        "id": "IBRH1-FDk9kK",
        "colab_type": "code",
        "colab": {
          "base_uri": "https://localhost:8080/",
          "height": 450
        },
        "outputId": "d29600a9-e838-49ab-afd7-3f573b446e9d"
      },
      "source": [
        "data2"
      ],
      "execution_count": 75,
      "outputs": [
        {
          "output_type": "execute_result",
          "data": {
            "text/html": [
              "<div>\n",
              "<style scoped>\n",
              "    .dataframe tbody tr th:only-of-type {\n",
              "        vertical-align: middle;\n",
              "    }\n",
              "\n",
              "    .dataframe tbody tr th {\n",
              "        vertical-align: top;\n",
              "    }\n",
              "\n",
              "    .dataframe thead th {\n",
              "        text-align: right;\n",
              "    }\n",
              "</style>\n",
              "<table border=\"1\" class=\"dataframe\">\n",
              "  <thead>\n",
              "    <tr style=\"text-align: right;\">\n",
              "      <th></th>\n",
              "      <th>High</th>\n",
              "      <th>Low</th>\n",
              "      <th>Open</th>\n",
              "      <th>Close</th>\n",
              "      <th>Volume</th>\n",
              "      <th>Adj Close</th>\n",
              "    </tr>\n",
              "    <tr>\n",
              "      <th>Date</th>\n",
              "      <th></th>\n",
              "      <th></th>\n",
              "      <th></th>\n",
              "      <th></th>\n",
              "      <th></th>\n",
              "      <th></th>\n",
              "    </tr>\n",
              "  </thead>\n",
              "  <tbody>\n",
              "    <tr>\n",
              "      <th>2019-10-01</th>\n",
              "      <td>86000.0</td>\n",
              "      <td>82100.0</td>\n",
              "      <td>85800.0</td>\n",
              "      <td>82500.0</td>\n",
              "      <td>653709.0</td>\n",
              "      <td>82500.0</td>\n",
              "    </tr>\n",
              "    <tr>\n",
              "      <th>2019-10-02</th>\n",
              "      <td>82900.0</td>\n",
              "      <td>80700.0</td>\n",
              "      <td>82700.0</td>\n",
              "      <td>81000.0</td>\n",
              "      <td>541381.0</td>\n",
              "      <td>81000.0</td>\n",
              "    </tr>\n",
              "    <tr>\n",
              "      <th>2019-10-04</th>\n",
              "      <td>81500.0</td>\n",
              "      <td>79200.0</td>\n",
              "      <td>81000.0</td>\n",
              "      <td>79800.0</td>\n",
              "      <td>435223.0</td>\n",
              "      <td>79800.0</td>\n",
              "    </tr>\n",
              "    <tr>\n",
              "      <th>2019-10-07</th>\n",
              "      <td>81500.0</td>\n",
              "      <td>79800.0</td>\n",
              "      <td>80400.0</td>\n",
              "      <td>80200.0</td>\n",
              "      <td>236583.0</td>\n",
              "      <td>80200.0</td>\n",
              "    </tr>\n",
              "    <tr>\n",
              "      <th>2019-10-08</th>\n",
              "      <td>81300.0</td>\n",
              "      <td>80200.0</td>\n",
              "      <td>80400.0</td>\n",
              "      <td>80800.0</td>\n",
              "      <td>266694.0</td>\n",
              "      <td>80800.0</td>\n",
              "    </tr>\n",
              "    <tr>\n",
              "      <th>...</th>\n",
              "      <td>...</td>\n",
              "      <td>...</td>\n",
              "      <td>...</td>\n",
              "      <td>...</td>\n",
              "      <td>...</td>\n",
              "      <td>...</td>\n",
              "    </tr>\n",
              "    <tr>\n",
              "      <th>2020-08-31</th>\n",
              "      <td>71600.0</td>\n",
              "      <td>70300.0</td>\n",
              "      <td>71600.0</td>\n",
              "      <td>70300.0</td>\n",
              "      <td>348867.0</td>\n",
              "      <td>70300.0</td>\n",
              "    </tr>\n",
              "    <tr>\n",
              "      <th>2020-09-01</th>\n",
              "      <td>73400.0</td>\n",
              "      <td>70300.0</td>\n",
              "      <td>70700.0</td>\n",
              "      <td>72500.0</td>\n",
              "      <td>696976.0</td>\n",
              "      <td>72500.0</td>\n",
              "    </tr>\n",
              "    <tr>\n",
              "      <th>2020-09-02</th>\n",
              "      <td>77000.0</td>\n",
              "      <td>73600.0</td>\n",
              "      <td>73700.0</td>\n",
              "      <td>75800.0</td>\n",
              "      <td>1333521.0</td>\n",
              "      <td>75800.0</td>\n",
              "    </tr>\n",
              "    <tr>\n",
              "      <th>2020-09-03</th>\n",
              "      <td>77800.0</td>\n",
              "      <td>75100.0</td>\n",
              "      <td>76700.0</td>\n",
              "      <td>75300.0</td>\n",
              "      <td>1086752.0</td>\n",
              "      <td>75300.0</td>\n",
              "    </tr>\n",
              "    <tr>\n",
              "      <th>2020-09-04</th>\n",
              "      <td>75300.0</td>\n",
              "      <td>73500.0</td>\n",
              "      <td>73900.0</td>\n",
              "      <td>74600.0</td>\n",
              "      <td>596400.0</td>\n",
              "      <td>74600.0</td>\n",
              "    </tr>\n",
              "  </tbody>\n",
              "</table>\n",
              "<p>231 rows × 6 columns</p>\n",
              "</div>"
            ],
            "text/plain": [
              "               High      Low     Open    Close     Volume  Adj Close\n",
              "Date                                                                \n",
              "2019-10-01  86000.0  82100.0  85800.0  82500.0   653709.0    82500.0\n",
              "2019-10-02  82900.0  80700.0  82700.0  81000.0   541381.0    81000.0\n",
              "2019-10-04  81500.0  79200.0  81000.0  79800.0   435223.0    79800.0\n",
              "2019-10-07  81500.0  79800.0  80400.0  80200.0   236583.0    80200.0\n",
              "2019-10-08  81300.0  80200.0  80400.0  80800.0   266694.0    80800.0\n",
              "...             ...      ...      ...      ...        ...        ...\n",
              "2020-08-31  71600.0  70300.0  71600.0  70300.0   348867.0    70300.0\n",
              "2020-09-01  73400.0  70300.0  70700.0  72500.0   696976.0    72500.0\n",
              "2020-09-02  77000.0  73600.0  73700.0  75800.0  1333521.0    75800.0\n",
              "2020-09-03  77800.0  75100.0  76700.0  75300.0  1086752.0    75300.0\n",
              "2020-09-04  75300.0  73500.0  73900.0  74600.0   596400.0    74600.0\n",
              "\n",
              "[231 rows x 6 columns]"
            ]
          },
          "metadata": {
            "tags": []
          },
          "execution_count": 75
        }
      ]
    },
    {
      "cell_type": "code",
      "metadata": {
        "id": "a92oLgr8gSTD",
        "colab_type": "code",
        "colab": {}
      },
      "source": [
        "data_1 = pd.DataFrame(data1['일일확진자수'])"
      ],
      "execution_count": 76,
      "outputs": []
    },
    {
      "cell_type": "code",
      "metadata": {
        "id": "XBqF9Yi7gsgQ",
        "colab_type": "code",
        "colab": {}
      },
      "source": [
        "data_2 = pd.DataFrame(data2['Volume'])"
      ],
      "execution_count": 77,
      "outputs": []
    },
    {
      "cell_type": "code",
      "metadata": {
        "id": "juwGsWbGgwJL",
        "colab_type": "code",
        "colab": {}
      },
      "source": [
        "result1 = pd.concat([data_1,data_2], axis=1)"
      ],
      "execution_count": 78,
      "outputs": []
    },
    {
      "cell_type": "code",
      "metadata": {
        "id": "EEgoVxInhsAz",
        "colab_type": "code",
        "colab": {
          "base_uri": "https://localhost:8080/",
          "height": 419
        },
        "outputId": "9cbe6f42-ba2f-4d8c-d0a6-9128a6e6bddc"
      },
      "source": [
        "result1"
      ],
      "execution_count": 79,
      "outputs": [
        {
          "output_type": "execute_result",
          "data": {
            "text/html": [
              "<div>\n",
              "<style scoped>\n",
              "    .dataframe tbody tr th:only-of-type {\n",
              "        vertical-align: middle;\n",
              "    }\n",
              "\n",
              "    .dataframe tbody tr th {\n",
              "        vertical-align: top;\n",
              "    }\n",
              "\n",
              "    .dataframe thead th {\n",
              "        text-align: right;\n",
              "    }\n",
              "</style>\n",
              "<table border=\"1\" class=\"dataframe\">\n",
              "  <thead>\n",
              "    <tr style=\"text-align: right;\">\n",
              "      <th></th>\n",
              "      <th>일일확진자수</th>\n",
              "      <th>Volume</th>\n",
              "    </tr>\n",
              "  </thead>\n",
              "  <tbody>\n",
              "    <tr>\n",
              "      <th>2019-10-01</th>\n",
              "      <td>0</td>\n",
              "      <td>653709.0</td>\n",
              "    </tr>\n",
              "    <tr>\n",
              "      <th>2019-10-02</th>\n",
              "      <td>0</td>\n",
              "      <td>541381.0</td>\n",
              "    </tr>\n",
              "    <tr>\n",
              "      <th>2019-10-03</th>\n",
              "      <td>0</td>\n",
              "      <td>NaN</td>\n",
              "    </tr>\n",
              "    <tr>\n",
              "      <th>2019-10-04</th>\n",
              "      <td>0</td>\n",
              "      <td>435223.0</td>\n",
              "    </tr>\n",
              "    <tr>\n",
              "      <th>2019-10-05</th>\n",
              "      <td>0</td>\n",
              "      <td>NaN</td>\n",
              "    </tr>\n",
              "    <tr>\n",
              "      <th>...</th>\n",
              "      <td>...</td>\n",
              "      <td>...</td>\n",
              "    </tr>\n",
              "    <tr>\n",
              "      <th>2020-09-01</th>\n",
              "      <td>235</td>\n",
              "      <td>696976.0</td>\n",
              "    </tr>\n",
              "    <tr>\n",
              "      <th>2020-09-02</th>\n",
              "      <td>267</td>\n",
              "      <td>1333521.0</td>\n",
              "    </tr>\n",
              "    <tr>\n",
              "      <th>2020-09-03</th>\n",
              "      <td>195</td>\n",
              "      <td>1086752.0</td>\n",
              "    </tr>\n",
              "    <tr>\n",
              "      <th>2020-09-04</th>\n",
              "      <td>198</td>\n",
              "      <td>596400.0</td>\n",
              "    </tr>\n",
              "    <tr>\n",
              "      <th>2020-09-05</th>\n",
              "      <td>168</td>\n",
              "      <td>NaN</td>\n",
              "    </tr>\n",
              "  </tbody>\n",
              "</table>\n",
              "<p>341 rows × 2 columns</p>\n",
              "</div>"
            ],
            "text/plain": [
              "            일일확진자수     Volume\n",
              "2019-10-01       0   653709.0\n",
              "2019-10-02       0   541381.0\n",
              "2019-10-03       0        NaN\n",
              "2019-10-04       0   435223.0\n",
              "2019-10-05       0        NaN\n",
              "...            ...        ...\n",
              "2020-09-01     235   696976.0\n",
              "2020-09-02     267  1333521.0\n",
              "2020-09-03     195  1086752.0\n",
              "2020-09-04     198   596400.0\n",
              "2020-09-05     168        NaN\n",
              "\n",
              "[341 rows x 2 columns]"
            ]
          },
          "metadata": {
            "tags": []
          },
          "execution_count": 79
        }
      ]
    },
    {
      "cell_type": "code",
      "metadata": {
        "id": "OO286rTLhtSa",
        "colab_type": "code",
        "colab": {}
      },
      "source": [
        "corr = result1.corr(method='pearson')"
      ],
      "execution_count": 82,
      "outputs": []
    },
    {
      "cell_type": "code",
      "metadata": {
        "id": "fdaiXHCrpuDQ",
        "colab_type": "code",
        "colab": {
          "base_uri": "https://localhost:8080/",
          "height": 111
        },
        "outputId": "5e08e64c-7dcb-4425-a50a-314be20f56f6"
      },
      "source": [
        "corr"
      ],
      "execution_count": 84,
      "outputs": [
        {
          "output_type": "execute_result",
          "data": {
            "text/html": [
              "<div>\n",
              "<style scoped>\n",
              "    .dataframe tbody tr th:only-of-type {\n",
              "        vertical-align: middle;\n",
              "    }\n",
              "\n",
              "    .dataframe tbody tr th {\n",
              "        vertical-align: top;\n",
              "    }\n",
              "\n",
              "    .dataframe thead th {\n",
              "        text-align: right;\n",
              "    }\n",
              "</style>\n",
              "<table border=\"1\" class=\"dataframe\">\n",
              "  <thead>\n",
              "    <tr style=\"text-align: right;\">\n",
              "      <th></th>\n",
              "      <th>일일확진자수</th>\n",
              "      <th>Volume</th>\n",
              "    </tr>\n",
              "  </thead>\n",
              "  <tbody>\n",
              "    <tr>\n",
              "      <th>일일확진자수</th>\n",
              "      <td>1.000000</td>\n",
              "      <td>0.054106</td>\n",
              "    </tr>\n",
              "    <tr>\n",
              "      <th>Volume</th>\n",
              "      <td>0.054106</td>\n",
              "      <td>1.000000</td>\n",
              "    </tr>\n",
              "  </tbody>\n",
              "</table>\n",
              "</div>"
            ],
            "text/plain": [
              "          일일확진자수    Volume\n",
              "일일확진자수  1.000000  0.054106\n",
              "Volume  0.054106  1.000000"
            ]
          },
          "metadata": {
            "tags": []
          },
          "execution_count": 84
        }
      ]
    },
    {
      "cell_type": "code",
      "metadata": {
        "id": "d_XSyTDypvJf",
        "colab_type": "code",
        "colab": {}
      },
      "source": [
        "# 종가\n",
        "data_close = pd.DataFrame(data2['Close'])"
      ],
      "execution_count": 89,
      "outputs": []
    },
    {
      "cell_type": "code",
      "metadata": {
        "id": "Td1qC4GosySb",
        "colab_type": "code",
        "colab": {}
      },
      "source": [
        "result2 = pd.concat([data_1, data_close], axis=1)"
      ],
      "execution_count": 90,
      "outputs": []
    },
    {
      "cell_type": "code",
      "metadata": {
        "id": "r-4GaY8Fs4c1",
        "colab_type": "code",
        "colab": {
          "base_uri": "https://localhost:8080/",
          "height": 419
        },
        "outputId": "00ac2ea4-d1bd-4205-adb6-1f1a9f3d8c40"
      },
      "source": [
        "result2"
      ],
      "execution_count": 91,
      "outputs": [
        {
          "output_type": "execute_result",
          "data": {
            "text/html": [
              "<div>\n",
              "<style scoped>\n",
              "    .dataframe tbody tr th:only-of-type {\n",
              "        vertical-align: middle;\n",
              "    }\n",
              "\n",
              "    .dataframe tbody tr th {\n",
              "        vertical-align: top;\n",
              "    }\n",
              "\n",
              "    .dataframe thead th {\n",
              "        text-align: right;\n",
              "    }\n",
              "</style>\n",
              "<table border=\"1\" class=\"dataframe\">\n",
              "  <thead>\n",
              "    <tr style=\"text-align: right;\">\n",
              "      <th></th>\n",
              "      <th>일일확진자수</th>\n",
              "      <th>Close</th>\n",
              "    </tr>\n",
              "  </thead>\n",
              "  <tbody>\n",
              "    <tr>\n",
              "      <th>2019-10-01</th>\n",
              "      <td>0</td>\n",
              "      <td>82500.0</td>\n",
              "    </tr>\n",
              "    <tr>\n",
              "      <th>2019-10-02</th>\n",
              "      <td>0</td>\n",
              "      <td>81000.0</td>\n",
              "    </tr>\n",
              "    <tr>\n",
              "      <th>2019-10-03</th>\n",
              "      <td>0</td>\n",
              "      <td>NaN</td>\n",
              "    </tr>\n",
              "    <tr>\n",
              "      <th>2019-10-04</th>\n",
              "      <td>0</td>\n",
              "      <td>79800.0</td>\n",
              "    </tr>\n",
              "    <tr>\n",
              "      <th>2019-10-05</th>\n",
              "      <td>0</td>\n",
              "      <td>NaN</td>\n",
              "    </tr>\n",
              "    <tr>\n",
              "      <th>...</th>\n",
              "      <td>...</td>\n",
              "      <td>...</td>\n",
              "    </tr>\n",
              "    <tr>\n",
              "      <th>2020-09-01</th>\n",
              "      <td>235</td>\n",
              "      <td>72500.0</td>\n",
              "    </tr>\n",
              "    <tr>\n",
              "      <th>2020-09-02</th>\n",
              "      <td>267</td>\n",
              "      <td>75800.0</td>\n",
              "    </tr>\n",
              "    <tr>\n",
              "      <th>2020-09-03</th>\n",
              "      <td>195</td>\n",
              "      <td>75300.0</td>\n",
              "    </tr>\n",
              "    <tr>\n",
              "      <th>2020-09-04</th>\n",
              "      <td>198</td>\n",
              "      <td>74600.0</td>\n",
              "    </tr>\n",
              "    <tr>\n",
              "      <th>2020-09-05</th>\n",
              "      <td>168</td>\n",
              "      <td>NaN</td>\n",
              "    </tr>\n",
              "  </tbody>\n",
              "</table>\n",
              "<p>341 rows × 2 columns</p>\n",
              "</div>"
            ],
            "text/plain": [
              "            일일확진자수    Close\n",
              "2019-10-01       0  82500.0\n",
              "2019-10-02       0  81000.0\n",
              "2019-10-03       0      NaN\n",
              "2019-10-04       0  79800.0\n",
              "2019-10-05       0      NaN\n",
              "...            ...      ...\n",
              "2020-09-01     235  72500.0\n",
              "2020-09-02     267  75800.0\n",
              "2020-09-03     195  75300.0\n",
              "2020-09-04     198  74600.0\n",
              "2020-09-05     168      NaN\n",
              "\n",
              "[341 rows x 2 columns]"
            ]
          },
          "metadata": {
            "tags": []
          },
          "execution_count": 91
        }
      ]
    },
    {
      "cell_type": "code",
      "metadata": {
        "id": "zzQHBNxWs5fM",
        "colab_type": "code",
        "colab": {}
      },
      "source": [
        "corr = result2.corr(method='pearson')"
      ],
      "execution_count": 92,
      "outputs": []
    },
    {
      "cell_type": "code",
      "metadata": {
        "id": "9Gih7bVstFr8",
        "colab_type": "code",
        "colab": {
          "base_uri": "https://localhost:8080/",
          "height": 111
        },
        "outputId": "f3cd1948-b5c1-420c-aa22-0b5b51c40166"
      },
      "source": [
        "corr"
      ],
      "execution_count": 93,
      "outputs": [
        {
          "output_type": "execute_result",
          "data": {
            "text/html": [
              "<div>\n",
              "<style scoped>\n",
              "    .dataframe tbody tr th:only-of-type {\n",
              "        vertical-align: middle;\n",
              "    }\n",
              "\n",
              "    .dataframe tbody tr th {\n",
              "        vertical-align: top;\n",
              "    }\n",
              "\n",
              "    .dataframe thead th {\n",
              "        text-align: right;\n",
              "    }\n",
              "</style>\n",
              "<table border=\"1\" class=\"dataframe\">\n",
              "  <thead>\n",
              "    <tr style=\"text-align: right;\">\n",
              "      <th></th>\n",
              "      <th>일일확진자수</th>\n",
              "      <th>Close</th>\n",
              "    </tr>\n",
              "  </thead>\n",
              "  <tbody>\n",
              "    <tr>\n",
              "      <th>일일확진자수</th>\n",
              "      <td>1.000000</td>\n",
              "      <td>-0.206266</td>\n",
              "    </tr>\n",
              "    <tr>\n",
              "      <th>Close</th>\n",
              "      <td>-0.206266</td>\n",
              "      <td>1.000000</td>\n",
              "    </tr>\n",
              "  </tbody>\n",
              "</table>\n",
              "</div>"
            ],
            "text/plain": [
              "          일일확진자수     Close\n",
              "일일확진자수  1.000000 -0.206266\n",
              "Close  -0.206266  1.000000"
            ]
          },
          "metadata": {
            "tags": []
          },
          "execution_count": 93
        }
      ]
    },
    {
      "cell_type": "code",
      "metadata": {
        "id": "nI161GBqtGss",
        "colab_type": "code",
        "colab": {}
      },
      "source": [
        "# 시가\n",
        "data_open = pd.DataFrame(data2['Open'])"
      ],
      "execution_count": 104,
      "outputs": []
    },
    {
      "cell_type": "code",
      "metadata": {
        "id": "fmnywJ5DtwZ1",
        "colab_type": "code",
        "colab": {}
      },
      "source": [
        "result3 = pd.concat([data_1, data_open], axis=1)"
      ],
      "execution_count": 105,
      "outputs": []
    },
    {
      "cell_type": "code",
      "metadata": {
        "id": "Yux9SxXiuLGV",
        "colab_type": "code",
        "colab": {
          "base_uri": "https://localhost:8080/",
          "height": 419
        },
        "outputId": "349f8bbe-96a2-407e-c530-0a6ef2240039"
      },
      "source": [
        "result3"
      ],
      "execution_count": 106,
      "outputs": [
        {
          "output_type": "execute_result",
          "data": {
            "text/html": [
              "<div>\n",
              "<style scoped>\n",
              "    .dataframe tbody tr th:only-of-type {\n",
              "        vertical-align: middle;\n",
              "    }\n",
              "\n",
              "    .dataframe tbody tr th {\n",
              "        vertical-align: top;\n",
              "    }\n",
              "\n",
              "    .dataframe thead th {\n",
              "        text-align: right;\n",
              "    }\n",
              "</style>\n",
              "<table border=\"1\" class=\"dataframe\">\n",
              "  <thead>\n",
              "    <tr style=\"text-align: right;\">\n",
              "      <th></th>\n",
              "      <th>일일확진자수</th>\n",
              "      <th>Open</th>\n",
              "    </tr>\n",
              "  </thead>\n",
              "  <tbody>\n",
              "    <tr>\n",
              "      <th>2019-10-01</th>\n",
              "      <td>0</td>\n",
              "      <td>85800.0</td>\n",
              "    </tr>\n",
              "    <tr>\n",
              "      <th>2019-10-02</th>\n",
              "      <td>0</td>\n",
              "      <td>82700.0</td>\n",
              "    </tr>\n",
              "    <tr>\n",
              "      <th>2019-10-03</th>\n",
              "      <td>0</td>\n",
              "      <td>NaN</td>\n",
              "    </tr>\n",
              "    <tr>\n",
              "      <th>2019-10-04</th>\n",
              "      <td>0</td>\n",
              "      <td>81000.0</td>\n",
              "    </tr>\n",
              "    <tr>\n",
              "      <th>2019-10-05</th>\n",
              "      <td>0</td>\n",
              "      <td>NaN</td>\n",
              "    </tr>\n",
              "    <tr>\n",
              "      <th>...</th>\n",
              "      <td>...</td>\n",
              "      <td>...</td>\n",
              "    </tr>\n",
              "    <tr>\n",
              "      <th>2020-09-01</th>\n",
              "      <td>235</td>\n",
              "      <td>70700.0</td>\n",
              "    </tr>\n",
              "    <tr>\n",
              "      <th>2020-09-02</th>\n",
              "      <td>267</td>\n",
              "      <td>73700.0</td>\n",
              "    </tr>\n",
              "    <tr>\n",
              "      <th>2020-09-03</th>\n",
              "      <td>195</td>\n",
              "      <td>76700.0</td>\n",
              "    </tr>\n",
              "    <tr>\n",
              "      <th>2020-09-04</th>\n",
              "      <td>198</td>\n",
              "      <td>73900.0</td>\n",
              "    </tr>\n",
              "    <tr>\n",
              "      <th>2020-09-05</th>\n",
              "      <td>168</td>\n",
              "      <td>NaN</td>\n",
              "    </tr>\n",
              "  </tbody>\n",
              "</table>\n",
              "<p>341 rows × 2 columns</p>\n",
              "</div>"
            ],
            "text/plain": [
              "            일일확진자수     Open\n",
              "2019-10-01       0  85800.0\n",
              "2019-10-02       0  82700.0\n",
              "2019-10-03       0      NaN\n",
              "2019-10-04       0  81000.0\n",
              "2019-10-05       0      NaN\n",
              "...            ...      ...\n",
              "2020-09-01     235  70700.0\n",
              "2020-09-02     267  73700.0\n",
              "2020-09-03     195  76700.0\n",
              "2020-09-04     198  73900.0\n",
              "2020-09-05     168      NaN\n",
              "\n",
              "[341 rows x 2 columns]"
            ]
          },
          "metadata": {
            "tags": []
          },
          "execution_count": 106
        }
      ]
    },
    {
      "cell_type": "code",
      "metadata": {
        "id": "qR8Qh17tuLnc",
        "colab_type": "code",
        "colab": {}
      },
      "source": [
        "corr = result3.corr(method='pearson')"
      ],
      "execution_count": 107,
      "outputs": []
    },
    {
      "cell_type": "code",
      "metadata": {
        "id": "LxbIJsVUuSEt",
        "colab_type": "code",
        "colab": {
          "base_uri": "https://localhost:8080/",
          "height": 111
        },
        "outputId": "955261fb-fcf0-44f8-b075-192cbeb45544"
      },
      "source": [
        "corr"
      ],
      "execution_count": 108,
      "outputs": [
        {
          "output_type": "execute_result",
          "data": {
            "text/html": [
              "<div>\n",
              "<style scoped>\n",
              "    .dataframe tbody tr th:only-of-type {\n",
              "        vertical-align: middle;\n",
              "    }\n",
              "\n",
              "    .dataframe tbody tr th {\n",
              "        vertical-align: top;\n",
              "    }\n",
              "\n",
              "    .dataframe thead th {\n",
              "        text-align: right;\n",
              "    }\n",
              "</style>\n",
              "<table border=\"1\" class=\"dataframe\">\n",
              "  <thead>\n",
              "    <tr style=\"text-align: right;\">\n",
              "      <th></th>\n",
              "      <th>일일확진자수</th>\n",
              "      <th>Open</th>\n",
              "    </tr>\n",
              "  </thead>\n",
              "  <tbody>\n",
              "    <tr>\n",
              "      <th>일일확진자수</th>\n",
              "      <td>1.000000</td>\n",
              "      <td>-0.197311</td>\n",
              "    </tr>\n",
              "    <tr>\n",
              "      <th>Open</th>\n",
              "      <td>-0.197311</td>\n",
              "      <td>1.000000</td>\n",
              "    </tr>\n",
              "  </tbody>\n",
              "</table>\n",
              "</div>"
            ],
            "text/plain": [
              "          일일확진자수      Open\n",
              "일일확진자수  1.000000 -0.197311\n",
              "Open   -0.197311  1.000000"
            ]
          },
          "metadata": {
            "tags": []
          },
          "execution_count": 108
        }
      ]
    },
    {
      "cell_type": "code",
      "metadata": {
        "id": "AX_fbmSnuSbc",
        "colab_type": "code",
        "colab": {}
      },
      "source": [
        ""
      ],
      "execution_count": null,
      "outputs": []
    }
  ]
}